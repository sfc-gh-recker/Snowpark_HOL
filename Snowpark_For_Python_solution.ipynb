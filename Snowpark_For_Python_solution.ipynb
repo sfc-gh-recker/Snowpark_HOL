{
 "cells": [
  {
   "cell_type": "markdown",
   "id": "5f02f3fc",
   "metadata": {},
   "source": [
    "# Snowpark For Python -- Advertising Spend and ROI Prediction\n",
    "\n",
    "### Objective\n",
    "\n",
    "In this session, we will train a Linear Regression model to predict future ROI (Return On Investment) of variable ad spend budgets across multiple channels including search, video, social media, and email using Snowpark for Python and scikit-learn. \n",
    "\n",
    "In this Notebook, we will:\n",
    "\n",
    "* Create a Session object and securely connect to Snowflake\n",
    "* Load data from Snowflake table into Snowpark DataFrame\n",
    "* Perform Exploratory Data Analysis (EDA) on Snowpark DataFrame\n",
    "* Pivot and Join datasets\n",
    "* Create a Python Stored Procedure to deploy model training code on Snowflake\n",
    "* Create Python Scalar and Vectorized User-Defined Functions (UDF) for inference on new data\n",
    "* Create a Snowflake Task to automate (re)training of the model\n",
    "\n",
    "\n",
    "### Instructions\n",
    "\n",
    "This workshop is meant to be hands-on and we've built in exercises throughout the notebook. Whenever you see **YOUR TURN**, this is your queue to complete the following exercise. If you get stuck, the solutions can be found in the *Snowpark_For_Python_Solution.ipynb* notebook in the same repository.\n",
    "\n",
    "Additionally, when we create the **stored procedure**, **UDF**, and **Task** for model training and scoring, you'll need to add your initials or a unique identifier to the name. This is because we are using the same database and schema and don't want your functions overwriting eachother. There are reminders below as well when you get to that part of the code."
   ]
  },
  {
   "attachments": {},
   "cell_type": "markdown",
   "id": "909d4a4b",
   "metadata": {},
   "source": [
    "### Prerequisites\n",
    "\n",
    "  - Log into snowflake account and switch to ACCOUNTADMIN role\n",
    "    - Click on the **Billing** on the left side panel\n",
    "    - Click on [Terms and Billing](https://app.snowflake.com/terms-and-billing)\n",
    "    - Read and accept terms to continue with the workshop\n",
    "  - Python 3.8\n",
    "  - Create and Activate Conda Environment (OR, use any other Python environment with Python 3.8) \n",
    "    - conda create --name snowpark -c https://repo.anaconda.com/pkgs/snowflake python=3.8\n",
    "    - conda activate snowpark\n",
    "  - Install Snowpark for Python, Streamlit and other libraries in Conda environment\n",
    "    - conda install -c https://repo.anaconda.com/pkgs/snowflake snowflake-snowpark-python pandas notebook scikit-learn cachetools nbformat plotly\n",
    "  - Update [connection.json](connection.json) with your Snowflake account details and credentials"
   ]
  },
  {
   "cell_type": "markdown",
   "id": "a1c54315",
   "metadata": {},
   "source": [
    "<div style='text-align: center'>\n",
    "    <img src=\"assets/snowpark.png\" alt=\"Snowpark\" style=\"width: 75%;\"/>\n",
    "</div>"
   ]
  },
  {
   "cell_type": "markdown",
   "id": "6e2e1c4a",
   "metadata": {},
   "source": [
    "### Import Libraries"
   ]
  },
  {
   "cell_type": "code",
   "execution_count": 101,
   "id": "persistent-reasoning",
   "metadata": {
    "papermill": {
     "duration": 0.872363,
     "end_time": "2021-05-15T09:33:41.413139",
     "exception": false,
     "start_time": "2021-05-15T09:33:40.540776",
     "status": "completed"
    },
    "tags": []
   },
   "outputs": [],
   "source": [
    "# Snowpark for Python\n",
    "from snowflake.snowpark.session import Session\n",
    "import snowflake.snowpark.functions as F\n",
    "from snowflake.snowpark.version import VERSION\n",
    "\n",
    "# Misc\n",
    "import json\n",
    "import sys\n",
    "import logging\n",
    "\n",
    "import numpy as np\n",
    "import plotly.express as px\n",
    "\n",
    "logger = logging.getLogger(\"snowflake.snowpark.session\")\n",
    "logger.setLevel(logging.ERROR)"
   ]
  },
  {
   "cell_type": "markdown",
   "id": "b855e80e",
   "metadata": {},
   "source": [
    "### Establish Secure Connection to Snowflake\n",
    "\n",
    "Using the Snowpark API, it’s quick and easy to establish a secure connection between Snowflake and Notebook.\n",
    "\n",
    " *Connection options: Username/Password, MFA, OAuth, Okta, SSO*"
   ]
  },
  {
   "cell_type": "code",
   "execution_count": 102,
   "id": "rotary-dairy",
   "metadata": {
    "papermill": {
     "duration": 0.092202,
     "end_time": "2021-05-15T09:34:12.813622",
     "exception": false,
     "start_time": "2021-05-15T09:34:12.721420",
     "status": "completed"
    },
    "tags": []
   },
   "outputs": [
    {
     "name": "stdout",
     "output_type": "stream",
     "text": [
      "User: JOHN\n",
      "Role: SNOWPARK_WORKSHOP_ROLE\n",
      "Database: DB_SNOWPARK_HOL\n",
      "Snowflake version: 7.24.2\n",
      "Schema: ROI_PREDICTION\n",
      "Warehouse: WH_SNOWPARK_HOL\n",
      "Snowpark for Python version: 1.4.0\n"
     ]
    }
   ],
   "source": [
    "#Test Code\n",
    "# Create Snowflake Session object\n",
    "connection_parameters = json.load(open('connection.json'))\n",
    "session = Session.builder.configs(connection_parameters).create()\n",
    "#session.sql_simplifier_enabled = True\n",
    "\n",
    "#session.sql('use role snowpark_workshop_role').collect()\n",
    "session.sql('use warehouse wh_snowpark_hol').collect()\n",
    "#session.sql('use database DB_SNOWPARK_HOL').collect()\n",
    "#session.sql('use SCHEMA ROI_PREDICTION').collect()\n",
    "\n",
    "snowflake_environment = session.sql(\n",
    "    '''select\n",
    "        current_user()\n",
    "        ,current_role()\n",
    "        ,current_database()\n",
    "        ,current_schema()\n",
    "        ,current_version()\n",
    "        ,current_warehouse()'''\n",
    "    ).collect()\n",
    "\n",
    "snowpark_version = VERSION\n",
    "\n",
    "# Current Environment Details\n",
    "print(f'User: {snowflake_environment[0][0]}')\n",
    "print(f'Role: {snowflake_environment[0][1]}')\n",
    "print(f\"Database: {snowflake_environment[0][2]}\")\n",
    "print(f'Snowflake version: {snowflake_environment[0][4]}')\n",
    "print(f\"Schema: {snowflake_environment[0][3]}\")\n",
    "print(f\"Warehouse: {snowflake_environment[0][5]}\")\n",
    "print(f'Snowpark for Python version: {snowpark_version[0]}.{snowpark_version[1]}.{snowpark_version[2]}')\n",
    "\n"
   ]
  },
  {
   "attachments": {},
   "cell_type": "markdown",
   "id": "78ff9bbb",
   "metadata": {},
   "source": [
    "### Load Aggregated Campaign Spend Data from Snowflake table into Snowpark DataFrame\n",
    "\n",
    "Let's first load the campaign spend data. This table contains ad click data that has been aggregated to show daily spend across digital ad channels including search engines, social media, email and video.\n",
    "\n",
    "NOTE: Ways to load data in a Snowpark Dataframe\n",
    "* ```session.table(\"db.schema.table\")```\n",
    "* ```session.sql(\"select col1, col2... from tableName\")```\n",
    "* ```session.read.parquet(\"@stageName/path/to/file\")```\n",
    "* ```session.create_dataframe([1,2,3], schema=[\"col1\"])```\n",
    "\n",
    "TIP: For more information on Snowpark DataFrames, refer to the [docs](https://docs.snowflake.com/en/developer-guide/snowpark/reference/python/_autosummary/snowflake.snowpark.html#snowflake.snowpark.DataFrame).\n"
   ]
  },
  {
   "cell_type": "code",
   "execution_count": 103,
   "id": "d80bed43",
   "metadata": {},
   "outputs": [
    {
     "data": {
      "text/plain": [
       "{'queries': ['SELECT  *  FROM (CAMPAIGN_SPEND)'], 'post_actions': []}"
      ]
     },
     "execution_count": 103,
     "metadata": {},
     "output_type": "execute_result"
    }
   ],
   "source": [
    "snow_df_spend = session.table('CAMPAIGN_SPEND')\n",
    "snow_df_spend.queries"
   ]
  },
  {
   "cell_type": "markdown",
   "id": "364e070a",
   "metadata": {},
   "source": [
    "<div style='text-align: center'>\n",
    "    <img src=\"assets/snowpark_python_api.png\" alt=\"Snowpark\" style=\"width: 75%;\"/>\n",
    "</div>"
   ]
  },
  {
   "cell_type": "code",
   "execution_count": 104,
   "id": "e7129be1",
   "metadata": {},
   "outputs": [
    {
     "name": "stdout",
     "output_type": "stream",
     "text": [
      "------------------------------------------------------------------------------------------------------\n",
      "|\"CAMPAIGN\"              |\"CHANNEL\"      |\"DATE\"      |\"TOTAL_CLICKS\"  |\"TOTAL_COST\"  |\"ADS_SERVED\"  |\n",
      "------------------------------------------------------------------------------------------------------\n",
      "|winter_sports           |video          |2012-06-03  |213             |1205          |426           |\n",
      "|sports_across_cultures  |video          |2012-06-02  |87              |454           |157           |\n",
      "|building_community      |search_engine  |2012-06-03  |66              |354           |134           |\n",
      "|world_series            |social_media   |2017-12-28  |72              |323           |149           |\n",
      "|winter_sports           |email          |2018-02-09  |252             |1706          |473           |\n",
      "|spring_break            |video          |2017-11-14  |162             |852           |304           |\n",
      "|nba_finals              |email          |2017-11-22  |68              |417           |134           |\n",
      "|winter_sports           |social_media   |2018-03-10  |227             |917           |454           |\n",
      "|spring_break            |search_engine  |2017-08-30  |150             |1170          |302           |\n",
      "|uefa                    |video          |2017-09-30  |81              |543           |168           |\n",
      "|uefa                    |video          |2018-01-23  |73              |375           |141           |\n",
      "|sports_across_cultures  |search_engine  |2017-10-12  |73              |472           |143           |\n",
      "|winter_sports           |social_media   |2018-01-14  |207             |736           |418           |\n",
      "|youth_on_course         |search_engine  |2018-03-29  |164             |925           |291           |\n",
      "|memorial_day            |social_media   |2018-01-18  |131             |526           |281           |\n",
      "|family_history          |video          |2018-03-24  |88              |455           |166           |\n",
      "|memorial_day            |search_engine  |2017-12-09  |134             |887           |262           |\n",
      "|youth_in_action         |search_engine  |2018-03-24  |194             |1459          |411           |\n",
      "|winter_sports           |video          |2017-10-25  |208             |1310          |431           |\n",
      "|thanksgiving_football   |video          |2017-11-10  |82              |507           |165           |\n",
      "------------------------------------------------------------------------------------------------------\n",
      "\n"
     ]
    },
    {
     "data": {
      "text/plain": [
       "[QueryRecord(query_id='01addd43-0004-ae05-003d-7a87005413e2', sql_text='SELECT  *  FROM CAMPAIGN_SPEND LIMIT 20')]"
      ]
     },
     "execution_count": 104,
     "metadata": {},
     "output_type": "execute_result"
    }
   ],
   "source": [
    "# Action sends the DF SQL for execution\n",
    "# Note: history object provides the query ID which can be helpful for debugging as well as the SQL query executed on the server\n",
    "with session.query_history() as history:\n",
    "    snow_df_spend.show(20)\n",
    "\n",
    "history.queries"
   ]
  },
  {
   "attachments": {},
   "cell_type": "markdown",
   "id": "ee6be176",
   "metadata": {},
   "source": [
    "### Pandas vs Snowpark DataFrame memory comparison"
   ]
  },
  {
   "attachments": {},
   "cell_type": "markdown",
   "id": "dcb3a3d6",
   "metadata": {},
   "source": [
    "Snowpark and Pandas DataFrame are similar but do have some notable differences.\n",
    "\n",
    "One of the biggest differences is the amount of local memory consumed. Run the cell block below to see firsthand."
   ]
  },
  {
   "cell_type": "code",
   "execution_count": 105,
   "id": "6a98b522",
   "metadata": {},
   "outputs": [
    {
     "name": "stdout",
     "output_type": "stream",
     "text": [
      "Size in MB of Snowpark DataFrame in Memory: 0.0\n",
      "Size in MB of Pandas DataFrame in Memory: 50.88\n"
     ]
    }
   ],
   "source": [
    "# get the size in MB of a dataframe\n",
    "def get_df_memory_size(df) -> float:\n",
    "    return np.round(sys.getsizeof(df) / (1024.0**2), 2)\n",
    "\n",
    "pandas_df_spend = snow_df_spend.to_pandas()\n",
    "\n",
    "print(f'Size in MB of Snowpark DataFrame in Memory: {get_df_memory_size(snow_df_spend)}')\n",
    "print(f'Size in MB of Pandas DataFrame in Memory: {get_df_memory_size(pandas_df_spend)}')"
   ]
  },
  {
   "attachments": {},
   "cell_type": "markdown",
   "id": "d5c7f02b",
   "metadata": {},
   "source": [
    "The Snowpark DataFrame consumes **zero** in memory MB - it is stored entirely within Snowflake. Whereas **the entire** Pandas DataFrame is stored in local memory\n",
    "\n",
    "*Note: the ```.to_pandas()``` method is called to convert any Snowpark DataFrame to a Pandas DataFrame -- we'll use this method multiple times throughout the rest of the workshop*"
   ]
  },
  {
   "attachments": {},
   "cell_type": "markdown",
   "id": "1744e636",
   "metadata": {},
   "source": [
    "### Creating new columns\n",
    "We can add new columns to our Snowpark DataFrame using the ```.with_column()``` method.\n",
    "\n",
    "Here, we are adding two new columns: *MONTH* and *YEAR* which represent the month and year an a campaign was run"
   ]
  },
  {
   "cell_type": "code",
   "execution_count": 106,
   "id": "0d3f7965",
   "metadata": {},
   "outputs": [
    {
     "name": "stdout",
     "output_type": "stream",
     "text": [
      "-------------------------------------------------------------------------------------------------------------------------\n",
      "|\"CAMPAIGN\"              |\"CHANNEL\"      |\"DATE\"      |\"TOTAL_CLICKS\"  |\"TOTAL_COST\"  |\"ADS_SERVED\"  |\"YEAR\"  |\"MONTH\"  |\n",
      "-------------------------------------------------------------------------------------------------------------------------\n",
      "|winter_sports           |video          |2012-06-03  |213             |1205          |426           |2012    |6        |\n",
      "|sports_across_cultures  |video          |2012-06-02  |87              |454           |157           |2012    |6        |\n",
      "|building_community      |search_engine  |2012-06-03  |66              |354           |134           |2012    |6        |\n",
      "|world_series            |social_media   |2017-12-28  |72              |323           |149           |2017    |12       |\n",
      "|winter_sports           |email          |2018-02-09  |252             |1706          |473           |2018    |2        |\n",
      "|spring_break            |video          |2017-11-14  |162             |852           |304           |2017    |11       |\n",
      "|nba_finals              |email          |2017-11-22  |68              |417           |134           |2017    |11       |\n",
      "|winter_sports           |social_media   |2018-03-10  |227             |917           |454           |2018    |3        |\n",
      "|spring_break            |search_engine  |2017-08-30  |150             |1170          |302           |2017    |8        |\n",
      "|uefa                    |video          |2017-09-30  |81              |543           |168           |2017    |9        |\n",
      "-------------------------------------------------------------------------------------------------------------------------\n",
      "\n"
     ]
    }
   ],
   "source": [
    "snow_df_spend=snow_df_spend.with_column(\"YEAR\", F.year(snow_df_spend[\"DATE\"]))\n",
    "snow_df_spend=snow_df_spend.with_column(\"MONTH\", F.month(snow_df_spend[\"DATE\"]))\n",
    "\n",
    "snow_df_spend.show()"
   ]
  },
  {
   "attachments": {},
   "cell_type": "markdown",
   "id": "ac007c17",
   "metadata": {},
   "source": [
    "**YOUR TURN**: add a new column called *COST_PER_CLICK* which is the result of *TOTAL_COST / TOTAL_CLICKS*\n",
    "\n",
    "*Expected output*:\n",
    "```\n",
    "    ------------------------------------------------------------------------------------------\n",
    "    |\"CAMPAIGN\"              |\"DATE\"      |\"TOTAL_CLICKS\"  |\"TOTAL_COST\"  |\"COST_PER_CLICK\"  |\n",
    "    ------------------------------------------------------------------------------------------\n",
    "    |winter_sports           |2012-06-03  |213             |1762          |8.272300          |\n",
    "    |sports_across_cultures  |2012-06-02  |87              |678           |7.793103          |\n",
    "    |building_community      |2012-06-03  |66              |471           |7.136364          |\n",
    "    |world_series            |2017-12-28  |72              |591           |8.208333          |\n",
    "    |winter_sports           |2018-02-09  |252             |1841          |7.305556          |\n",
    "    ------------------------------------------------------------------------------------------\n",
    "```"
   ]
  },
  {
   "cell_type": "code",
   "execution_count": 107,
   "id": "4f18fef5",
   "metadata": {},
   "outputs": [
    {
     "name": "stdout",
     "output_type": "stream",
     "text": [
      "------------------------------------------------------------------------------------------\n",
      "|\"CAMPAIGN\"              |\"DATE\"      |\"TOTAL_CLICKS\"  |\"TOTAL_COST\"  |\"COST_PER_CLICK\"  |\n",
      "------------------------------------------------------------------------------------------\n",
      "|winter_sports           |2012-06-03  |213             |1205          |5.657277          |\n",
      "|sports_across_cultures  |2012-06-02  |87              |454           |5.218391          |\n",
      "|building_community      |2012-06-03  |66              |354           |5.363636          |\n",
      "|world_series            |2017-12-28  |72              |323           |4.486111          |\n",
      "|winter_sports           |2018-02-09  |252             |1706          |6.769841          |\n",
      "------------------------------------------------------------------------------------------\n",
      "\n"
     ]
    }
   ],
   "source": [
    "snow_df_spend=snow_df_spend.with_column(\"COST_PER_CLICK\", snow_df_spend[\"TOTAL_COST\"]/snow_df_spend[\"TOTAL_CLICKS\"])\n",
    "snow_df_spend.select(\"CAMPAIGN\",\"DATE\",\"TOTAL_CLICKS\",\"TOTAL_COST\",\"COST_PER_CLICK\").show(5)"
   ]
  },
  {
   "attachments": {},
   "cell_type": "markdown",
   "id": "d8ab13e6",
   "metadata": {},
   "source": [
    "We can also create new columns using *if-then-else* logic by using the ```.iff()``` method.\n",
    "\n",
    "Suppose we want to flag a campain as either being focused on **sports** or something else. We can can do so by running the code block below"
   ]
  },
  {
   "cell_type": "code",
   "execution_count": 108,
   "id": "0237787c",
   "metadata": {},
   "outputs": [
    {
     "name": "stdout",
     "output_type": "stream",
     "text": [
      "--------------------------------------------------------\n",
      "|\"CAMPAIGN\"              |\"CHANNEL\"      |\"IS_SPORTS\"  |\n",
      "--------------------------------------------------------\n",
      "|winter_sports           |video          |1            |\n",
      "|sports_across_cultures  |video          |1            |\n",
      "|building_community      |search_engine  |0            |\n",
      "|world_series            |social_media   |1            |\n",
      "|winter_sports           |email          |1            |\n",
      "|spring_break            |video          |0            |\n",
      "|nba_finals              |email          |1            |\n",
      "|winter_sports           |social_media   |1            |\n",
      "|spring_break            |search_engine  |0            |\n",
      "|uefa                    |video          |1            |\n",
      "--------------------------------------------------------\n",
      "\n"
     ]
    }
   ],
   "source": [
    "sports_campaigns=[\n",
    "    'winter_sports', 'sports_across_cultures',\n",
    "    'world_series', 'nba_finals', 'uefa',\n",
    "    'thanksgiving_football', 'women_in_sports',\n",
    "    'winter_olympics', 'stanley_cup', 'world_cup',\n",
    "    'super_bowl', 'summer_olympics'\n",
    "]\n",
    "\n",
    "snow_df_spend=snow_df_spend.with_column(\"IS_SPORTS\", F.iff(snow_df_spend[\"CAMPAIGN\"].isin(sports_campaigns), 1, 0))\n",
    "snow_df_spend.select(\"CAMPAIGN\",\"CHANNEL\",\"IS_SPORTS\").show(10)"
   ]
  },
  {
   "attachments": {},
   "cell_type": "markdown",
   "id": "3f133e6f",
   "metadata": {},
   "source": [
    "Snowpark supports enhancing DataFrames in a number of different ways. The code block below demonstrates using the ```.when()``` method to add a column indicating the season in which an ad was run.\n",
    "\n",
    "*Note: this is synonomous with a ```CASE-WHEN``` expression in SQL*"
   ]
  },
  {
   "cell_type": "code",
   "execution_count": 109,
   "id": "74aaa13b",
   "metadata": {},
   "outputs": [
    {
     "name": "stdout",
     "output_type": "stream",
     "text": [
      "--------------------------------------------------\n",
      "|\"CAMPAIGN\"              |\"DATE\"      |\"SEASON\"  |\n",
      "--------------------------------------------------\n",
      "|winter_sports           |2012-06-03  |summer    |\n",
      "|sports_across_cultures  |2012-06-02  |summer    |\n",
      "|building_community      |2012-06-03  |summer    |\n",
      "|world_series            |2017-12-28  |winter    |\n",
      "|winter_sports           |2018-02-09  |winter    |\n",
      "|spring_break            |2017-11-14  |fall      |\n",
      "|nba_finals              |2017-11-22  |fall      |\n",
      "|winter_sports           |2018-03-10  |spring    |\n",
      "|spring_break            |2017-08-30  |summer    |\n",
      "|uefa                    |2017-09-30  |fall      |\n",
      "|uefa                    |2018-01-23  |winter    |\n",
      "|sports_across_cultures  |2017-10-12  |fall      |\n",
      "--------------------------------------------------\n",
      "\n"
     ]
    }
   ],
   "source": [
    "seasons=(\n",
    "    F.when(snow_df_spend[\"MONTH\"].isin(12, 1, 2),\"winter\")\n",
    "    .when(snow_df_spend[\"MONTH\"].isin(3, 4, 5),\"spring\")\n",
    "    .when(snow_df_spend[\"MONTH\"].isin(6, 7, 8),\"summer\")\n",
    "    .when(snow_df_spend[\"MONTH\"].isin(9, 10, 11),\"fall\")\n",
    ")\n",
    "\n",
    "snow_df_spend=snow_df_spend.with_column(\"SEASON\", seasons)\n",
    "snow_df_spend.select(\"CAMPAIGN\",\"DATE\",\"SEASON\").show(12)"
   ]
  },
  {
   "attachments": {},
   "cell_type": "markdown",
   "id": "7ef36ce8",
   "metadata": {},
   "source": [
    "**YOUR TURN**: suppose there was a reporting error in the winter season and the total cost of each ad was accidentally entered 10% too high.\n",
    "\n",
    "Use the `.iff()` and `.with_column()` methods to overwrite the TOTAL_COST column so that is 10% lower for any ad run in the winter season.\n",
    "\n",
    "_Expected output:_\n",
    "```\n",
    "    --------------------------------------------------------------------------\n",
    "    |\"CAMPAIGN\"              |\"CHANNEL\"      |\"SEASON\"  |\"TOTAL_COST\"        |\n",
    "    --------------------------------------------------------------------------\n",
    "    |winter_sports           |video          |summer    |1205.0              |\n",
    "    |sports_across_cultures  |video          |summer    |454.0               |\n",
    "    |building_community      |search_engine  |summer    |354.0               |\n",
    "    |world_series            |social_media   |winter    |261.63              |\n",
    "    |winter_sports           |email          |winter    |1381.8600000000001  |\n",
    "    |spring_break            |video          |fall      |852.0               |\n",
    "    |nba_finals              |email          |fall      |417.0               |\n",
    "    |winter_sports           |social_media   |spring    |917.0               |\n",
    "    |spring_break            |search_engine  |summer    |1170.0              |\n",
    "    |uefa                    |video          |fall      |543.0               |\n",
    "    --------------------------------------------------------------------------\n",
    "```"
   ]
  },
  {
   "cell_type": "code",
   "execution_count": 110,
   "id": "852bf7d4",
   "metadata": {},
   "outputs": [
    {
     "name": "stdout",
     "output_type": "stream",
     "text": [
      "--------------------------------------------------------------------\n",
      "|\"CAMPAIGN\"              |\"CHANNEL\"      |\"SEASON\"  |\"TOTAL_COST\"  |\n",
      "--------------------------------------------------------------------\n",
      "|winter_sports           |video          |summer    |1205.0        |\n",
      "|sports_across_cultures  |video          |summer    |454.0         |\n",
      "|building_community      |search_engine  |summer    |354.0         |\n",
      "|world_series            |social_media   |winter    |323.0         |\n",
      "|winter_sports           |email          |winter    |1706.0        |\n",
      "|spring_break            |video          |fall      |852.0         |\n",
      "|nba_finals              |email          |fall      |417.0         |\n",
      "|winter_sports           |social_media   |spring    |917.0         |\n",
      "|spring_break            |search_engine  |summer    |1170.0        |\n",
      "|uefa                    |video          |fall      |543.0         |\n",
      "--------------------------------------------------------------------\n",
      "\n"
     ]
    }
   ],
   "source": [
    "snow_df_spend=snow_df_spend.with_column(\"TOTAL_COST\", F.iff(F.col(\"SEASON\")==\"season\", F.col(\"TOTAL_COST\")*0.9, F.col(\"TOTAL_COST\")))\n",
    "snow_df_spend.select(\"CAMPAIGN\",\"CHANNEL\",\"SEASON\",\"TOTAL_COST\").show(10)"
   ]
  },
  {
   "attachments": {},
   "cell_type": "markdown",
   "id": "2129a3eb",
   "metadata": {},
   "source": [
    "### Aggregating Snowpark DataFrames\n",
    "Now, that we have an idea for what our dataset looks like, let's use different Python and Snowpark to derive useful information from the raw data\n",
    "\n",
    "First, we'll take a look at the total cost per ad channel"
   ]
  },
  {
   "cell_type": "code",
   "execution_count": 111,
   "id": "a26c7246",
   "metadata": {},
   "outputs": [
    {
     "name": "stdout",
     "output_type": "stream",
     "text": [
      "--------------------------------\n",
      "|\"CHANNEL\"      |\"TOTAL_COST\"  |\n",
      "--------------------------------\n",
      "|video          |48768300.0    |\n",
      "|search_engine  |58499792.0    |\n",
      "|social_media   |32057328.0    |\n",
      "|email          |55729550.0    |\n",
      "--------------------------------\n",
      "\n"
     ]
    }
   ],
   "source": [
    "snow_df_spend_per_channel=(\n",
    "    snow_df_spend\n",
    "        .group_by(\"CHANNEL\")\n",
    "        .agg(F.sum(\"TOTAL_COST\").as_(\"TOTAL_COST\"))\n",
    ")\n",
    "\n",
    "snow_df_spend_per_channel.show()"
   ]
  },
  {
   "attachments": {},
   "cell_type": "markdown",
   "id": "09b752d5",
   "metadata": {},
   "source": [
    "Additionally, if we convert our Snowpark DataFrames to Pandas, we have the ability to create graphs and visualizations using any standard Python plotting library.\n",
    "\n",
    "Here we are using the ```plotly.express``` library to create a bar chart of total cost per channel."
   ]
  },
  {
   "cell_type": "code",
   "execution_count": 112,
   "id": "777c850d",
   "metadata": {},
   "outputs": [
    {
     "data": {
      "application/vnd.plotly.v1+json": {
       "config": {
        "plotlyServerURL": "https://plot.ly"
       },
       "data": [
        {
         "alignmentgroup": "True",
         "hovertemplate": "CHANNEL=%{x}<br>TOTAL_COST=%{y}<extra></extra>",
         "legendgroup": "",
         "marker": {
          "color": "#636efa",
          "pattern": {
           "shape": ""
          }
         },
         "name": "",
         "offsetgroup": "",
         "orientation": "v",
         "showlegend": false,
         "textposition": "auto",
         "type": "bar",
         "x": [
          "video",
          "search_engine",
          "social_media",
          "email"
         ],
         "xaxis": "x",
         "y": [
          48768300,
          58499792,
          32057328,
          55729550
         ],
         "yaxis": "y"
        }
       ],
       "layout": {
        "barmode": "relative",
        "legend": {
         "tracegroupgap": 0
        },
        "margin": {
         "t": 60
        },
        "template": {
         "data": {
          "bar": [
           {
            "error_x": {
             "color": "#2a3f5f"
            },
            "error_y": {
             "color": "#2a3f5f"
            },
            "marker": {
             "line": {
              "color": "#E5ECF6",
              "width": 0.5
             },
             "pattern": {
              "fillmode": "overlay",
              "size": 10,
              "solidity": 0.2
             }
            },
            "type": "bar"
           }
          ],
          "barpolar": [
           {
            "marker": {
             "line": {
              "color": "#E5ECF6",
              "width": 0.5
             },
             "pattern": {
              "fillmode": "overlay",
              "size": 10,
              "solidity": 0.2
             }
            },
            "type": "barpolar"
           }
          ],
          "carpet": [
           {
            "aaxis": {
             "endlinecolor": "#2a3f5f",
             "gridcolor": "white",
             "linecolor": "white",
             "minorgridcolor": "white",
             "startlinecolor": "#2a3f5f"
            },
            "baxis": {
             "endlinecolor": "#2a3f5f",
             "gridcolor": "white",
             "linecolor": "white",
             "minorgridcolor": "white",
             "startlinecolor": "#2a3f5f"
            },
            "type": "carpet"
           }
          ],
          "choropleth": [
           {
            "colorbar": {
             "outlinewidth": 0,
             "ticks": ""
            },
            "type": "choropleth"
           }
          ],
          "contour": [
           {
            "colorbar": {
             "outlinewidth": 0,
             "ticks": ""
            },
            "colorscale": [
             [
              0,
              "#0d0887"
             ],
             [
              0.1111111111111111,
              "#46039f"
             ],
             [
              0.2222222222222222,
              "#7201a8"
             ],
             [
              0.3333333333333333,
              "#9c179e"
             ],
             [
              0.4444444444444444,
              "#bd3786"
             ],
             [
              0.5555555555555556,
              "#d8576b"
             ],
             [
              0.6666666666666666,
              "#ed7953"
             ],
             [
              0.7777777777777778,
              "#fb9f3a"
             ],
             [
              0.8888888888888888,
              "#fdca26"
             ],
             [
              1,
              "#f0f921"
             ]
            ],
            "type": "contour"
           }
          ],
          "contourcarpet": [
           {
            "colorbar": {
             "outlinewidth": 0,
             "ticks": ""
            },
            "type": "contourcarpet"
           }
          ],
          "heatmap": [
           {
            "colorbar": {
             "outlinewidth": 0,
             "ticks": ""
            },
            "colorscale": [
             [
              0,
              "#0d0887"
             ],
             [
              0.1111111111111111,
              "#46039f"
             ],
             [
              0.2222222222222222,
              "#7201a8"
             ],
             [
              0.3333333333333333,
              "#9c179e"
             ],
             [
              0.4444444444444444,
              "#bd3786"
             ],
             [
              0.5555555555555556,
              "#d8576b"
             ],
             [
              0.6666666666666666,
              "#ed7953"
             ],
             [
              0.7777777777777778,
              "#fb9f3a"
             ],
             [
              0.8888888888888888,
              "#fdca26"
             ],
             [
              1,
              "#f0f921"
             ]
            ],
            "type": "heatmap"
           }
          ],
          "heatmapgl": [
           {
            "colorbar": {
             "outlinewidth": 0,
             "ticks": ""
            },
            "colorscale": [
             [
              0,
              "#0d0887"
             ],
             [
              0.1111111111111111,
              "#46039f"
             ],
             [
              0.2222222222222222,
              "#7201a8"
             ],
             [
              0.3333333333333333,
              "#9c179e"
             ],
             [
              0.4444444444444444,
              "#bd3786"
             ],
             [
              0.5555555555555556,
              "#d8576b"
             ],
             [
              0.6666666666666666,
              "#ed7953"
             ],
             [
              0.7777777777777778,
              "#fb9f3a"
             ],
             [
              0.8888888888888888,
              "#fdca26"
             ],
             [
              1,
              "#f0f921"
             ]
            ],
            "type": "heatmapgl"
           }
          ],
          "histogram": [
           {
            "marker": {
             "pattern": {
              "fillmode": "overlay",
              "size": 10,
              "solidity": 0.2
             }
            },
            "type": "histogram"
           }
          ],
          "histogram2d": [
           {
            "colorbar": {
             "outlinewidth": 0,
             "ticks": ""
            },
            "colorscale": [
             [
              0,
              "#0d0887"
             ],
             [
              0.1111111111111111,
              "#46039f"
             ],
             [
              0.2222222222222222,
              "#7201a8"
             ],
             [
              0.3333333333333333,
              "#9c179e"
             ],
             [
              0.4444444444444444,
              "#bd3786"
             ],
             [
              0.5555555555555556,
              "#d8576b"
             ],
             [
              0.6666666666666666,
              "#ed7953"
             ],
             [
              0.7777777777777778,
              "#fb9f3a"
             ],
             [
              0.8888888888888888,
              "#fdca26"
             ],
             [
              1,
              "#f0f921"
             ]
            ],
            "type": "histogram2d"
           }
          ],
          "histogram2dcontour": [
           {
            "colorbar": {
             "outlinewidth": 0,
             "ticks": ""
            },
            "colorscale": [
             [
              0,
              "#0d0887"
             ],
             [
              0.1111111111111111,
              "#46039f"
             ],
             [
              0.2222222222222222,
              "#7201a8"
             ],
             [
              0.3333333333333333,
              "#9c179e"
             ],
             [
              0.4444444444444444,
              "#bd3786"
             ],
             [
              0.5555555555555556,
              "#d8576b"
             ],
             [
              0.6666666666666666,
              "#ed7953"
             ],
             [
              0.7777777777777778,
              "#fb9f3a"
             ],
             [
              0.8888888888888888,
              "#fdca26"
             ],
             [
              1,
              "#f0f921"
             ]
            ],
            "type": "histogram2dcontour"
           }
          ],
          "mesh3d": [
           {
            "colorbar": {
             "outlinewidth": 0,
             "ticks": ""
            },
            "type": "mesh3d"
           }
          ],
          "parcoords": [
           {
            "line": {
             "colorbar": {
              "outlinewidth": 0,
              "ticks": ""
             }
            },
            "type": "parcoords"
           }
          ],
          "pie": [
           {
            "automargin": true,
            "type": "pie"
           }
          ],
          "scatter": [
           {
            "fillpattern": {
             "fillmode": "overlay",
             "size": 10,
             "solidity": 0.2
            },
            "type": "scatter"
           }
          ],
          "scatter3d": [
           {
            "line": {
             "colorbar": {
              "outlinewidth": 0,
              "ticks": ""
             }
            },
            "marker": {
             "colorbar": {
              "outlinewidth": 0,
              "ticks": ""
             }
            },
            "type": "scatter3d"
           }
          ],
          "scattercarpet": [
           {
            "marker": {
             "colorbar": {
              "outlinewidth": 0,
              "ticks": ""
             }
            },
            "type": "scattercarpet"
           }
          ],
          "scattergeo": [
           {
            "marker": {
             "colorbar": {
              "outlinewidth": 0,
              "ticks": ""
             }
            },
            "type": "scattergeo"
           }
          ],
          "scattergl": [
           {
            "marker": {
             "colorbar": {
              "outlinewidth": 0,
              "ticks": ""
             }
            },
            "type": "scattergl"
           }
          ],
          "scattermapbox": [
           {
            "marker": {
             "colorbar": {
              "outlinewidth": 0,
              "ticks": ""
             }
            },
            "type": "scattermapbox"
           }
          ],
          "scatterpolar": [
           {
            "marker": {
             "colorbar": {
              "outlinewidth": 0,
              "ticks": ""
             }
            },
            "type": "scatterpolar"
           }
          ],
          "scatterpolargl": [
           {
            "marker": {
             "colorbar": {
              "outlinewidth": 0,
              "ticks": ""
             }
            },
            "type": "scatterpolargl"
           }
          ],
          "scatterternary": [
           {
            "marker": {
             "colorbar": {
              "outlinewidth": 0,
              "ticks": ""
             }
            },
            "type": "scatterternary"
           }
          ],
          "surface": [
           {
            "colorbar": {
             "outlinewidth": 0,
             "ticks": ""
            },
            "colorscale": [
             [
              0,
              "#0d0887"
             ],
             [
              0.1111111111111111,
              "#46039f"
             ],
             [
              0.2222222222222222,
              "#7201a8"
             ],
             [
              0.3333333333333333,
              "#9c179e"
             ],
             [
              0.4444444444444444,
              "#bd3786"
             ],
             [
              0.5555555555555556,
              "#d8576b"
             ],
             [
              0.6666666666666666,
              "#ed7953"
             ],
             [
              0.7777777777777778,
              "#fb9f3a"
             ],
             [
              0.8888888888888888,
              "#fdca26"
             ],
             [
              1,
              "#f0f921"
             ]
            ],
            "type": "surface"
           }
          ],
          "table": [
           {
            "cells": {
             "fill": {
              "color": "#EBF0F8"
             },
             "line": {
              "color": "white"
             }
            },
            "header": {
             "fill": {
              "color": "#C8D4E3"
             },
             "line": {
              "color": "white"
             }
            },
            "type": "table"
           }
          ]
         },
         "layout": {
          "annotationdefaults": {
           "arrowcolor": "#2a3f5f",
           "arrowhead": 0,
           "arrowwidth": 1
          },
          "autotypenumbers": "strict",
          "coloraxis": {
           "colorbar": {
            "outlinewidth": 0,
            "ticks": ""
           }
          },
          "colorscale": {
           "diverging": [
            [
             0,
             "#8e0152"
            ],
            [
             0.1,
             "#c51b7d"
            ],
            [
             0.2,
             "#de77ae"
            ],
            [
             0.3,
             "#f1b6da"
            ],
            [
             0.4,
             "#fde0ef"
            ],
            [
             0.5,
             "#f7f7f7"
            ],
            [
             0.6,
             "#e6f5d0"
            ],
            [
             0.7,
             "#b8e186"
            ],
            [
             0.8,
             "#7fbc41"
            ],
            [
             0.9,
             "#4d9221"
            ],
            [
             1,
             "#276419"
            ]
           ],
           "sequential": [
            [
             0,
             "#0d0887"
            ],
            [
             0.1111111111111111,
             "#46039f"
            ],
            [
             0.2222222222222222,
             "#7201a8"
            ],
            [
             0.3333333333333333,
             "#9c179e"
            ],
            [
             0.4444444444444444,
             "#bd3786"
            ],
            [
             0.5555555555555556,
             "#d8576b"
            ],
            [
             0.6666666666666666,
             "#ed7953"
            ],
            [
             0.7777777777777778,
             "#fb9f3a"
            ],
            [
             0.8888888888888888,
             "#fdca26"
            ],
            [
             1,
             "#f0f921"
            ]
           ],
           "sequentialminus": [
            [
             0,
             "#0d0887"
            ],
            [
             0.1111111111111111,
             "#46039f"
            ],
            [
             0.2222222222222222,
             "#7201a8"
            ],
            [
             0.3333333333333333,
             "#9c179e"
            ],
            [
             0.4444444444444444,
             "#bd3786"
            ],
            [
             0.5555555555555556,
             "#d8576b"
            ],
            [
             0.6666666666666666,
             "#ed7953"
            ],
            [
             0.7777777777777778,
             "#fb9f3a"
            ],
            [
             0.8888888888888888,
             "#fdca26"
            ],
            [
             1,
             "#f0f921"
            ]
           ]
          },
          "colorway": [
           "#636efa",
           "#EF553B",
           "#00cc96",
           "#ab63fa",
           "#FFA15A",
           "#19d3f3",
           "#FF6692",
           "#B6E880",
           "#FF97FF",
           "#FECB52"
          ],
          "font": {
           "color": "#2a3f5f"
          },
          "geo": {
           "bgcolor": "white",
           "lakecolor": "white",
           "landcolor": "#E5ECF6",
           "showlakes": true,
           "showland": true,
           "subunitcolor": "white"
          },
          "hoverlabel": {
           "align": "left"
          },
          "hovermode": "closest",
          "mapbox": {
           "style": "light"
          },
          "paper_bgcolor": "white",
          "plot_bgcolor": "#E5ECF6",
          "polar": {
           "angularaxis": {
            "gridcolor": "white",
            "linecolor": "white",
            "ticks": ""
           },
           "bgcolor": "#E5ECF6",
           "radialaxis": {
            "gridcolor": "white",
            "linecolor": "white",
            "ticks": ""
           }
          },
          "scene": {
           "xaxis": {
            "backgroundcolor": "#E5ECF6",
            "gridcolor": "white",
            "gridwidth": 2,
            "linecolor": "white",
            "showbackground": true,
            "ticks": "",
            "zerolinecolor": "white"
           },
           "yaxis": {
            "backgroundcolor": "#E5ECF6",
            "gridcolor": "white",
            "gridwidth": 2,
            "linecolor": "white",
            "showbackground": true,
            "ticks": "",
            "zerolinecolor": "white"
           },
           "zaxis": {
            "backgroundcolor": "#E5ECF6",
            "gridcolor": "white",
            "gridwidth": 2,
            "linecolor": "white",
            "showbackground": true,
            "ticks": "",
            "zerolinecolor": "white"
           }
          },
          "shapedefaults": {
           "line": {
            "color": "#2a3f5f"
           }
          },
          "ternary": {
           "aaxis": {
            "gridcolor": "white",
            "linecolor": "white",
            "ticks": ""
           },
           "baxis": {
            "gridcolor": "white",
            "linecolor": "white",
            "ticks": ""
           },
           "bgcolor": "#E5ECF6",
           "caxis": {
            "gridcolor": "white",
            "linecolor": "white",
            "ticks": ""
           }
          },
          "title": {
           "x": 0.05
          },
          "xaxis": {
           "automargin": true,
           "gridcolor": "white",
           "linecolor": "white",
           "ticks": "",
           "title": {
            "standoff": 15
           },
           "zerolinecolor": "white",
           "zerolinewidth": 2
          },
          "yaxis": {
           "automargin": true,
           "gridcolor": "white",
           "linecolor": "white",
           "ticks": "",
           "title": {
            "standoff": 15
           },
           "zerolinecolor": "white",
           "zerolinewidth": 2
          }
         }
        },
        "xaxis": {
         "anchor": "y",
         "domain": [
          0,
          1
         ],
         "title": {
          "text": "CHANNEL"
         }
        },
        "yaxis": {
         "anchor": "x",
         "domain": [
          0,
          1
         ],
         "title": {
          "text": "TOTAL_COST"
         }
        }
       }
      }
     },
     "metadata": {},
     "output_type": "display_data"
    }
   ],
   "source": [
    "df=snow_df_spend_per_channel.to_pandas()\n",
    "fig=px.bar(df, x=\"CHANNEL\", y=\"TOTAL_COST\")\n",
    "fig.show()"
   ]
  },
  {
   "attachments": {},
   "cell_type": "markdown",
   "id": "6e671ff3",
   "metadata": {},
   "source": [
    "##### Aggregating multiple columns\n",
    "Just like with Pandas, Snowpark DataFrames support grouping and aggregating multiple columns.\n",
    "\n",
    "This first code block creates a DataFrame which contains the total cost, average cost, and number of campaigns run for each channel\n",
    "\n",
    "TIP: For a full list of functions, refer to the [docs](https://docs.snowflake.com/en/developer-guide/snowpark/reference/python/_autosummary/snowflake.snowpark.functions.html#module-snowflake.snowpark.functions)."
   ]
  },
  {
   "cell_type": "code",
   "execution_count": 113,
   "id": "laden-contest",
   "metadata": {
    "papermill": {
     "duration": 0.07724,
     "end_time": "2021-05-15T09:33:41.657494",
     "exception": false,
     "start_time": "2021-05-15T09:33:41.580254",
     "status": "completed"
    },
    "tags": []
   },
   "outputs": [
    {
     "name": "stdout",
     "output_type": "stream",
     "text": [
      "----------------------------------------------------------------------\n",
      "|\"YEAR\"  |\"CHANNEL\"      |\"TOTAL_COST\"  |\"AVG_TOTAL_COST_PRE_CLICK\"  |\n",
      "----------------------------------------------------------------------\n",
      "|2012    |email          |3087011.0     |5.879600102857              |\n",
      "|2012    |search_engine  |3243871.0     |6.158964406939              |\n",
      "|2012    |social_media   |1772916.0     |3.372041736531              |\n",
      "|2012    |video          |2704568.0     |5.124234212653              |\n",
      "|2013    |email          |4920381.0     |6.265200765068              |\n",
      "|2013    |search_engine  |5139688.0     |6.573069845616              |\n",
      "|2013    |social_media   |2820923.0     |3.594761708767              |\n",
      "|2013    |video          |4290952.0     |5.474877393973              |\n",
      "|2014    |email          |5210519.0     |6.653672479041              |\n",
      "|2014    |search_engine  |5477174.0     |6.998721637260              |\n",
      "----------------------------------------------------------------------\n",
      "\n"
     ]
    }
   ],
   "source": [
    "# Stats per Month per Channel\n",
    "snow_df_annual_spend_per_channel=(\n",
    "    snow_df_spend\n",
    "        .group_by(\n",
    "            \"YEAR\",\n",
    "            \"CHANNEL\"\n",
    "        )\n",
    "        .agg(\n",
    "            F.sum(\"TOTAL_COST\").as_(\"TOTAL_COST\"),\n",
    "            F.avg(\"COST_PER_CLICK\").as_(\"AVG_TOTAL_COST_PRE_CLICK\")\n",
    "        )\n",
    "        .sort(\"YEAR\",\"CHANNEL\")\n",
    ")\n",
    "snow_df_annual_spend_per_channel.show()"
   ]
  },
  {
   "cell_type": "code",
   "execution_count": 114,
   "id": "a88e7080",
   "metadata": {},
   "outputs": [
    {
     "data": {
      "application/vnd.plotly.v1+json": {
       "config": {
        "plotlyServerURL": "https://plot.ly"
       },
       "data": [
        {
         "hovertemplate": "CHANNEL=email<br>YEAR=%{x}<br>TOTAL_COST=%{y}<extra></extra>",
         "legendgroup": "email",
         "line": {
          "color": "#636efa",
          "dash": "solid"
         },
         "marker": {
          "symbol": "circle"
         },
         "mode": "lines+markers",
         "name": "email",
         "orientation": "v",
         "showlegend": true,
         "type": "scatter",
         "x": [
          2012,
          2013,
          2014,
          2015,
          2016,
          2017,
          2018,
          2019,
          2020,
          2021,
          2022
         ],
         "xaxis": "x",
         "y": [
          3087011,
          4920381,
          5210519,
          5521018,
          5844595,
          5523948,
          5353965,
          5984177,
          5828327,
          6136536,
          2319073
         ],
         "yaxis": "y"
        },
        {
         "hovertemplate": "CHANNEL=search_engine<br>YEAR=%{x}<br>TOTAL_COST=%{y}<extra></extra>",
         "legendgroup": "search_engine",
         "line": {
          "color": "#EF553B",
          "dash": "solid"
         },
         "marker": {
          "symbol": "circle"
         },
         "mode": "lines+markers",
         "name": "search_engine",
         "orientation": "v",
         "showlegend": true,
         "type": "scatter",
         "x": [
          2012,
          2013,
          2014,
          2015,
          2016,
          2017,
          2018,
          2019,
          2020,
          2021,
          2022
         ],
         "xaxis": "x",
         "y": [
          3243871,
          5139688,
          5477174,
          5800201,
          6119248,
          5795248,
          5626802,
          6277308,
          6142883,
          6440792,
          2436577
         ],
         "yaxis": "y"
        },
        {
         "hovertemplate": "CHANNEL=social_media<br>YEAR=%{x}<br>TOTAL_COST=%{y}<extra></extra>",
         "legendgroup": "social_media",
         "line": {
          "color": "#00cc96",
          "dash": "solid"
         },
         "marker": {
          "symbol": "circle"
         },
         "mode": "lines+markers",
         "name": "social_media",
         "orientation": "v",
         "showlegend": true,
         "type": "scatter",
         "x": [
          2012,
          2013,
          2014,
          2015,
          2016,
          2017,
          2018,
          2019,
          2020,
          2021,
          2022
         ],
         "xaxis": "x",
         "y": [
          1772916,
          2820923,
          2999986,
          3174738,
          3362207,
          3169599,
          3092591,
          3442658,
          3358081,
          3524557,
          1339072
         ],
         "yaxis": "y"
        },
        {
         "hovertemplate": "CHANNEL=video<br>YEAR=%{x}<br>TOTAL_COST=%{y}<extra></extra>",
         "legendgroup": "video",
         "line": {
          "color": "#ab63fa",
          "dash": "solid"
         },
         "marker": {
          "symbol": "circle"
         },
         "mode": "lines+markers",
         "name": "video",
         "orientation": "v",
         "showlegend": true,
         "type": "scatter",
         "x": [
          2012,
          2013,
          2014,
          2015,
          2016,
          2017,
          2018,
          2019,
          2020,
          2021,
          2022
         ],
         "xaxis": "x",
         "y": [
          2704568,
          4290952,
          4570513,
          4819447,
          5127849,
          4837383,
          4693726,
          5223023,
          5106105,
          5359936,
          2034798
         ],
         "yaxis": "y"
        }
       ],
       "layout": {
        "legend": {
         "title": {
          "text": "CHANNEL"
         },
         "tracegroupgap": 0
        },
        "margin": {
         "t": 60
        },
        "template": {
         "data": {
          "bar": [
           {
            "error_x": {
             "color": "#2a3f5f"
            },
            "error_y": {
             "color": "#2a3f5f"
            },
            "marker": {
             "line": {
              "color": "#E5ECF6",
              "width": 0.5
             },
             "pattern": {
              "fillmode": "overlay",
              "size": 10,
              "solidity": 0.2
             }
            },
            "type": "bar"
           }
          ],
          "barpolar": [
           {
            "marker": {
             "line": {
              "color": "#E5ECF6",
              "width": 0.5
             },
             "pattern": {
              "fillmode": "overlay",
              "size": 10,
              "solidity": 0.2
             }
            },
            "type": "barpolar"
           }
          ],
          "carpet": [
           {
            "aaxis": {
             "endlinecolor": "#2a3f5f",
             "gridcolor": "white",
             "linecolor": "white",
             "minorgridcolor": "white",
             "startlinecolor": "#2a3f5f"
            },
            "baxis": {
             "endlinecolor": "#2a3f5f",
             "gridcolor": "white",
             "linecolor": "white",
             "minorgridcolor": "white",
             "startlinecolor": "#2a3f5f"
            },
            "type": "carpet"
           }
          ],
          "choropleth": [
           {
            "colorbar": {
             "outlinewidth": 0,
             "ticks": ""
            },
            "type": "choropleth"
           }
          ],
          "contour": [
           {
            "colorbar": {
             "outlinewidth": 0,
             "ticks": ""
            },
            "colorscale": [
             [
              0,
              "#0d0887"
             ],
             [
              0.1111111111111111,
              "#46039f"
             ],
             [
              0.2222222222222222,
              "#7201a8"
             ],
             [
              0.3333333333333333,
              "#9c179e"
             ],
             [
              0.4444444444444444,
              "#bd3786"
             ],
             [
              0.5555555555555556,
              "#d8576b"
             ],
             [
              0.6666666666666666,
              "#ed7953"
             ],
             [
              0.7777777777777778,
              "#fb9f3a"
             ],
             [
              0.8888888888888888,
              "#fdca26"
             ],
             [
              1,
              "#f0f921"
             ]
            ],
            "type": "contour"
           }
          ],
          "contourcarpet": [
           {
            "colorbar": {
             "outlinewidth": 0,
             "ticks": ""
            },
            "type": "contourcarpet"
           }
          ],
          "heatmap": [
           {
            "colorbar": {
             "outlinewidth": 0,
             "ticks": ""
            },
            "colorscale": [
             [
              0,
              "#0d0887"
             ],
             [
              0.1111111111111111,
              "#46039f"
             ],
             [
              0.2222222222222222,
              "#7201a8"
             ],
             [
              0.3333333333333333,
              "#9c179e"
             ],
             [
              0.4444444444444444,
              "#bd3786"
             ],
             [
              0.5555555555555556,
              "#d8576b"
             ],
             [
              0.6666666666666666,
              "#ed7953"
             ],
             [
              0.7777777777777778,
              "#fb9f3a"
             ],
             [
              0.8888888888888888,
              "#fdca26"
             ],
             [
              1,
              "#f0f921"
             ]
            ],
            "type": "heatmap"
           }
          ],
          "heatmapgl": [
           {
            "colorbar": {
             "outlinewidth": 0,
             "ticks": ""
            },
            "colorscale": [
             [
              0,
              "#0d0887"
             ],
             [
              0.1111111111111111,
              "#46039f"
             ],
             [
              0.2222222222222222,
              "#7201a8"
             ],
             [
              0.3333333333333333,
              "#9c179e"
             ],
             [
              0.4444444444444444,
              "#bd3786"
             ],
             [
              0.5555555555555556,
              "#d8576b"
             ],
             [
              0.6666666666666666,
              "#ed7953"
             ],
             [
              0.7777777777777778,
              "#fb9f3a"
             ],
             [
              0.8888888888888888,
              "#fdca26"
             ],
             [
              1,
              "#f0f921"
             ]
            ],
            "type": "heatmapgl"
           }
          ],
          "histogram": [
           {
            "marker": {
             "pattern": {
              "fillmode": "overlay",
              "size": 10,
              "solidity": 0.2
             }
            },
            "type": "histogram"
           }
          ],
          "histogram2d": [
           {
            "colorbar": {
             "outlinewidth": 0,
             "ticks": ""
            },
            "colorscale": [
             [
              0,
              "#0d0887"
             ],
             [
              0.1111111111111111,
              "#46039f"
             ],
             [
              0.2222222222222222,
              "#7201a8"
             ],
             [
              0.3333333333333333,
              "#9c179e"
             ],
             [
              0.4444444444444444,
              "#bd3786"
             ],
             [
              0.5555555555555556,
              "#d8576b"
             ],
             [
              0.6666666666666666,
              "#ed7953"
             ],
             [
              0.7777777777777778,
              "#fb9f3a"
             ],
             [
              0.8888888888888888,
              "#fdca26"
             ],
             [
              1,
              "#f0f921"
             ]
            ],
            "type": "histogram2d"
           }
          ],
          "histogram2dcontour": [
           {
            "colorbar": {
             "outlinewidth": 0,
             "ticks": ""
            },
            "colorscale": [
             [
              0,
              "#0d0887"
             ],
             [
              0.1111111111111111,
              "#46039f"
             ],
             [
              0.2222222222222222,
              "#7201a8"
             ],
             [
              0.3333333333333333,
              "#9c179e"
             ],
             [
              0.4444444444444444,
              "#bd3786"
             ],
             [
              0.5555555555555556,
              "#d8576b"
             ],
             [
              0.6666666666666666,
              "#ed7953"
             ],
             [
              0.7777777777777778,
              "#fb9f3a"
             ],
             [
              0.8888888888888888,
              "#fdca26"
             ],
             [
              1,
              "#f0f921"
             ]
            ],
            "type": "histogram2dcontour"
           }
          ],
          "mesh3d": [
           {
            "colorbar": {
             "outlinewidth": 0,
             "ticks": ""
            },
            "type": "mesh3d"
           }
          ],
          "parcoords": [
           {
            "line": {
             "colorbar": {
              "outlinewidth": 0,
              "ticks": ""
             }
            },
            "type": "parcoords"
           }
          ],
          "pie": [
           {
            "automargin": true,
            "type": "pie"
           }
          ],
          "scatter": [
           {
            "fillpattern": {
             "fillmode": "overlay",
             "size": 10,
             "solidity": 0.2
            },
            "type": "scatter"
           }
          ],
          "scatter3d": [
           {
            "line": {
             "colorbar": {
              "outlinewidth": 0,
              "ticks": ""
             }
            },
            "marker": {
             "colorbar": {
              "outlinewidth": 0,
              "ticks": ""
             }
            },
            "type": "scatter3d"
           }
          ],
          "scattercarpet": [
           {
            "marker": {
             "colorbar": {
              "outlinewidth": 0,
              "ticks": ""
             }
            },
            "type": "scattercarpet"
           }
          ],
          "scattergeo": [
           {
            "marker": {
             "colorbar": {
              "outlinewidth": 0,
              "ticks": ""
             }
            },
            "type": "scattergeo"
           }
          ],
          "scattergl": [
           {
            "marker": {
             "colorbar": {
              "outlinewidth": 0,
              "ticks": ""
             }
            },
            "type": "scattergl"
           }
          ],
          "scattermapbox": [
           {
            "marker": {
             "colorbar": {
              "outlinewidth": 0,
              "ticks": ""
             }
            },
            "type": "scattermapbox"
           }
          ],
          "scatterpolar": [
           {
            "marker": {
             "colorbar": {
              "outlinewidth": 0,
              "ticks": ""
             }
            },
            "type": "scatterpolar"
           }
          ],
          "scatterpolargl": [
           {
            "marker": {
             "colorbar": {
              "outlinewidth": 0,
              "ticks": ""
             }
            },
            "type": "scatterpolargl"
           }
          ],
          "scatterternary": [
           {
            "marker": {
             "colorbar": {
              "outlinewidth": 0,
              "ticks": ""
             }
            },
            "type": "scatterternary"
           }
          ],
          "surface": [
           {
            "colorbar": {
             "outlinewidth": 0,
             "ticks": ""
            },
            "colorscale": [
             [
              0,
              "#0d0887"
             ],
             [
              0.1111111111111111,
              "#46039f"
             ],
             [
              0.2222222222222222,
              "#7201a8"
             ],
             [
              0.3333333333333333,
              "#9c179e"
             ],
             [
              0.4444444444444444,
              "#bd3786"
             ],
             [
              0.5555555555555556,
              "#d8576b"
             ],
             [
              0.6666666666666666,
              "#ed7953"
             ],
             [
              0.7777777777777778,
              "#fb9f3a"
             ],
             [
              0.8888888888888888,
              "#fdca26"
             ],
             [
              1,
              "#f0f921"
             ]
            ],
            "type": "surface"
           }
          ],
          "table": [
           {
            "cells": {
             "fill": {
              "color": "#EBF0F8"
             },
             "line": {
              "color": "white"
             }
            },
            "header": {
             "fill": {
              "color": "#C8D4E3"
             },
             "line": {
              "color": "white"
             }
            },
            "type": "table"
           }
          ]
         },
         "layout": {
          "annotationdefaults": {
           "arrowcolor": "#2a3f5f",
           "arrowhead": 0,
           "arrowwidth": 1
          },
          "autotypenumbers": "strict",
          "coloraxis": {
           "colorbar": {
            "outlinewidth": 0,
            "ticks": ""
           }
          },
          "colorscale": {
           "diverging": [
            [
             0,
             "#8e0152"
            ],
            [
             0.1,
             "#c51b7d"
            ],
            [
             0.2,
             "#de77ae"
            ],
            [
             0.3,
             "#f1b6da"
            ],
            [
             0.4,
             "#fde0ef"
            ],
            [
             0.5,
             "#f7f7f7"
            ],
            [
             0.6,
             "#e6f5d0"
            ],
            [
             0.7,
             "#b8e186"
            ],
            [
             0.8,
             "#7fbc41"
            ],
            [
             0.9,
             "#4d9221"
            ],
            [
             1,
             "#276419"
            ]
           ],
           "sequential": [
            [
             0,
             "#0d0887"
            ],
            [
             0.1111111111111111,
             "#46039f"
            ],
            [
             0.2222222222222222,
             "#7201a8"
            ],
            [
             0.3333333333333333,
             "#9c179e"
            ],
            [
             0.4444444444444444,
             "#bd3786"
            ],
            [
             0.5555555555555556,
             "#d8576b"
            ],
            [
             0.6666666666666666,
             "#ed7953"
            ],
            [
             0.7777777777777778,
             "#fb9f3a"
            ],
            [
             0.8888888888888888,
             "#fdca26"
            ],
            [
             1,
             "#f0f921"
            ]
           ],
           "sequentialminus": [
            [
             0,
             "#0d0887"
            ],
            [
             0.1111111111111111,
             "#46039f"
            ],
            [
             0.2222222222222222,
             "#7201a8"
            ],
            [
             0.3333333333333333,
             "#9c179e"
            ],
            [
             0.4444444444444444,
             "#bd3786"
            ],
            [
             0.5555555555555556,
             "#d8576b"
            ],
            [
             0.6666666666666666,
             "#ed7953"
            ],
            [
             0.7777777777777778,
             "#fb9f3a"
            ],
            [
             0.8888888888888888,
             "#fdca26"
            ],
            [
             1,
             "#f0f921"
            ]
           ]
          },
          "colorway": [
           "#636efa",
           "#EF553B",
           "#00cc96",
           "#ab63fa",
           "#FFA15A",
           "#19d3f3",
           "#FF6692",
           "#B6E880",
           "#FF97FF",
           "#FECB52"
          ],
          "font": {
           "color": "#2a3f5f"
          },
          "geo": {
           "bgcolor": "white",
           "lakecolor": "white",
           "landcolor": "#E5ECF6",
           "showlakes": true,
           "showland": true,
           "subunitcolor": "white"
          },
          "hoverlabel": {
           "align": "left"
          },
          "hovermode": "closest",
          "mapbox": {
           "style": "light"
          },
          "paper_bgcolor": "white",
          "plot_bgcolor": "#E5ECF6",
          "polar": {
           "angularaxis": {
            "gridcolor": "white",
            "linecolor": "white",
            "ticks": ""
           },
           "bgcolor": "#E5ECF6",
           "radialaxis": {
            "gridcolor": "white",
            "linecolor": "white",
            "ticks": ""
           }
          },
          "scene": {
           "xaxis": {
            "backgroundcolor": "#E5ECF6",
            "gridcolor": "white",
            "gridwidth": 2,
            "linecolor": "white",
            "showbackground": true,
            "ticks": "",
            "zerolinecolor": "white"
           },
           "yaxis": {
            "backgroundcolor": "#E5ECF6",
            "gridcolor": "white",
            "gridwidth": 2,
            "linecolor": "white",
            "showbackground": true,
            "ticks": "",
            "zerolinecolor": "white"
           },
           "zaxis": {
            "backgroundcolor": "#E5ECF6",
            "gridcolor": "white",
            "gridwidth": 2,
            "linecolor": "white",
            "showbackground": true,
            "ticks": "",
            "zerolinecolor": "white"
           }
          },
          "shapedefaults": {
           "line": {
            "color": "#2a3f5f"
           }
          },
          "ternary": {
           "aaxis": {
            "gridcolor": "white",
            "linecolor": "white",
            "ticks": ""
           },
           "baxis": {
            "gridcolor": "white",
            "linecolor": "white",
            "ticks": ""
           },
           "bgcolor": "#E5ECF6",
           "caxis": {
            "gridcolor": "white",
            "linecolor": "white",
            "ticks": ""
           }
          },
          "title": {
           "x": 0.05
          },
          "xaxis": {
           "automargin": true,
           "gridcolor": "white",
           "linecolor": "white",
           "ticks": "",
           "title": {
            "standoff": 15
           },
           "zerolinecolor": "white",
           "zerolinewidth": 2
          },
          "yaxis": {
           "automargin": true,
           "gridcolor": "white",
           "linecolor": "white",
           "ticks": "",
           "title": {
            "standoff": 15
           },
           "zerolinecolor": "white",
           "zerolinewidth": 2
          }
         }
        },
        "xaxis": {
         "anchor": "y",
         "domain": [
          0,
          1
         ],
         "title": {
          "text": "YEAR"
         }
        },
        "yaxis": {
         "anchor": "x",
         "domain": [
          0,
          1
         ],
         "title": {
          "text": "TOTAL_COST"
         }
        }
       }
      }
     },
     "metadata": {},
     "output_type": "display_data"
    }
   ],
   "source": [
    "df=snow_df_annual_spend_per_channel.to_pandas()\n",
    "\n",
    "fig=px.line(\n",
    "    df,\n",
    "    x=\"YEAR\",\n",
    "    y=\"TOTAL_COST\",\n",
    "    color=\"CHANNEL\",\n",
    "    markers=True\n",
    ")\n",
    "\n",
    "fig.show()"
   ]
  },
  {
   "attachments": {},
   "cell_type": "markdown",
   "id": "7d5aaa78",
   "metadata": {},
   "source": [
    "**YOUR TURN**: Create a DataFrame which shows the total cost per month per channel. Be sure to include the *SEASON* column in the *group by* expression\n",
    "  \n",
    "*Expected output*:\n",
    "```\n",
    "    --------------------------------------------------------------\n",
    "    |\"YEAR\"  |\"MONTH\"  |\"SEASON\"  |\"CHANNEL\"      |\"TOTAL_COST\"  |\n",
    "    --------------------------------------------------------------\n",
    "    |2012    |5        |spring    |email          |517208        |\n",
    "    |2012    |5        |spring    |social_media   |517618        |\n",
    "    |2012    |5        |spring    |video          |516729        |\n",
    "    |2012    |5        |spring    |search_engine  |516431        |\n",
    "    |2012    |6        |summer    |video          |501098        |\n",
    "    |2012    |6        |summer    |search_engine  |506497        |\n",
    "    |2012    |6        |summer    |social_media   |504679        |\n",
    "    |2012    |6        |summer    |email          |501947        |\n",
    "    |2012    |7        |summer    |video          |522762        |\n",
    "    |2012    |7        |summer    |social_media   |521395        |\n",
    "    --------------------------------------------------------------\n",
    "```"
   ]
  },
  {
   "cell_type": "code",
   "execution_count": 115,
   "id": "796b7a13",
   "metadata": {},
   "outputs": [
    {
     "name": "stdout",
     "output_type": "stream",
     "text": [
      "--------------------------------------------------------------\n",
      "|\"YEAR\"  |\"MONTH\"  |\"SEASON\"  |\"CHANNEL\"      |\"TOTAL_COST\"  |\n",
      "--------------------------------------------------------------\n",
      "|2012    |5        |spring    |email          |387879.0      |\n",
      "|2012    |5        |spring    |social_media   |220327.0      |\n",
      "|2012    |5        |spring    |video          |338111.0      |\n",
      "|2012    |5        |spring    |search_engine  |407353.0      |\n",
      "|2012    |6        |summer    |video          |328777.0      |\n",
      "|2012    |6        |summer    |search_engine  |398845.0      |\n",
      "|2012    |6        |summer    |social_media   |217760.0      |\n",
      "|2012    |6        |summer    |email          |378347.0      |\n",
      "|2012    |7        |summer    |video          |344932.0      |\n",
      "|2012    |7        |summer    |social_media   |226811.0      |\n",
      "--------------------------------------------------------------\n",
      "\n"
     ]
    }
   ],
   "source": [
    "snow_df_monthly_spend_per_channel=(\n",
    "    snow_df_spend\n",
    "        .group_by(\n",
    "            \"YEAR\",\n",
    "            \"MONTH\",\n",
    "            \"SEASON\",\n",
    "            \"CHANNEL\"\n",
    "        )\n",
    "        .agg(\n",
    "            F.sum(\"TOTAL_COST\").as_(\"TOTAL_COST\"),\n",
    "        )\n",
    "        .sort(\"YEAR\",\"MONTH\")\n",
    ")\n",
    "\n",
    "snow_df_monthly_spend_per_channel.show(10)"
   ]
  },
  {
   "attachments": {},
   "cell_type": "markdown",
   "id": "5eab5143",
   "metadata": {},
   "source": [
    "### Filtering Snowpark DataFrames\n",
    "By using the ```.filter()``` method, we can filter Snowpark DataFrames just like in Pandas.\n",
    "\n",
    "Here we are filtering our data to only include the *video* channel"
   ]
  },
  {
   "cell_type": "code",
   "execution_count": 116,
   "id": "a4ff9985",
   "metadata": {},
   "outputs": [
    {
     "name": "stdout",
     "output_type": "stream",
     "text": [
      "----------------------------------------------------------\n",
      "|\"YEAR\"  |\"MONTH\"  |\"SEASON\"  |\"CHANNEL\"  |\"TOTAL_COST\"  |\n",
      "----------------------------------------------------------\n",
      "|2012    |5        |spring    |video      |338111.0      |\n",
      "|2012    |6        |summer    |video      |328777.0      |\n",
      "|2012    |7        |summer    |video      |344932.0      |\n",
      "|2012    |8        |summer    |video      |343487.0      |\n",
      "|2012    |9        |fall      |video      |334327.0      |\n",
      "|2012    |10       |fall      |video      |342815.0      |\n",
      "|2012    |11       |fall      |video      |330795.0      |\n",
      "|2012    |12       |winter    |video      |341324.0      |\n",
      "|2013    |1        |winter    |video      |364365.0      |\n",
      "|2013    |2        |winter    |video      |329701.0      |\n",
      "----------------------------------------------------------\n",
      "\n"
     ]
    }
   ],
   "source": [
    "snow_df_monthly_spend_per_channel.filter(F.col(\"CHANNEL\") == \"video\").show()"
   ]
  },
  {
   "attachments": {},
   "cell_type": "markdown",
   "id": "2de2bbdf",
   "metadata": {},
   "source": [
    "**YOUR TURN**: Show months where *TOTAL_COST* value was less than $510,000\n",
    "\n",
    "*Expected output:*\n",
    "```\n",
    "    ---------------------------------------------------\n",
    "    |\"YEAR\"  |\"MONTH\"  |\"CHANNEL\"      |\"TOTAL_COST\"  |\n",
    "    ---------------------------------------------------\n",
    "    |2012    |6        |video          |501098        |\n",
    "    |2012    |6        |email          |501947        |\n",
    "    |2012    |6        |search_engine  |506497        |\n",
    "    |2012    |6        |social_media   |504679        |\n",
    "    |2012    |9        |email          |507363        |\n",
    "    |2012    |9        |social_media   |507404        |\n",
    "    |2012    |9        |search_engine  |507211        |\n",
    "    |2012    |11       |video          |505292        |\n",
    "    |2012    |11       |email          |503748        |\n",
    "    |2012    |11       |search_engine  |505715        |\n",
    "    ---------------------------------------------------\n",
    "```"
   ]
  },
  {
   "cell_type": "code",
   "execution_count": 117,
   "id": "909d4a10",
   "metadata": {},
   "outputs": [
    {
     "name": "stdout",
     "output_type": "stream",
     "text": [
      "--------------------------------------------------------------\n",
      "|\"YEAR\"  |\"MONTH\"  |\"SEASON\"  |\"CHANNEL\"      |\"TOTAL_COST\"  |\n",
      "--------------------------------------------------------------\n",
      "|2012    |5        |spring    |email          |387879.0      |\n",
      "|2012    |5        |spring    |social_media   |220327.0      |\n",
      "|2012    |5        |spring    |video          |338111.0      |\n",
      "|2012    |5        |spring    |search_engine  |407353.0      |\n",
      "|2012    |6        |summer    |video          |328777.0      |\n",
      "|2012    |6        |summer    |search_engine  |398845.0      |\n",
      "|2012    |6        |summer    |social_media   |217760.0      |\n",
      "|2012    |6        |summer    |email          |378347.0      |\n",
      "|2012    |7        |summer    |video          |344932.0      |\n",
      "|2012    |7        |summer    |social_media   |226811.0      |\n",
      "--------------------------------------------------------------\n",
      "\n"
     ]
    }
   ],
   "source": [
    "# Filter our dataframe on total cost less than $510,000\n",
    "dff=snow_df_monthly_spend_per_channel.filter(F.col(\"TOTAL_COST\") < 510000)\n",
    "dff.show()"
   ]
  },
  {
   "attachments": {},
   "cell_type": "markdown",
   "id": "9a02bcda",
   "metadata": {},
   "source": [
    "**YOUR TURN**: Show months where *TOTAL_COST* was less than $510,000 only for the *social_media* channel\n",
    "\n",
    "*Hint: multiple logical expressions can be chained together using the ```&``` and ```|``` operators*\n",
    "\n",
    "*Expected output:*\n",
    "```\n",
    "    --------------------------------------------------\n",
    "    |\"YEAR\"  |\"MONTH\"  |\"CHANNEL\"     |\"TOTAL_COST\"  |\n",
    "    --------------------------------------------------\n",
    "    |2012    |6        |social_media  |504679        |\n",
    "    |2012    |9        |social_media  |507404        |\n",
    "    |2012    |11       |social_media  |505221        |\n",
    "    |2013    |2        |social_media  |474679        |\n",
    "    |2013    |4        |social_media  |505296        |\n",
    "    |2013    |6        |social_media  |502155        |\n",
    "    |2013    |9        |social_media  |503883        |\n",
    "    |2013    |11       |social_media  |505537        |\n",
    "    |2014    |2        |social_media  |470203        |\n",
    "    |2014    |4        |social_media  |501089        |\n",
    "    --------------------------------------------------\n",
    "```"
   ]
  },
  {
   "cell_type": "code",
   "execution_count": 118,
   "id": "c0b6aec5",
   "metadata": {},
   "outputs": [
    {
     "name": "stdout",
     "output_type": "stream",
     "text": [
      "-------------------------------------------------------------\n",
      "|\"YEAR\"  |\"MONTH\"  |\"SEASON\"  |\"CHANNEL\"     |\"TOTAL_COST\"  |\n",
      "-------------------------------------------------------------\n",
      "|2012    |5        |spring    |social_media  |220327.0      |\n",
      "|2012    |6        |summer    |social_media  |217760.0      |\n",
      "|2012    |7        |summer    |social_media  |226811.0      |\n",
      "|2012    |8        |summer    |social_media  |223602.0      |\n",
      "|2012    |9        |fall      |social_media  |219440.0      |\n",
      "|2012    |10       |fall      |social_media  |224430.0      |\n",
      "|2012    |11       |fall      |social_media  |217140.0      |\n",
      "|2012    |12       |winter    |social_media  |223406.0      |\n",
      "|2013    |1        |winter    |social_media  |238459.0      |\n",
      "|2013    |2        |winter    |social_media  |217905.0      |\n",
      "-------------------------------------------------------------\n",
      "\n"
     ]
    }
   ],
   "source": [
    "# Place an additional filter on the channel column to look at social media only\n",
    "dff=snow_df_monthly_spend_per_channel.filter(\n",
    "    (F.col(\"TOTAL_COST\") < 510000) & \n",
    "    (F.col(\"CHANNEL\") == \"social_media\")\n",
    ")\n",
    "\n",
    "dff.show()"
   ]
  },
  {
   "attachments": {},
   "cell_type": "markdown",
   "id": "ae588c6b",
   "metadata": {},
   "source": [
    "**YOUR TURN**: Create a Snowpark Dataframe which shows the total cost per year but only for video and email channels\n",
    "\n",
    "_Expected output:_\n",
    "```\n",
    "    -------------------------  \n",
    "    |\"YEAR\"  |\"TOTAL_COST\"  |  \n",
    "    -------------------------  \n",
    "    |2012    |8233054       |  \n",
    "    |2013    |12268378      |  \n",
    "    |2014    |12261513      |  \n",
    "    |2015    |12263271      |  \n",
    "    |2016    |12301574      |  \n",
    "    |2017    |12266399      |  \n",
    "    |2018    |12261590      |  \n",
    "    |2019    |12265989      |  \n",
    "    |2021    |12258125      |  \n",
    "    |2022    |4425672       |  \n",
    "    -------------------------  \n",
    "```"
   ]
  },
  {
   "cell_type": "code",
   "execution_count": 119,
   "id": "522bb19a",
   "metadata": {},
   "outputs": [
    {
     "name": "stdout",
     "output_type": "stream",
     "text": [
      "-------------------------\n",
      "|\"YEAR\"  |\"TOTAL_COST\"  |\n",
      "-------------------------\n",
      "|2012    |5791579.0     |\n",
      "|2013    |9211333.0     |\n",
      "|2014    |9781032.0     |\n",
      "|2015    |10340465.0    |\n",
      "|2016    |10972444.0    |\n",
      "|2017    |10361331.0    |\n",
      "|2018    |10047691.0    |\n",
      "|2019    |11207200.0    |\n",
      "|2021    |11496472.0    |\n",
      "|2022    |4353871.0     |\n",
      "-------------------------\n",
      "\n"
     ]
    }
   ],
   "source": [
    "dff=(\n",
    "    snow_df_monthly_spend_per_channel\n",
    "        .filter(F.col(\"CHANNEL\").isin([\"video\",\"email\"]))\n",
    "        .group_by(\"YEAR\")\n",
    "        .agg(F.sum(\"TOTAL_COST\").as_(\"TOTAL_COST\"))\n",
    ")\n",
    "\n",
    "dff.show()"
   ]
  },
  {
   "attachments": {},
   "cell_type": "markdown",
   "id": "7f67d9af",
   "metadata": {},
   "source": [
    "### Pivot on Channel\n",
    "\n",
    " Let's further transform the campaign spend data using the ```.pivot()``` and ```.sum()``` Snowpark functions. This transformation results in a DataFrame where **the sum of each row represents the total cost across all channels** per month.\n",
    "\n",
    " Pivoting our DataFrame this way enables us to join with the revenue table (which we will load in the next section) such that we will have our input features and target variable in a single table for model training.\n",
    "\n",
    " TIP: For a full list of functions, refer to the [docs](https://docs.snowflake.com/en/developer-guide/snowpark/reference/python/_autosummary/snowflake.snowpark.functions.html#module-snowflake.snowpark.functions)."
   ]
  },
  {
   "cell_type": "code",
   "execution_count": 120,
   "id": "2f8a63e7",
   "metadata": {},
   "outputs": [
    {
     "name": "stdout",
     "output_type": "stream",
     "text": [
      "----------------------------------------------------------------------------------------------\n",
      "|\"YEAR\"  |\"MONTH\"  |\"SEASON\"  |\"'search_engine'\"  |\"'social_media'\"  |\"'video'\"  |\"'email'\"  |\n",
      "----------------------------------------------------------------------------------------------\n",
      "|2012    |5        |spring    |407353.0           |220327.0          |338111.0   |387879.0   |\n",
      "|2012    |6        |summer    |398845.0           |217760.0          |328777.0   |378347.0   |\n",
      "|2012    |7        |summer    |412642.0           |226811.0          |344932.0   |386480.0   |\n",
      "|2012    |8        |summer    |410282.0           |223602.0          |343487.0   |393446.0   |\n",
      "|2012    |9        |fall      |399291.0           |219440.0          |334327.0   |382305.0   |\n",
      "|2012    |10       |fall      |408286.0           |224430.0          |342815.0   |389974.0   |\n",
      "|2012    |11       |fall      |397088.0           |217140.0          |330795.0   |377729.0   |\n",
      "|2012    |12       |winter    |410084.0           |223406.0          |341324.0   |390851.0   |\n",
      "|2013    |1        |winter    |439272.0           |238459.0          |364365.0   |416533.0   |\n",
      "|2013    |2        |winter    |392992.0           |217905.0          |329701.0   |372984.0   |\n",
      "----------------------------------------------------------------------------------------------\n",
      "\n"
     ]
    }
   ],
   "source": [
    "snow_df_spend_per_month_pivot=(\n",
    "    snow_df_monthly_spend_per_channel\n",
    "        .pivot(\n",
    "            pivot_col=\"CHANNEL\",\n",
    "            values=[\"search_engine\",\"social_media\",\"video\",\"email\"]\n",
    "        )\n",
    "        .sum(\"TOTAL_COST\")\n",
    "        .sort(\"YEAR\",\"MONTH\")\n",
    "    )\n",
    "\n",
    "snow_df_spend_per_month_pivot.show()"
   ]
  },
  {
   "attachments": {},
   "cell_type": "markdown",
   "id": "059c8b47",
   "metadata": {},
   "source": [
    "Notice that the names of our pivoted columns are lower cased and enclosed in single quotes - this will cause some problems later on when we use this data to train our regression model.\n",
    "\n",
    "We will rename the columns below to make them more \"model-friendly\""
   ]
  },
  {
   "cell_type": "code",
   "execution_count": 121,
   "id": "72741cce",
   "metadata": {},
   "outputs": [
    {
     "name": "stdout",
     "output_type": "stream",
     "text": [
      "----------------------------------------------------------------------------------------\n",
      "|\"YEAR\"  |\"MONTH\"  |\"SEASON\"  |\"SEARCH_ENGINE\"  |\"SOCIAL_MEDIA\"  |\"VIDEO\"   |\"EMAIL\"   |\n",
      "----------------------------------------------------------------------------------------\n",
      "|2012    |5        |spring    |407353.0         |220327.0        |338111.0  |387879.0  |\n",
      "|2012    |6        |summer    |398845.0         |217760.0        |328777.0  |378347.0  |\n",
      "|2012    |7        |summer    |412642.0         |226811.0        |344932.0  |386480.0  |\n",
      "|2012    |8        |summer    |410282.0         |223602.0        |343487.0  |393446.0  |\n",
      "|2012    |9        |fall      |399291.0         |219440.0        |334327.0  |382305.0  |\n",
      "|2012    |10       |fall      |408286.0         |224430.0        |342815.0  |389974.0  |\n",
      "|2012    |11       |fall      |397088.0         |217140.0        |330795.0  |377729.0  |\n",
      "|2012    |12       |winter    |410084.0         |223406.0        |341324.0  |390851.0  |\n",
      "|2013    |1        |winter    |439272.0         |238459.0        |364365.0  |416533.0  |\n",
      "|2013    |2        |winter    |392992.0         |217905.0        |329701.0  |372984.0  |\n",
      "----------------------------------------------------------------------------------------\n",
      "\n"
     ]
    }
   ],
   "source": [
    "snow_df_spend_per_month_pivot=(\n",
    "    snow_df_spend_per_month_pivot        \n",
    "        .with_column_renamed(F.col(\"'search_engine'\"),\"SEARCH_ENGINE\")\n",
    "        .with_column_renamed(F.col(\"'social_media'\"),\"SOCIAL_MEDIA\")\n",
    "        .with_column_renamed(F.col(\"'video'\"),\"VIDEO\")\n",
    "        .with_column_renamed(F.col(\"'email'\"),\"EMAIL\")\n",
    ")\n",
    "\n",
    "snow_df_spend_per_month_pivot.show()"
   ]
  },
  {
   "cell_type": "markdown",
   "id": "47937d8b",
   "metadata": {},
   "source": [
    "### Total Revenue per Month"
   ]
  },
  {
   "attachments": {},
   "cell_type": "markdown",
   "id": "55cd4f53",
   "metadata": {},
   "source": [
    "Now let's load the revenue table\n",
    "\n",
    "**YOUR TURN**: complete the code block below to load a table from Snowflake called ```monthly_revenue```. Save this table as a Snowpark DataFrame named ```snow_df_monthly_revenue```\n",
    "\n",
    "\n",
    "*Expected output*:\n",
    "```\n",
    "    ---------------------------------\n",
    "    |\"YEAR\"  |\"MONTH\"  |\"REVENUE\"   |\n",
    "    ---------------------------------\n",
    "    |2012    |5        |3264300.11  |\n",
    "    |2012    |6        |3208482.33  |\n",
    "    |2012    |7        |3311966.98  |\n",
    "    |2012    |8        |3311752.81  |\n",
    "    |2012    |9        |3208563.06  |\n",
    "    |2012    |10       |3334028.46  |\n",
    "    |2012    |11       |3185894.64  |\n",
    "    |2012    |12       |3334570.96  |\n",
    "    |2013    |1        |3316455.44  |\n",
    "    |2013    |2        |2995042.21  |\n",
    "    ---------------------------------\n",
    "```"
   ]
  },
  {
   "cell_type": "code",
   "execution_count": 122,
   "id": "013b2276",
   "metadata": {},
   "outputs": [
    {
     "name": "stdout",
     "output_type": "stream",
     "text": [
      "-----------------------------------------\n",
      "|\"YEAR\"  |\"MONTH\"  |\"REVENUE\"           |\n",
      "-----------------------------------------\n",
      "|2012    |5        |2480868.0836        |\n",
      "|2012    |6        |2438446.5708        |\n",
      "|2012    |7        |2351496.5557999997  |\n",
      "|2012    |8        |2483814.6075        |\n",
      "|2012    |9        |2342251.0338        |\n",
      "|2012    |10       |2367160.2065999997  |\n",
      "|2012    |11       |2357562.0336        |\n",
      "|2012    |12       |2500928.2199999997  |\n",
      "|2013    |1        |2686328.9064        |\n",
      "|2013    |2        |2425984.1901000002  |\n",
      "-----------------------------------------\n",
      "\n"
     ]
    }
   ],
   "source": [
    "snow_df_monthly_revenue=session.table('MONTHLY_REVENUE').sort(\"YEAR\",\"MONTH\")\n",
    "snow_df_monthly_revenue.show()"
   ]
  },
  {
   "cell_type": "markdown",
   "id": "ccadfae4",
   "metadata": {},
   "source": [
    "### Join Total Spend and Total Revenue per Month"
   ]
  },
  {
   "attachments": {},
   "cell_type": "markdown",
   "id": "1035d996",
   "metadata": {},
   "source": [
    "Joining Snowpark DataFrames works in the same way as Pandas or SQL tables.\n",
    "\n",
    "Next let's **join this revenue data with the transformed campaign spend data** so that our input features (i.e. cost per channel) and target variable (i.e. revenue) can be loaded into a single table for model training. "
   ]
  },
  {
   "cell_type": "code",
   "execution_count": 123,
   "id": "1d49b236",
   "metadata": {},
   "outputs": [
    {
     "name": "stdout",
     "output_type": "stream",
     "text": [
      "-------------------------------------------------------------------------------------------------------------\n",
      "|\"YEAR\"  |\"MONTH\"  |\"SEASON\"  |\"SEARCH_ENGINE\"  |\"SOCIAL_MEDIA\"  |\"VIDEO\"   |\"EMAIL\"   |\"REVENUE\"           |\n",
      "-------------------------------------------------------------------------------------------------------------\n",
      "|2012    |5        |spring    |407353.0         |220327.0        |338111.0  |387879.0  |2480868.0836        |\n",
      "|2012    |6        |summer    |398845.0         |217760.0        |328777.0  |378347.0  |2438446.5708        |\n",
      "|2012    |7        |summer    |412642.0         |226811.0        |344932.0  |386480.0  |2351496.5557999997  |\n",
      "|2012    |8        |summer    |410282.0         |223602.0        |343487.0  |393446.0  |2483814.6075        |\n",
      "|2012    |9        |fall      |399291.0         |219440.0        |334327.0  |382305.0  |2342251.0338        |\n",
      "|2012    |10       |fall      |408286.0         |224430.0        |342815.0  |389974.0  |2367160.2065999997  |\n",
      "|2012    |11       |fall      |397088.0         |217140.0        |330795.0  |377729.0  |2357562.0336        |\n",
      "|2012    |12       |winter    |410084.0         |223406.0        |341324.0  |390851.0  |2500928.2199999997  |\n",
      "|2013    |1        |winter    |439272.0         |238459.0        |364365.0  |416533.0  |2686328.9064        |\n",
      "|2013    |2        |winter    |392992.0         |217905.0        |329701.0  |372984.0  |2425984.1901000002  |\n",
      "-------------------------------------------------------------------------------------------------------------\n",
      "\n"
     ]
    }
   ],
   "source": [
    "snow_df_monthly_spend_and_revenue=(\n",
    "    snow_df_spend_per_month_pivot.join(snow_df_monthly_revenue, [\"YEAR\",\"MONTH\"])\n",
    ")\n",
    "\n",
    "snow_df_monthly_spend_and_revenue.show()"
   ]
  },
  {
   "attachments": {},
   "cell_type": "markdown",
   "id": "fe4aaaba",
   "metadata": {},
   "source": [
    "## >>>>>>>>>> *CHECKPOINT : PAUSE HERE BEFORE MOVING ON* <<<<<<<<<<"
   ]
  },
  {
   "cell_type": "markdown",
   "id": "2c7e2cd2",
   "metadata": {},
   "source": [
    "### Model Training in Snowflake \n",
    "\n",
    "#### Features and Target\n",
    "\n",
    "At this point we are ready to perform the following actions to create features and target for model training.\n",
    "\n",
    "* Delete rows with missing values\n",
    "* Exclude columns we don't need for modeling\n",
    "* Save features into a Snowflake table called MARKETING_BUDGETS_FEATURES\n",
    "\n",
    "TIP: To see how to handle missing values in Snowpark Python, refer to this [blog](https://medium.com/snowflake/handling-missing-values-with-snowpark-for-python-part-1-4af4285d24e6)."
   ]
  },
  {
   "cell_type": "code",
   "execution_count": 124,
   "id": "9ec7fff9",
   "metadata": {},
   "outputs": [],
   "source": [
    "inits=input(\"Enter your initials\")"
   ]
  },
  {
   "cell_type": "code",
   "execution_count": 125,
   "id": "678e4646",
   "metadata": {},
   "outputs": [
    {
     "name": "stdout",
     "output_type": "stream",
     "text": [
      "----------------------------------------------------------------------------------------------------\n",
      "|\"MONTH\"  |\"SEASON\"  |\"SEARCH_ENGINE\"  |\"SOCIAL_MEDIA\"  |\"VIDEO\"   |\"EMAIL\"   |\"REVENUE\"           |\n",
      "----------------------------------------------------------------------------------------------------\n",
      "|5        |spring    |407353.0         |220327.0        |338111.0  |387879.0  |2480868.0836        |\n",
      "|6        |summer    |398845.0         |217760.0        |328777.0  |378347.0  |2438446.5708        |\n",
      "|7        |summer    |412642.0         |226811.0        |344932.0  |386480.0  |2351496.5557999997  |\n",
      "|8        |summer    |410282.0         |223602.0        |343487.0  |393446.0  |2483814.6075        |\n",
      "|9        |fall      |399291.0         |219440.0        |334327.0  |382305.0  |2342251.0338        |\n",
      "|10       |fall      |408286.0         |224430.0        |342815.0  |389974.0  |2367160.2065999997  |\n",
      "|11       |fall      |397088.0         |217140.0        |330795.0  |377729.0  |2357562.0336        |\n",
      "|12       |winter    |410084.0         |223406.0        |341324.0  |390851.0  |2500928.2199999997  |\n",
      "|1        |winter    |439272.0         |238459.0        |364365.0  |416533.0  |2686328.9064        |\n",
      "|2        |winter    |392992.0         |217905.0        |329701.0  |372984.0  |2425984.1901000002  |\n",
      "----------------------------------------------------------------------------------------------------\n",
      "\n"
     ]
    }
   ],
   "source": [
    "# Delete rows with missing values\n",
    "snow_df_spend_and_revenue_per_month_clean = snow_df_monthly_spend_and_revenue.dropna()\n",
    "\n",
    "# Exclude columns we don't need for modeling\n",
    "snow_df_spend_and_revenue_per_month_clean = snow_df_spend_and_revenue_per_month_clean.drop(['YEAR'])\n",
    "\n",
    "# Save features into a Snowflake table call MARKETING_BUDGETS_FEATURES\n",
    "snow_df_spend_and_revenue_per_month_clean.write.mode('overwrite').save_as_table(f'MARKETING_BUDGETS_FEATURES_{inits}')\n",
    "snow_df_spend_and_revenue_per_month_clean.show()"
   ]
  },
  {
   "cell_type": "markdown",
   "id": "98aaac15",
   "metadata": {},
   "source": [
    "**YOUR TURN**: How would you save another \"copy\" of this dataframe to a table to do further analysis?"
   ]
  },
  {
   "cell_type": "code",
   "execution_count": 126,
   "id": "62081ab8",
   "metadata": {},
   "outputs": [],
   "source": [
    "# Try it using the method above (save_as_table)\n",
    "snow_df_spend_and_revenue_per_month_clean.write.mode(\"overwrite\").save_as_table(f\"MARKETING_BUDGETS_FEATURES_ANALYSIS_{inits}\")"
   ]
  },
  {
   "cell_type": "markdown",
   "id": "social-enough",
   "metadata": {
    "papermill": {
     "duration": 0.07231,
     "end_time": "2021-05-15T09:33:52.171663",
     "exception": false,
     "start_time": "2021-05-15T09:33:52.099353",
     "status": "completed"
    },
    "tags": []
   },
   "source": [
    "#### Python function to train a Linear Regression model using scikit-learn\n",
    "\n",
    "Let's create a Python function that uses **scikit-learn and other packages which are already included in** [Snowflake Anaconda channel](https://repo.anaconda.com/pkgs/snowflake/) and therefore available on the server-side when executing the Python function as a Stored Procedure running in Snowflake.\n",
    "\n",
    "This function takes the following as parameters:\n",
    "\n",
    "* _session_: Snowflake Session object.\n",
    "* _features_table_: Name of the table that holds the features and target variable.\n",
    "* _number_of_folds_: Number of cross validation folds used in GridSearchCV.\n",
    "* _polynomial_features_degress_: PolynomialFeatures as a preprocessing step.\n",
    "* _train_accuracy_threshold_: Accuracy thresholds for train dataset. This values is used to determine if the model should be saved.\n",
    "* _test_accuracy_threshold_: Accuracy thresholds for test dataset. This values is used to determine if the model should be saved.\n",
    "* _save_model_: Boolean that determines if the model should be saved provided the accuracy thresholds are met.\n",
    "\n",
    "TIP: For large datasets, Snowflake offers [Snowpark-optimized Warehouses](https://docs.snowflake.com/en/user-guide/warehouses-snowpark-optimized.html) or in-memory storage\n",
    "\n"
   ]
  },
  {
   "cell_type": "code",
   "execution_count": 127,
   "id": "caring-weight",
   "metadata": {
    "papermill": {
     "duration": 0.079552,
     "end_time": "2021-05-15T09:33:52.631191",
     "exception": false,
     "start_time": "2021-05-15T09:33:52.551639",
     "status": "completed"
    },
    "tags": []
   },
   "outputs": [],
   "source": [
    "\n",
    "def train_revenue_prediction_model(\n",
    "    session: Session, \n",
    "    features_table: str, \n",
    "    numeric_features: list,\n",
    "    categorical_features: list,\n",
    "    number_of_folds: int,\n",
    "    train_accuracy_threshold: float, \n",
    "    test_accuracy_threshold: float, \n",
    "    save_model: bool) -> str:\n",
    "    \n",
    "    from sklearn.compose import ColumnTransformer\n",
    "    from sklearn.pipeline import Pipeline\n",
    "    from sklearn.preprocessing import StandardScaler, OneHotEncoder\n",
    "    from sklearn.linear_model import LinearRegression\n",
    "    from sklearn.model_selection import train_test_split, GridSearchCV\n",
    "\n",
    "    import os\n",
    "    from joblib import dump\n",
    "\n",
    "    # Load features\n",
    "    df = session.table(features_table).to_pandas()\n",
    "\n",
    "    # Preprocess the Numeric columns\n",
    "    numeric_transformer = Pipeline(\n",
    "        steps=[\n",
    "            ('scaler', StandardScaler())\n",
    "        ]\n",
    "    )\n",
    "\n",
    "    # one hot encode categorical columns\n",
    "    categorical_transformer=Pipeline(\n",
    "        steps=[\n",
    "            (\"ohe\", OneHotEncoder(handle_unknown=\"ignore\"))\n",
    "        ]\n",
    "    )\n",
    "\n",
    "    # Combine the preprocessed step together using the Column Transformer module\n",
    "    preprocessor = ColumnTransformer(\n",
    "        transformers=[\n",
    "            (\"num\", numeric_transformer, numeric_features),\n",
    "            (\"cat\", categorical_transformer, categorical_features)\n",
    "        ]\n",
    "    )\n",
    "\n",
    "    # The next step is the integrate the features we just preprocessed with our Machine Learning algorithm to enable us to build a model\n",
    "    pipeline = Pipeline(\n",
    "        steps=[\n",
    "            (\"preprocessor\", preprocessor),\n",
    "            (\"classifier\", LinearRegression())\n",
    "        ]\n",
    "    )\n",
    "\n",
    "    # define dataframes for features (X) and target (y)\n",
    "    X = df.drop('REVENUE', axis = 1)\n",
    "    y = df['REVENUE']\n",
    "\n",
    "    # Split dataset into training and test\n",
    "    X_train, X_test, y_train, y_test = train_test_split(X, y, test_size=0.2, random_state = 42)\n",
    "\n",
    "    # Use GridSearch to find the best fitting model based on number_of_folds folds\n",
    "    model = GridSearchCV(pipeline, param_grid={}, cv=number_of_folds)\n",
    "\n",
    "    \n",
    "    model.fit(X_train, y_train)\n",
    "    \n",
    "    train_r2_score = model.score(X_train, y_train)\n",
    "    test_r2_score = model.score(X_test, y_test)\n",
    "\n",
    "    # create a string of output text to view model results when training/testing\n",
    "    train_accuracy = f\"Train accuracy: {train_r2_score:.2%}; Train accuracy threshold: {train_accuracy_threshold:.2%}\"\n",
    "    test_accuracy = f\"Test accuracy: {test_r2_score:.2%}; Test accuracy threshold: {test_accuracy_threshold:.2%}\"\n",
    "\n",
    "    if not save_model:\n",
    "        save_state = f\"Running in test mode...not saving model\"\n",
    "    else:\n",
    "        if train_r2_score >= train_accuracy_threshold and test_r2_score >= test_accuracy_threshold:\n",
    "            save_state = \"Accuracy is acceptable! Saving model\"\n",
    "\n",
    "            # Upload trained model to a stage\n",
    "            model_output_dir = '/tmp'\n",
    "            model_file = os.path.join(model_output_dir, f'model_{inits}.joblib')\n",
    "            dump(model, model_file)\n",
    "            session.file.put(model_file, \"@demo_models\",overwrite=True)\n",
    "        else:\n",
    "            save_state = \"Accuracy threshold violated...not saving\"\n",
    "\n",
    "    return (\n",
    "        train_accuracy,\n",
    "        test_accuracy,\n",
    "        save_state\n",
    "    )"
   ]
  },
  {
   "attachments": {},
   "cell_type": "markdown",
   "id": "26304617",
   "metadata": {},
   "source": [
    "#### Test Python function before deploying it as a Stored Procedure on Snowflake\n",
    "\n",
    "To make sure our model works, we'll first call it before deploying to Snowflake"
   ]
  },
  {
   "cell_type": "code",
   "execution_count": 128,
   "id": "924c4f5f",
   "metadata": {},
   "outputs": [
    {
     "data": {
      "text/plain": [
       "('Train accuracy: 94.51%; Train accuracy threshold: 85.00%',\n",
       " 'Test accuracy: 93.44%; Test accuracy threshold: 85.00%',\n",
       " 'Running in test mode...not saving model')"
      ]
     },
     "execution_count": 128,
     "metadata": {},
     "output_type": "execute_result"
    }
   ],
   "source": [
    "train_revenue_prediction_model(\n",
    "    session=session,\n",
    "    features_table=f\"MARKETING_BUDGETS_FEATURES_{inits}\",\n",
    "    numeric_features = [\"SEARCH_ENGINE\",\"SOCIAL_MEDIA\",\"VIDEO\",\"EMAIL\"],\n",
    "    categorical_features = [\"SEASON\"],\n",
    "    number_of_folds=10,\n",
    "    train_accuracy_threshold=0.85,\n",
    "    test_accuracy_threshold=0.85,\n",
    "    save_model=False\n",
    ")"
   ]
  },
  {
   "cell_type": "markdown",
   "id": "bbf90cdc",
   "metadata": {},
   "source": [
    "### Create Stored Procedure to deploy model training code on Snowflake\n",
    "\n",
    "Assuming the testing is complete and we're satisfied with the model, let's **register the model training Python function as a Snowpark Python Stored Procedure** by supplying the packages (_snowflake-snowpark-python,scikit-learn, and joblib_) it will need and use during execution.\n",
    "\n",
    "NOTE: Be sure to name your stored procedure below using your initials or another unique identifier since you are using the same database & schema!"
   ]
  },
  {
   "cell_type": "code",
   "execution_count": null,
   "id": "de22015b",
   "metadata": {},
   "outputs": [],
   "source": []
  },
  {
   "cell_type": "code",
   "execution_count": 129,
   "id": "630975b1",
   "metadata": {},
   "outputs": [
    {
     "data": {
      "text/plain": [
       "<snowflake.snowpark.stored_procedure.StoredProcedure at 0x7f9b0bcffee0>"
      ]
     },
     "execution_count": 129,
     "metadata": {},
     "output_type": "execute_result"
    }
   ],
   "source": [
    "# Be sure to name the stored procedure using your initials or another unique identifier such as \"train_revenue_prediction_model_STR\"\n",
    "session.sproc.register(\n",
    "    func=train_revenue_prediction_model,\n",
    "    name=f\"train_revenue_prediction_model_{inits}\",\n",
    "    packages=['snowflake-snowpark-python','scikit-learn','joblib'])\n",
    "    is_permanent=True,\n",
    "    stage_location=\"@demo_sprocs\",\n",
    "    replace=True)"
   ]
  },
  {
   "cell_type": "markdown",
   "id": "f3f1dcfa",
   "metadata": {},
   "source": [
    "### Execute Stored Procedure to train model and deploy it on Snowflake\n",
    "\n",
    "Now we're ready to train the model and save it onto a Snowflake stage so let's set _save_model = True_ and run/execute the Stored Procedure using _session.call()_ function. \n",
    "\n",
    "NOTE: Use the same stored procedure name you used previously"
   ]
  },
  {
   "cell_type": "code",
   "execution_count": 130,
   "id": "a8846d95",
   "metadata": {},
   "outputs": [
    {
     "data": {
      "text/plain": [
       "\"('Train accuracy: 94.51%; Train accuracy threshold: 85.00%', 'Test accuracy: 93.44%; Test accuracy threshold: 85.00%', 'Accuracy is acceptable! Saving model')\""
      ]
     },
     "execution_count": 130,
     "metadata": {},
     "output_type": "execute_result"
    }
   ],
   "source": [
    "# Make sure to update the stored procedure name to what you set above\n",
    "cross_validaton_folds=10\n",
    "numeric_features=[\"SEARCH_ENGINE\",\"SOCIAL_MEDIA\",\"VIDEO\",\"EMAIL\"]\n",
    "categorical_features=[\"SEASON\"]\n",
    "polynomial_features_degrees=2\n",
    "train_accuracy_threshold=0.85\n",
    "test_accuracy_threshold=0.85\n",
    "save_model=True\n",
    "\n",
    "session.call(\n",
    "    f\"train_revenue_prediction_model_{inits}\",\n",
    "    f\"MARKETING_BUDGETS_FEATURES_{inits}\",\n",
    "    numeric_features,\n",
    "    categorical_features,\n",
    "    cross_validaton_folds,\n",
    "    train_accuracy_threshold,\n",
    "    test_accuracy_threshold,\n",
    "    save_model\n",
    ")"
   ]
  },
  {
   "cell_type": "markdown",
   "id": "6b7952e7",
   "metadata": {},
   "source": [
    "## >>>>>>>>>> *CHECKPOINT 2 : PAUSE HERE BEFORE MOVING ON* <<<<<<<<<<"
   ]
  },
  {
   "cell_type": "markdown",
   "id": "3d3e1dbf",
   "metadata": {},
   "source": [
    "### Create Scalar User-Defined Function (UDF) for inference\n",
    "\n",
    "Now to deploy this model for inference, let's **create and register a Snowpark Python UDF and add the trained model as a dependency**. Once registered, getting new predictions is as simple as calling the function by passing in data.\n",
    "\n",
    "Scalar UDFs operate on a single row / set of data points and are great for online inference\n",
    "\n",
    "NOTE: Similar to before with the stored procedure, make sure to add your initials or a unique qualifier to the UDF name below"
   ]
  },
  {
   "cell_type": "code",
   "execution_count": 131,
   "id": "4a2c9a07",
   "metadata": {},
   "outputs": [],
   "source": [
    "# Remember to change the UDF name to include your initials or a unique identifier\n",
    "session.clear_imports()\n",
    "session.clear_packages()\n",
    "\n",
    "# Add trained model and Python packages from Snowflake Anaconda channel available on the server-side as UDF dependencies\n",
    "session.add_import(f'@demo_models/model_{inits}.joblib.gz')\n",
    "session.add_packages('pandas','joblib','scikit-learn==1.1.1')\n",
    "\n",
    "@F.udf(name=f'predict_roi_{inits}',session=session,replace=True,is_permanent=True,stage_location='@demo_udfs')\n",
    "def predict_roi(budget_allocations: list) -> float:\n",
    "\n",
    "    import sys\n",
    "    import pandas as pd\n",
    "    from joblib import load\n",
    "\n",
    "    IMPORT_DIRECTORY_NAME = \"snowflake_import_directory\"\n",
    "    import_dir = sys._xoptions[IMPORT_DIRECTORY_NAME]\n",
    "    \n",
    "    model_file = import_dir + f'model_{inits}.joblib.gz'\n",
    "    model = load(model_file)\n",
    "            \n",
    "    features = [\"SEASON\",\"SEARCH_ENGINE\",\"SOCIAL_MEDIA\",\"VIDEO\",\"EMAIL\"]\n",
    "    df = pd.DataFrame([budget_allocations], columns=features)\n",
    "    roi = abs(model.predict(df)[0])\n",
    "    \n",
    "    return roi"
   ]
  },
  {
   "cell_type": "markdown",
   "id": "a549ca07",
   "metadata": {},
   "source": [
    "<div style='text-align: center'>\n",
    "    <img src=\"assets/snowpark_python_udfs.png\" alt=\"Snowpark\" style=\"width: 75%;\"/>\n",
    "</div>"
   ]
  },
  {
   "cell_type": "markdown",
   "id": "a8fc7202",
   "metadata": {},
   "source": [
    "### Call Scalar User-Defined Function (UDF) for inference on new data"
   ]
  },
  {
   "cell_type": "markdown",
   "id": "d40e0fb7",
   "metadata": {},
   "source": [
    " Once the UDF is registered, getting new predictions is as simple as calling the _call_udf()_ Snowpark Python function and passing in new datapoints.\n",
    "\n",
    "Let's create a SnowPark DataFrame with some sample data and call the UDF to get new predictions."
   ]
  },
  {
   "cell_type": "code",
   "execution_count": 132,
   "id": "9b1f1ba1",
   "metadata": {},
   "outputs": [
    {
     "name": "stdout",
     "output_type": "stream",
     "text": [
      "---------------------------------------------------------------------------------------\n",
      "|\"SEASON\"  |\"SEARCH_ENGINE\"  |\"SOCIAL_MEDIA\"  |\"VIDEO\"  |\"EMAIL\"  |\"PREDICTED_ROI\"    |\n",
      "---------------------------------------------------------------------------------------\n",
      "|winter    |250000           |300000          |200000   |19000    |2105377.943999556  |\n",
      "---------------------------------------------------------------------------------------\n",
      "\n"
     ]
    }
   ],
   "source": [
    "# define list of columns and convert to an arry\n",
    "col_list = [\"SEASON\",\"SEARCH_ENGINE\",\"SOCIAL_MEDIA\",\"VIDEO\",\"EMAIL\"]\n",
    "col_array = F.array_construct(*col_list)\n",
    "\n",
    "new_data=[\n",
    "    (\"winter\", 250000, 300000, 200000, 19000)\n",
    "]\n",
    "test_df=session.create_dataframe(new_data, schema=col_list)\n",
    "\n",
    "\n",
    "test_df.select(\n",
    "   \"SEASON\",\"SEARCH_ENGINE\",\"SOCIAL_MEDIA\",\"VIDEO\",\"EMAIL\", \n",
    "   F.call_udf(f\"predict_roi_{inits}\", col_array).as_(\"PREDICTED_ROI\")\n",
    ").show()"
   ]
  },
  {
   "attachments": {},
   "cell_type": "markdown",
   "id": "c4825e30",
   "metadata": {},
   "source": [
    "### Create Vectorized User-Defined Function (UDF) using Batch API for inference\n",
    "\n",
    "Here we will leverage the Python UDF Batch API to create a **vectorized** UDF which takes a Pandas Dataframe as input. This means that each call to the UDF receives a set/batch of rows compared to a Scalar UDF which gets one row as input. \n",
    "\n",
    "First we will create a helper function _load_model()_ that uses **cachetools** to make sure we only load the model once followed by _batch_predict_roi()_ function that does the inference. \n",
    "\n",
    "Vectorized UDFs are great for offline inference in batch mode.\n",
    "\n",
    "Advantages of using the Batch API over Scalar UDFs:\n",
    "\n",
    "* The potential for better performance if your Python code operates efficiently on batches of rows\n",
    "* Less transformation logic required if you are calling into libraries that operate on Pandas DataFrames or Pandas arrays\n",
    "\n",
    "NOTE: Like before, remember to change the UDF function name to include your initials or a unique identifier below"
   ]
  },
  {
   "cell_type": "code",
   "execution_count": 133,
   "id": "a4fadde4",
   "metadata": {},
   "outputs": [
    {
     "name": "stdout",
     "output_type": "stream",
     "text": [
      "generating random data...\n",
      "saving random data...\n",
      "100000 random records generated!\n"
     ]
    }
   ],
   "source": [
    "from generate_batch_data import generate_random_table\n",
    "\n",
    "generate_random_table(\n",
    "    session=session, \n",
    "    num_records=100000,\n",
    "    table_name=f\"random_model_data_{inits}\"\n",
    ")"
   ]
  },
  {
   "cell_type": "code",
   "execution_count": 134,
   "id": "9b938b6e",
   "metadata": {},
   "outputs": [],
   "source": [
    "# Remember to update the UDF function name below similar to before\n",
    "session.clear_imports()\n",
    "session.clear_packages()\n",
    "\n",
    "import cachetools\n",
    "from snowflake.snowpark.types import PandasSeries, PandasDataFrame\n",
    "\n",
    "# Add trained model and Python packages from Snowflake Anaconda channel available on the server-side as UDF dependencies\n",
    "session.add_import(f'@demo_models/model_{inits}.joblib.gz')\n",
    "session.add_packages('pandas','joblib','scikit-learn','cachetools')\n",
    "\n",
    "@cachetools.cached(cache={})\n",
    "def load_model(filename):\n",
    "    import joblib\n",
    "    import sys\n",
    "    import os\n",
    "\n",
    "    IMPORT_DIRECTORY_NAME = \"snowflake_import_directory\"\n",
    "    import_dir = sys._xoptions[IMPORT_DIRECTORY_NAME]\n",
    "\n",
    "    if import_dir:\n",
    "        with open(os.path.join(import_dir, filename), 'rb') as file:\n",
    "            m = joblib.load(file)\n",
    "            return m\n",
    "\n",
    "@F.udf(name=f\"batch_predict_roi_{inits}\",session=session,replace=True,is_permanent=True,stage_location='@demo_udfs')\n",
    "def batch_predict_roi(budget_allocations_df: PandasDataFrame[str, int, int, int, int]) -> PandasSeries[float]:\n",
    "\n",
    "    budget_allocations_df.columns=[\"SEASON\",\"SEARCH_ENGINE\",\"SOCIAL_MEDIA\",\"VIDEO\",\"EMAIL\"]\n",
    "    model = load_model(f'model_{inits}.joblib.gz')\n",
    "\n",
    "    return abs(model.predict(budget_allocations_df))"
   ]
  },
  {
   "cell_type": "markdown",
   "id": "60a99309",
   "metadata": {},
   "source": [
    "### Call Vectorized User-Defined Function (UDF) using Batch API for inference on new data\n",
    "\n",
    "When you use the Batch API:\n",
    "\n",
    "* You do not need to change how you write queries using Python UDFs. All batching is handled by the UDF framework rather than your own code\n",
    "* NOTE: As with the non-batch / scalar API, there is no guarantee of which instances of your handler code will see which batches of input"
   ]
  },
  {
   "cell_type": "code",
   "execution_count": 135,
   "id": "5766e4a5",
   "metadata": {},
   "outputs": [
    {
     "name": "stdout",
     "output_type": "stream",
     "text": [
      "generating random data...\n",
      "saving random data...\n",
      "10000 random records generated!\n"
     ]
    }
   ],
   "source": [
    "from generate_batch_data  import generate_random_table\n",
    "generate_random_table(session=session, num_records = 10000, table_name = f\"random_model_data_{inits}\")\n"
   ]
  },
  {
   "cell_type": "code",
   "execution_count": 136,
   "id": "57045fca",
   "metadata": {},
   "outputs": [
    {
     "name": "stdout",
     "output_type": "stream",
     "text": [
      "----------------------------------------------------------------------------------------\n",
      "|\"SEASON\"  |\"SEARCH_ENGINE\"  |\"SOCIAL_MEDIA\"  |\"VIDEO\"  |\"EMAIL\"  |\"PREDICTED_ROI\"     |\n",
      "----------------------------------------------------------------------------------------\n",
      "|spring    |254495           |282707          |302663   |349044   |1137198.4811413279  |\n",
      "|fall      |290411           |283611          |321290   |323830   |1602627.0856170119  |\n",
      "|fall      |282464           |302635          |335946   |345666   |1473670.551361208   |\n",
      "|winter    |143573           |121900          |187830   |139886   |883174.6629280355   |\n",
      "|fall      |337156           |348276          |298818   |323130   |1982721.3243836113  |\n",
      "|fall      |334205           |307304          |384536   |362011   |1892049.3853770206  |\n",
      "|fall      |368732           |390580          |301818   |329300   |2228427.054379789   |\n",
      "|winter    |110514           |150118          |195490   |157053   |545961.6848469917   |\n",
      "|winter    |156875           |131189          |138938   |149559   |948095.3018802723   |\n",
      "|spring    |369401           |218627          |245141   |351992   |2110892.685288047   |\n",
      "----------------------------------------------------------------------------------------\n",
      "\n",
      "Num rows: 10000\n",
      "Snowpark df size: 0.0\n",
      "Pandas df size: 0.82\n"
     ]
    }
   ],
   "source": [
    "\n",
    "\n",
    "batch_df=session.table(f\"random_model_data_{inits}\")\n",
    "\n",
    "batch_preds=batch_df.select(\n",
    "    \"SEASON\",\"SEARCH_ENGINE\",\"SOCIAL_MEDIA\",\"VIDEO\",\"EMAIL\", \n",
    "    F.call_udf(f\"batch_predict_roi_{inits}\",\n",
    "    F.col(\"SEASON\"),F.col(\"SEARCH_ENGINE\"), F.col(\"SOCIAL_MEDIA\"), F.col(\"VIDEO\"), F.col(\"EMAIL\")).as_(\"PREDICTED_ROI\"))\n",
    "\n",
    "batch_preds.show(10)\n",
    "print(f\"Num rows: {batch_preds.count()}\")\n",
    "print(f\"Snowpark df size: {get_df_memory_size(batch_preds)}\")\n",
    "print(f\"Pandas df size: {get_df_memory_size(batch_preds.to_pandas())}\")\n"
   ]
  },
  {
   "cell_type": "code",
   "execution_count": 137,
   "id": "86dc555a",
   "metadata": {},
   "outputs": [],
   "source": [
    "batch_preds.write.mode(\"overwrite\").save_as_table(f\"BATCH_PREDICT_{inits}\")"
   ]
  },
  {
   "cell_type": "markdown",
   "id": "2bc463a6",
   "metadata": {},
   "source": [
    "**Snowpark Stored Procedures vs User-Defined Functions**\n",
    "\n",
    "_In general, if you're processing a large dataset in a way where each row/batch can be processed independently - UDFs are always better, because the processing is automatically parallelized/scaled across the warehouse. For example, if you already have a trained ML model, and you're doing inference using that model on billions of rows. In that case, each row/batch can be computed independently._\n",
    "\n",
    "_If the use case requires the full dataset to be in-memory (e.g. ML training), then a stored procedure is the way to go. A stored procedure is just a Python program that runs on a single warehouse node. (With a UDF it's not possible to load the full dataset into memory because the processing is done in a streaming fashion, one batch at a time._"
   ]
  },
  {
   "cell_type": "markdown",
   "id": "25bd1089",
   "metadata": {},
   "source": [
    "### Automate Model (re)training using Snowflake Tasks - Example Only\n",
    "\n",
    "Here is an example of how to create a Snowflake (Serverless or User-managed) Task to automate (re)training of the model. For example, every hour."
   ]
  },
  {
   "cell_type": "code",
   "execution_count": 38,
   "id": "ed96cd51",
   "metadata": {},
   "outputs": [],
   "source": [
    "#create_model_training_task = \"\"\"\n",
    "#CREATE OR REPLACE TASK sp_hourly_model_training_\n",
    "#   WAREHOUSE = 'YOUR_WH'\n",
    "#   SCHEDULE  = '60 MINUTE'\n",
    "#AS\n",
    "#   CALL train_revenue_prediction_model_('MARKETING_BUDGETS_FEATURES',10,2,0.85,0.85,True)\n",
    "#\"\"\"\n",
    "#session.sql(create_model_training_task).collect()\n",
    "\n",
    "#session.sql(\"alter task sp_hourly_model_training_ resume\").collect()"
   ]
  },
  {
   "cell_type": "markdown",
   "id": "f0f364a4",
   "metadata": {},
   "source": [
    "### Other Snowpark Resources\n",
    "\n",
    "Quick Start Guides\n",
    "\n",
    "* [Getting Started With Snowpark for Python and Streamlit](https://quickstarts.snowflake.com/guide/getting_started_with_snowpark_for_python_streamlit/index.html?index=..%2F..index#0)\n",
    "\n",
    "* [Getting Started With Snowpark Python](https://quickstarts.snowflake.com/guide/getting_started_with_snowpark_python/index.html?index=..%2F..index#0)\n",
    "\n",
    "* [Machine Learning with Snowpark Python](https://quickstarts.snowflake.com/guide/machine_learning_with_snowpark_python/index.html?index=..%2F..index#0)\n",
    "\n",
    "Videos: Snowpark | A Look Under The Hood \n",
    "\n",
    "* [Snowpark API](https://www.youtube.com/watch?v=Me2auWdhlKk)\n",
    "\n",
    "* [Snowpark User-Defined Functions (UDFs)](https://www.youtube.com/watch?v=-W1aL8XwvkE)\n",
    "\n",
    "[Blogs on Medium](https://medium.com/snowflake/search?q=Snowpark)\n",
    "\n",
    "* [Deploy Custom UDFs Using GitHub Actions](https://medium.com/snowflake/deploying-custom-python-packages-from-github-to-snowflake-f0bb396480c7)\n",
    "\n",
    "* [Snowpark For Python Open Source: How I Contributed And So Can You](https://medium.com/snowflake/snowpark-for-python-open-source-how-i-contributed-and-so-can-you-7eb4baac355f)\n",
    "\n",
    "[Demos on GitHub](https://github.com/Snowflake-Labs/snowpark-python-demos)\n",
    "\n",
    "[Snowpark for Python Developer Guide](https://docs.snowflake.com/en/developer-guide/snowpark/python/index.html)\n"
   ]
  }
 ],
 "metadata": {
  "kernelspec": {
   "display_name": "snowpark_hol",
   "language": "python",
   "name": "python3"
  },
  "language_info": {
   "codemirror_mode": {
    "name": "ipython",
    "version": 3
   },
   "file_extension": ".py",
   "mimetype": "text/x-python",
   "name": "python",
   "nbconvert_exporter": "python",
   "pygments_lexer": "ipython3",
   "version": "3.8.16 (default, Mar  1 2023, 21:19:10) \n[Clang 14.0.6 ]"
  },
  "papermill": {
   "default_parameters": {},
   "duration": 41.012855,
   "end_time": "2021-05-15T09:34:14.646782",
   "environment_variables": {},
   "exception": null,
   "input_path": "__notebook__.ipynb",
   "output_path": "__notebook__.ipynb",
   "parameters": {},
   "start_time": "2021-05-15T09:33:33.633927",
   "version": "2.3.3"
  },
  "vscode": {
   "interpreter": {
    "hash": "d27b5dbefa11b2bd4b22c83383b6f19c10d02a9cfb58700d51bac7eb46419be7"
   }
  },
  "widgets": {
   "application/vnd.jupyter.widget-state+json": {
    "state": {
     "03486abb248b48dcae43183c9ffb112a": {
      "model_module": "@jupyter-widgets/controls",
      "model_module_version": "1.5.0",
      "model_name": "DescriptionStyleModel",
      "state": {
       "_model_module": "@jupyter-widgets/controls",
       "_model_module_version": "1.5.0",
       "_model_name": "DescriptionStyleModel",
       "_view_count": null,
       "_view_module": "@jupyter-widgets/base",
       "_view_module_version": "1.2.0",
       "_view_name": "StyleView",
       "description_width": ""
      }
     },
     "0539c58479b749dd99898d49f43ebcef": {
      "model_module": "@jupyter-widgets/controls",
      "model_module_version": "1.5.0",
      "model_name": "FloatProgressModel",
      "state": {
       "_dom_classes": [],
       "_model_module": "@jupyter-widgets/controls",
       "_model_module_version": "1.5.0",
       "_model_name": "FloatProgressModel",
       "_view_count": null,
       "_view_module": "@jupyter-widgets/controls",
       "_view_module_version": "1.5.0",
       "_view_name": "ProgressView",
       "bar_style": "success",
       "description": "",
       "description_tooltip": null,
       "layout": "IPY_MODEL_d097f3c35ec644bfa231be2d2fd50129",
       "max": 1,
       "min": 0,
       "orientation": "horizontal",
       "style": "IPY_MODEL_0be3e122c58347b79c67cbdfc6939065",
       "value": 1
      }
     },
     "0be3e122c58347b79c67cbdfc6939065": {
      "model_module": "@jupyter-widgets/controls",
      "model_module_version": "1.5.0",
      "model_name": "ProgressStyleModel",
      "state": {
       "_model_module": "@jupyter-widgets/controls",
       "_model_module_version": "1.5.0",
       "_model_name": "ProgressStyleModel",
       "_view_count": null,
       "_view_module": "@jupyter-widgets/base",
       "_view_module_version": "1.2.0",
       "_view_name": "StyleView",
       "bar_color": null,
       "description_width": ""
      }
     },
     "0debf43d9ebe494fa0871bc085432a31": {
      "model_module": "@jupyter-widgets/controls",
      "model_module_version": "1.5.0",
      "model_name": "HBoxModel",
      "state": {
       "_dom_classes": [],
       "_model_module": "@jupyter-widgets/controls",
       "_model_module_version": "1.5.0",
       "_model_name": "HBoxModel",
       "_view_count": null,
       "_view_module": "@jupyter-widgets/controls",
       "_view_module_version": "1.5.0",
       "_view_name": "HBoxView",
       "box_style": "",
       "children": [
        "IPY_MODEL_7ea526b1e9bd43cdb270777b5f62a95e",
        "IPY_MODEL_0539c58479b749dd99898d49f43ebcef",
        "IPY_MODEL_5f80a955ced34cef86bc307a7a17ad50"
       ],
       "layout": "IPY_MODEL_4cea8ab8f6094c87a13a8b690c87c778"
      }
     },
     "106409d46bfe43f19cfedaa975ba2cc8": {
      "model_module": "@jupyter-widgets/controls",
      "model_module_version": "1.5.0",
      "model_name": "HBoxModel",
      "state": {
       "_dom_classes": [],
       "_model_module": "@jupyter-widgets/controls",
       "_model_module_version": "1.5.0",
       "_model_name": "HBoxModel",
       "_view_count": null,
       "_view_module": "@jupyter-widgets/controls",
       "_view_module_version": "1.5.0",
       "_view_name": "HBoxView",
       "box_style": "",
       "children": [
        "IPY_MODEL_79579de4686940fb87277980fb3b9033",
        "IPY_MODEL_1ee9a30ab6f14e9f890b0bc1aabad3db",
        "IPY_MODEL_60a533bb74804344b7e871fbf50d7630"
       ],
       "layout": "IPY_MODEL_b810367f103a4e4e9c5be322df67d4c9"
      }
     },
     "137e5d876fda44a481e04a46ce3d52c5": {
      "model_module": "@jupyter-widgets/base",
      "model_module_version": "1.2.0",
      "model_name": "LayoutModel",
      "state": {
       "_model_module": "@jupyter-widgets/base",
       "_model_module_version": "1.2.0",
       "_model_name": "LayoutModel",
       "_view_count": null,
       "_view_module": "@jupyter-widgets/base",
       "_view_module_version": "1.2.0",
       "_view_name": "LayoutView",
       "align_content": null,
       "align_items": null,
       "align_self": null,
       "border": null,
       "bottom": null,
       "display": null,
       "flex": null,
       "flex_flow": null,
       "grid_area": null,
       "grid_auto_columns": null,
       "grid_auto_flow": null,
       "grid_auto_rows": null,
       "grid_column": null,
       "grid_gap": null,
       "grid_row": null,
       "grid_template_areas": null,
       "grid_template_columns": null,
       "grid_template_rows": null,
       "height": null,
       "justify_content": null,
       "justify_items": null,
       "left": null,
       "margin": null,
       "max_height": null,
       "max_width": null,
       "min_height": null,
       "min_width": null,
       "object_fit": null,
       "object_position": null,
       "order": null,
       "overflow": null,
       "overflow_x": null,
       "overflow_y": null,
       "padding": null,
       "right": null,
       "top": null,
       "visibility": null,
       "width": null
      }
     },
     "1ee9a30ab6f14e9f890b0bc1aabad3db": {
      "model_module": "@jupyter-widgets/controls",
      "model_module_version": "1.5.0",
      "model_name": "FloatProgressModel",
      "state": {
       "_dom_classes": [],
       "_model_module": "@jupyter-widgets/controls",
       "_model_module_version": "1.5.0",
       "_model_name": "FloatProgressModel",
       "_view_count": null,
       "_view_module": "@jupyter-widgets/controls",
       "_view_module_version": "1.5.0",
       "_view_name": "ProgressView",
       "bar_style": "success",
       "description": "",
       "description_tooltip": null,
       "layout": "IPY_MODEL_896278c20baf49bc9483c86dbe28e6db",
       "max": 1,
       "min": 0,
       "orientation": "horizontal",
       "style": "IPY_MODEL_214ce6435877469e8aec9b089f0a5b2b",
       "value": 1
      }
     },
     "214ce6435877469e8aec9b089f0a5b2b": {
      "model_module": "@jupyter-widgets/controls",
      "model_module_version": "1.5.0",
      "model_name": "ProgressStyleModel",
      "state": {
       "_model_module": "@jupyter-widgets/controls",
       "_model_module_version": "1.5.0",
       "_model_name": "ProgressStyleModel",
       "_view_count": null,
       "_view_module": "@jupyter-widgets/base",
       "_view_module_version": "1.2.0",
       "_view_name": "StyleView",
       "bar_color": null,
       "description_width": ""
      }
     },
     "22828e38a6f84e388c66ed37fd49e1a3": {
      "model_module": "@jupyter-widgets/base",
      "model_module_version": "1.2.0",
      "model_name": "LayoutModel",
      "state": {
       "_model_module": "@jupyter-widgets/base",
       "_model_module_version": "1.2.0",
       "_model_name": "LayoutModel",
       "_view_count": null,
       "_view_module": "@jupyter-widgets/base",
       "_view_module_version": "1.2.0",
       "_view_name": "LayoutView",
       "align_content": null,
       "align_items": null,
       "align_self": null,
       "border": null,
       "bottom": null,
       "display": null,
       "flex": null,
       "flex_flow": null,
       "grid_area": null,
       "grid_auto_columns": null,
       "grid_auto_flow": null,
       "grid_auto_rows": null,
       "grid_column": null,
       "grid_gap": null,
       "grid_row": null,
       "grid_template_areas": null,
       "grid_template_columns": null,
       "grid_template_rows": null,
       "height": null,
       "justify_content": null,
       "justify_items": null,
       "left": null,
       "margin": null,
       "max_height": null,
       "max_width": null,
       "min_height": null,
       "min_width": null,
       "object_fit": null,
       "object_position": null,
       "order": null,
       "overflow": null,
       "overflow_x": null,
       "overflow_y": null,
       "padding": null,
       "right": null,
       "top": null,
       "visibility": null,
       "width": null
      }
     },
     "2476936f36354c0582cf209811858769": {
      "model_module": "@jupyter-widgets/controls",
      "model_module_version": "1.5.0",
      "model_name": "ProgressStyleModel",
      "state": {
       "_model_module": "@jupyter-widgets/controls",
       "_model_module_version": "1.5.0",
       "_model_name": "ProgressStyleModel",
       "_view_count": null,
       "_view_module": "@jupyter-widgets/base",
       "_view_module_version": "1.2.0",
       "_view_name": "StyleView",
       "bar_color": null,
       "description_width": ""
      }
     },
     "3047235624bd4df4b992d459afbad807": {
      "model_module": "@jupyter-widgets/base",
      "model_module_version": "1.2.0",
      "model_name": "LayoutModel",
      "state": {
       "_model_module": "@jupyter-widgets/base",
       "_model_module_version": "1.2.0",
       "_model_name": "LayoutModel",
       "_view_count": null,
       "_view_module": "@jupyter-widgets/base",
       "_view_module_version": "1.2.0",
       "_view_name": "LayoutView",
       "align_content": null,
       "align_items": null,
       "align_self": null,
       "border": null,
       "bottom": null,
       "display": null,
       "flex": null,
       "flex_flow": null,
       "grid_area": null,
       "grid_auto_columns": null,
       "grid_auto_flow": null,
       "grid_auto_rows": null,
       "grid_column": null,
       "grid_gap": null,
       "grid_row": null,
       "grid_template_areas": null,
       "grid_template_columns": null,
       "grid_template_rows": null,
       "height": null,
       "justify_content": null,
       "justify_items": null,
       "left": null,
       "margin": null,
       "max_height": null,
       "max_width": null,
       "min_height": null,
       "min_width": null,
       "object_fit": null,
       "object_position": null,
       "order": null,
       "overflow": null,
       "overflow_x": null,
       "overflow_y": null,
       "padding": null,
       "right": null,
       "top": null,
       "visibility": null,
       "width": null
      }
     },
     "3c0e879486d5463db0fa09977f4f5e7b": {
      "model_module": "@jupyter-widgets/base",
      "model_module_version": "1.2.0",
      "model_name": "LayoutModel",
      "state": {
       "_model_module": "@jupyter-widgets/base",
       "_model_module_version": "1.2.0",
       "_model_name": "LayoutModel",
       "_view_count": null,
       "_view_module": "@jupyter-widgets/base",
       "_view_module_version": "1.2.0",
       "_view_name": "LayoutView",
       "align_content": null,
       "align_items": null,
       "align_self": null,
       "border": null,
       "bottom": null,
       "display": null,
       "flex": null,
       "flex_flow": null,
       "grid_area": null,
       "grid_auto_columns": null,
       "grid_auto_flow": null,
       "grid_auto_rows": null,
       "grid_column": null,
       "grid_gap": null,
       "grid_row": null,
       "grid_template_areas": null,
       "grid_template_columns": null,
       "grid_template_rows": null,
       "height": null,
       "justify_content": null,
       "justify_items": null,
       "left": null,
       "margin": null,
       "max_height": null,
       "max_width": null,
       "min_height": null,
       "min_width": null,
       "object_fit": null,
       "object_position": null,
       "order": null,
       "overflow": null,
       "overflow_x": null,
       "overflow_y": null,
       "padding": null,
       "right": null,
       "top": null,
       "visibility": null,
       "width": null
      }
     },
     "421538af4b344eb285a1049283fceb43": {
      "model_module": "@jupyter-widgets/base",
      "model_module_version": "1.2.0",
      "model_name": "LayoutModel",
      "state": {
       "_model_module": "@jupyter-widgets/base",
       "_model_module_version": "1.2.0",
       "_model_name": "LayoutModel",
       "_view_count": null,
       "_view_module": "@jupyter-widgets/base",
       "_view_module_version": "1.2.0",
       "_view_name": "LayoutView",
       "align_content": null,
       "align_items": null,
       "align_self": null,
       "border": null,
       "bottom": null,
       "display": null,
       "flex": null,
       "flex_flow": null,
       "grid_area": null,
       "grid_auto_columns": null,
       "grid_auto_flow": null,
       "grid_auto_rows": null,
       "grid_column": null,
       "grid_gap": null,
       "grid_row": null,
       "grid_template_areas": null,
       "grid_template_columns": null,
       "grid_template_rows": null,
       "height": null,
       "justify_content": null,
       "justify_items": null,
       "left": null,
       "margin": null,
       "max_height": null,
       "max_width": null,
       "min_height": null,
       "min_width": null,
       "object_fit": null,
       "object_position": null,
       "order": null,
       "overflow": null,
       "overflow_x": null,
       "overflow_y": null,
       "padding": null,
       "right": null,
       "top": null,
       "visibility": null,
       "width": null
      }
     },
     "4cea8ab8f6094c87a13a8b690c87c778": {
      "model_module": "@jupyter-widgets/base",
      "model_module_version": "1.2.0",
      "model_name": "LayoutModel",
      "state": {
       "_model_module": "@jupyter-widgets/base",
       "_model_module_version": "1.2.0",
       "_model_name": "LayoutModel",
       "_view_count": null,
       "_view_module": "@jupyter-widgets/base",
       "_view_module_version": "1.2.0",
       "_view_name": "LayoutView",
       "align_content": null,
       "align_items": null,
       "align_self": null,
       "border": null,
       "bottom": null,
       "display": null,
       "flex": null,
       "flex_flow": null,
       "grid_area": null,
       "grid_auto_columns": null,
       "grid_auto_flow": null,
       "grid_auto_rows": null,
       "grid_column": null,
       "grid_gap": null,
       "grid_row": null,
       "grid_template_areas": null,
       "grid_template_columns": null,
       "grid_template_rows": null,
       "height": null,
       "justify_content": null,
       "justify_items": null,
       "left": null,
       "margin": null,
       "max_height": null,
       "max_width": null,
       "min_height": null,
       "min_width": null,
       "object_fit": null,
       "object_position": null,
       "order": null,
       "overflow": null,
       "overflow_x": null,
       "overflow_y": null,
       "padding": null,
       "right": null,
       "top": null,
       "visibility": null,
       "width": null
      }
     },
     "59f46be901ef49cea5e361a23bc258f0": {
      "model_module": "@jupyter-widgets/base",
      "model_module_version": "1.2.0",
      "model_name": "LayoutModel",
      "state": {
       "_model_module": "@jupyter-widgets/base",
       "_model_module_version": "1.2.0",
       "_model_name": "LayoutModel",
       "_view_count": null,
       "_view_module": "@jupyter-widgets/base",
       "_view_module_version": "1.2.0",
       "_view_name": "LayoutView",
       "align_content": null,
       "align_items": null,
       "align_self": null,
       "border": null,
       "bottom": null,
       "display": null,
       "flex": null,
       "flex_flow": null,
       "grid_area": null,
       "grid_auto_columns": null,
       "grid_auto_flow": null,
       "grid_auto_rows": null,
       "grid_column": null,
       "grid_gap": null,
       "grid_row": null,
       "grid_template_areas": null,
       "grid_template_columns": null,
       "grid_template_rows": null,
       "height": null,
       "justify_content": null,
       "justify_items": null,
       "left": null,
       "margin": null,
       "max_height": null,
       "max_width": null,
       "min_height": null,
       "min_width": null,
       "object_fit": null,
       "object_position": null,
       "order": null,
       "overflow": null,
       "overflow_x": null,
       "overflow_y": null,
       "padding": null,
       "right": null,
       "top": null,
       "visibility": null,
       "width": null
      }
     },
     "5f80a955ced34cef86bc307a7a17ad50": {
      "model_module": "@jupyter-widgets/controls",
      "model_module_version": "1.5.0",
      "model_name": "HTMLModel",
      "state": {
       "_dom_classes": [],
       "_model_module": "@jupyter-widgets/controls",
       "_model_module_version": "1.5.0",
       "_model_name": "HTMLModel",
       "_view_count": null,
       "_view_module": "@jupyter-widgets/controls",
       "_view_module_version": "1.5.0",
       "_view_name": "HTMLView",
       "description": "",
       "description_tooltip": null,
       "layout": "IPY_MODEL_c800f4d86d7f4cb595f97bdd36d14c8f",
       "placeholder": "​",
       "style": "IPY_MODEL_ebd7ac3b623a410a88be5c4d72e48986",
       "value": " 1/1 [00:00&lt;00:00,  1.66it/s]"
      }
     },
     "5faebb75f07148fca515e5e4d72a9e26": {
      "model_module": "@jupyter-widgets/base",
      "model_module_version": "1.2.0",
      "model_name": "LayoutModel",
      "state": {
       "_model_module": "@jupyter-widgets/base",
       "_model_module_version": "1.2.0",
       "_model_name": "LayoutModel",
       "_view_count": null,
       "_view_module": "@jupyter-widgets/base",
       "_view_module_version": "1.2.0",
       "_view_name": "LayoutView",
       "align_content": null,
       "align_items": null,
       "align_self": null,
       "border": null,
       "bottom": null,
       "display": null,
       "flex": null,
       "flex_flow": null,
       "grid_area": null,
       "grid_auto_columns": null,
       "grid_auto_flow": null,
       "grid_auto_rows": null,
       "grid_column": null,
       "grid_gap": null,
       "grid_row": null,
       "grid_template_areas": null,
       "grid_template_columns": null,
       "grid_template_rows": null,
       "height": null,
       "justify_content": null,
       "justify_items": null,
       "left": null,
       "margin": null,
       "max_height": null,
       "max_width": null,
       "min_height": null,
       "min_width": null,
       "object_fit": null,
       "object_position": null,
       "order": null,
       "overflow": null,
       "overflow_x": null,
       "overflow_y": null,
       "padding": null,
       "right": null,
       "top": null,
       "visibility": null,
       "width": null
      }
     },
     "60a533bb74804344b7e871fbf50d7630": {
      "model_module": "@jupyter-widgets/controls",
      "model_module_version": "1.5.0",
      "model_name": "HTMLModel",
      "state": {
       "_dom_classes": [],
       "_model_module": "@jupyter-widgets/controls",
       "_model_module_version": "1.5.0",
       "_model_name": "HTMLModel",
       "_view_count": null,
       "_view_module": "@jupyter-widgets/controls",
       "_view_module_version": "1.5.0",
       "_view_name": "HTMLView",
       "description": "",
       "description_tooltip": null,
       "layout": "IPY_MODEL_3c0e879486d5463db0fa09977f4f5e7b",
       "placeholder": "​",
       "style": "IPY_MODEL_98f6f531ccd643d09a69140d13b76379",
       "value": " 1/1 [00:02&lt;00:00,  2.40s/it]"
      }
     },
     "6379beb1c16740269e13f8731b3b5f8b": {
      "model_module": "@jupyter-widgets/controls",
      "model_module_version": "1.5.0",
      "model_name": "HBoxModel",
      "state": {
       "_dom_classes": [],
       "_model_module": "@jupyter-widgets/controls",
       "_model_module_version": "1.5.0",
       "_model_name": "HBoxModel",
       "_view_count": null,
       "_view_module": "@jupyter-widgets/controls",
       "_view_module_version": "1.5.0",
       "_view_name": "HBoxView",
       "box_style": "",
       "children": [
        "IPY_MODEL_837225552aef4717b0ab001ff292f72d",
        "IPY_MODEL_997750a67ac645548adf9d6cc5a2c1dd",
        "IPY_MODEL_bd972d756dfe46978be7bb973f690392"
       ],
       "layout": "IPY_MODEL_ab6133b8ef4f45cfa84344f070d4447f"
      }
     },
     "731d09ee1159493095283eac20e86c4d": {
      "model_module": "@jupyter-widgets/controls",
      "model_module_version": "1.5.0",
      "model_name": "FloatProgressModel",
      "state": {
       "_dom_classes": [],
       "_model_module": "@jupyter-widgets/controls",
       "_model_module_version": "1.5.0",
       "_model_name": "FloatProgressModel",
       "_view_count": null,
       "_view_module": "@jupyter-widgets/controls",
       "_view_module_version": "1.5.0",
       "_view_name": "ProgressView",
       "bar_style": "success",
       "description": "",
       "description_tooltip": null,
       "layout": "IPY_MODEL_5faebb75f07148fca515e5e4d72a9e26",
       "max": 17,
       "min": 0,
       "orientation": "horizontal",
       "style": "IPY_MODEL_2476936f36354c0582cf209811858769",
       "value": 17
      }
     },
     "74d2f123669f4151bf9fd59456f355ba": {
      "model_module": "@jupyter-widgets/controls",
      "model_module_version": "1.5.0",
      "model_name": "HBoxModel",
      "state": {
       "_dom_classes": [],
       "_model_module": "@jupyter-widgets/controls",
       "_model_module_version": "1.5.0",
       "_model_name": "HBoxModel",
       "_view_count": null,
       "_view_module": "@jupyter-widgets/controls",
       "_view_module_version": "1.5.0",
       "_view_name": "HBoxView",
       "box_style": "",
       "children": [
        "IPY_MODEL_a06bfab18f1d49a6a4c0a87c360992c8",
        "IPY_MODEL_731d09ee1159493095283eac20e86c4d",
        "IPY_MODEL_cbd80b044afc4e96b1667ab76a3a1f74"
       ],
       "layout": "IPY_MODEL_7a11aa9b2ecb445a8fc14cc89f06ea13"
      }
     },
     "79579de4686940fb87277980fb3b9033": {
      "model_module": "@jupyter-widgets/controls",
      "model_module_version": "1.5.0",
      "model_name": "HTMLModel",
      "state": {
       "_dom_classes": [],
       "_model_module": "@jupyter-widgets/controls",
       "_model_module_version": "1.5.0",
       "_model_name": "HTMLModel",
       "_view_count": null,
       "_view_module": "@jupyter-widgets/controls",
       "_view_module_version": "1.5.0",
       "_view_name": "HTMLView",
       "description": "",
       "description_tooltip": null,
       "layout": "IPY_MODEL_b0c4c0c11c45494db725902cd5bfb08c",
       "placeholder": "​",
       "style": "IPY_MODEL_f53f890fe98e493a96efcc400345b6b2",
       "value": "Generate report structure: 100%"
      }
     },
     "7a11aa9b2ecb445a8fc14cc89f06ea13": {
      "model_module": "@jupyter-widgets/base",
      "model_module_version": "1.2.0",
      "model_name": "LayoutModel",
      "state": {
       "_model_module": "@jupyter-widgets/base",
       "_model_module_version": "1.2.0",
       "_model_name": "LayoutModel",
       "_view_count": null,
       "_view_module": "@jupyter-widgets/base",
       "_view_module_version": "1.2.0",
       "_view_name": "LayoutView",
       "align_content": null,
       "align_items": null,
       "align_self": null,
       "border": null,
       "bottom": null,
       "display": null,
       "flex": null,
       "flex_flow": null,
       "grid_area": null,
       "grid_auto_columns": null,
       "grid_auto_flow": null,
       "grid_auto_rows": null,
       "grid_column": null,
       "grid_gap": null,
       "grid_row": null,
       "grid_template_areas": null,
       "grid_template_columns": null,
       "grid_template_rows": null,
       "height": null,
       "justify_content": null,
       "justify_items": null,
       "left": null,
       "margin": null,
       "max_height": null,
       "max_width": null,
       "min_height": null,
       "min_width": null,
       "object_fit": null,
       "object_position": null,
       "order": null,
       "overflow": null,
       "overflow_x": null,
       "overflow_y": null,
       "padding": null,
       "right": null,
       "top": null,
       "visibility": null,
       "width": null
      }
     },
     "7ea526b1e9bd43cdb270777b5f62a95e": {
      "model_module": "@jupyter-widgets/controls",
      "model_module_version": "1.5.0",
      "model_name": "HTMLModel",
      "state": {
       "_dom_classes": [],
       "_model_module": "@jupyter-widgets/controls",
       "_model_module_version": "1.5.0",
       "_model_name": "HTMLModel",
       "_view_count": null,
       "_view_module": "@jupyter-widgets/controls",
       "_view_module_version": "1.5.0",
       "_view_name": "HTMLView",
       "description": "",
       "description_tooltip": null,
       "layout": "IPY_MODEL_ca8a709aac3f4afe9aac06b72112076f",
       "placeholder": "​",
       "style": "IPY_MODEL_c33355f13dfd4f4599031ef8f8db5f53",
       "value": "Render HTML: 100%"
      }
     },
     "837225552aef4717b0ab001ff292f72d": {
      "model_module": "@jupyter-widgets/controls",
      "model_module_version": "1.5.0",
      "model_name": "HTMLModel",
      "state": {
       "_dom_classes": [],
       "_model_module": "@jupyter-widgets/controls",
       "_model_module_version": "1.5.0",
       "_model_name": "HTMLModel",
       "_view_count": null,
       "_view_module": "@jupyter-widgets/controls",
       "_view_module_version": "1.5.0",
       "_view_name": "HTMLView",
       "description": "",
       "description_tooltip": null,
       "layout": "IPY_MODEL_59f46be901ef49cea5e361a23bc258f0",
       "placeholder": "​",
       "style": "IPY_MODEL_a4c35dfafabb40199a5c4c0ce5a14b0c",
       "value": "Export report to file: 100%"
      }
     },
     "896278c20baf49bc9483c86dbe28e6db": {
      "model_module": "@jupyter-widgets/base",
      "model_module_version": "1.2.0",
      "model_name": "LayoutModel",
      "state": {
       "_model_module": "@jupyter-widgets/base",
       "_model_module_version": "1.2.0",
       "_model_name": "LayoutModel",
       "_view_count": null,
       "_view_module": "@jupyter-widgets/base",
       "_view_module_version": "1.2.0",
       "_view_name": "LayoutView",
       "align_content": null,
       "align_items": null,
       "align_self": null,
       "border": null,
       "bottom": null,
       "display": null,
       "flex": null,
       "flex_flow": null,
       "grid_area": null,
       "grid_auto_columns": null,
       "grid_auto_flow": null,
       "grid_auto_rows": null,
       "grid_column": null,
       "grid_gap": null,
       "grid_row": null,
       "grid_template_areas": null,
       "grid_template_columns": null,
       "grid_template_rows": null,
       "height": null,
       "justify_content": null,
       "justify_items": null,
       "left": null,
       "margin": null,
       "max_height": null,
       "max_width": null,
       "min_height": null,
       "min_width": null,
       "object_fit": null,
       "object_position": null,
       "order": null,
       "overflow": null,
       "overflow_x": null,
       "overflow_y": null,
       "padding": null,
       "right": null,
       "top": null,
       "visibility": null,
       "width": null
      }
     },
     "98f6f531ccd643d09a69140d13b76379": {
      "model_module": "@jupyter-widgets/controls",
      "model_module_version": "1.5.0",
      "model_name": "DescriptionStyleModel",
      "state": {
       "_model_module": "@jupyter-widgets/controls",
       "_model_module_version": "1.5.0",
       "_model_name": "DescriptionStyleModel",
       "_view_count": null,
       "_view_module": "@jupyter-widgets/base",
       "_view_module_version": "1.2.0",
       "_view_name": "StyleView",
       "description_width": ""
      }
     },
     "997750a67ac645548adf9d6cc5a2c1dd": {
      "model_module": "@jupyter-widgets/controls",
      "model_module_version": "1.5.0",
      "model_name": "FloatProgressModel",
      "state": {
       "_dom_classes": [],
       "_model_module": "@jupyter-widgets/controls",
       "_model_module_version": "1.5.0",
       "_model_name": "FloatProgressModel",
       "_view_count": null,
       "_view_module": "@jupyter-widgets/controls",
       "_view_module_version": "1.5.0",
       "_view_name": "ProgressView",
       "bar_style": "success",
       "description": "",
       "description_tooltip": null,
       "layout": "IPY_MODEL_3047235624bd4df4b992d459afbad807",
       "max": 1,
       "min": 0,
       "orientation": "horizontal",
       "style": "IPY_MODEL_f71a3435837f4fdd8eee21023f928dc2",
       "value": 1
      }
     },
     "a06bfab18f1d49a6a4c0a87c360992c8": {
      "model_module": "@jupyter-widgets/controls",
      "model_module_version": "1.5.0",
      "model_name": "HTMLModel",
      "state": {
       "_dom_classes": [],
       "_model_module": "@jupyter-widgets/controls",
       "_model_module_version": "1.5.0",
       "_model_name": "HTMLModel",
       "_view_count": null,
       "_view_module": "@jupyter-widgets/controls",
       "_view_module_version": "1.5.0",
       "_view_name": "HTMLView",
       "description": "",
       "description_tooltip": null,
       "layout": "IPY_MODEL_137e5d876fda44a481e04a46ce3d52c5",
       "placeholder": "​",
       "style": "IPY_MODEL_a757f29997924f8d97c5b33d53a151cd",
       "value": "Summarize dataset: 100%"
      }
     },
     "a4c35dfafabb40199a5c4c0ce5a14b0c": {
      "model_module": "@jupyter-widgets/controls",
      "model_module_version": "1.5.0",
      "model_name": "DescriptionStyleModel",
      "state": {
       "_model_module": "@jupyter-widgets/controls",
       "_model_module_version": "1.5.0",
       "_model_name": "DescriptionStyleModel",
       "_view_count": null,
       "_view_module": "@jupyter-widgets/base",
       "_view_module_version": "1.2.0",
       "_view_name": "StyleView",
       "description_width": ""
      }
     },
     "a757f29997924f8d97c5b33d53a151cd": {
      "model_module": "@jupyter-widgets/controls",
      "model_module_version": "1.5.0",
      "model_name": "DescriptionStyleModel",
      "state": {
       "_model_module": "@jupyter-widgets/controls",
       "_model_module_version": "1.5.0",
       "_model_name": "DescriptionStyleModel",
       "_view_count": null,
       "_view_module": "@jupyter-widgets/base",
       "_view_module_version": "1.2.0",
       "_view_name": "StyleView",
       "description_width": ""
      }
     },
     "ab6133b8ef4f45cfa84344f070d4447f": {
      "model_module": "@jupyter-widgets/base",
      "model_module_version": "1.2.0",
      "model_name": "LayoutModel",
      "state": {
       "_model_module": "@jupyter-widgets/base",
       "_model_module_version": "1.2.0",
       "_model_name": "LayoutModel",
       "_view_count": null,
       "_view_module": "@jupyter-widgets/base",
       "_view_module_version": "1.2.0",
       "_view_name": "LayoutView",
       "align_content": null,
       "align_items": null,
       "align_self": null,
       "border": null,
       "bottom": null,
       "display": null,
       "flex": null,
       "flex_flow": null,
       "grid_area": null,
       "grid_auto_columns": null,
       "grid_auto_flow": null,
       "grid_auto_rows": null,
       "grid_column": null,
       "grid_gap": null,
       "grid_row": null,
       "grid_template_areas": null,
       "grid_template_columns": null,
       "grid_template_rows": null,
       "height": null,
       "justify_content": null,
       "justify_items": null,
       "left": null,
       "margin": null,
       "max_height": null,
       "max_width": null,
       "min_height": null,
       "min_width": null,
       "object_fit": null,
       "object_position": null,
       "order": null,
       "overflow": null,
       "overflow_x": null,
       "overflow_y": null,
       "padding": null,
       "right": null,
       "top": null,
       "visibility": null,
       "width": null
      }
     },
     "b0c4c0c11c45494db725902cd5bfb08c": {
      "model_module": "@jupyter-widgets/base",
      "model_module_version": "1.2.0",
      "model_name": "LayoutModel",
      "state": {
       "_model_module": "@jupyter-widgets/base",
       "_model_module_version": "1.2.0",
       "_model_name": "LayoutModel",
       "_view_count": null,
       "_view_module": "@jupyter-widgets/base",
       "_view_module_version": "1.2.0",
       "_view_name": "LayoutView",
       "align_content": null,
       "align_items": null,
       "align_self": null,
       "border": null,
       "bottom": null,
       "display": null,
       "flex": null,
       "flex_flow": null,
       "grid_area": null,
       "grid_auto_columns": null,
       "grid_auto_flow": null,
       "grid_auto_rows": null,
       "grid_column": null,
       "grid_gap": null,
       "grid_row": null,
       "grid_template_areas": null,
       "grid_template_columns": null,
       "grid_template_rows": null,
       "height": null,
       "justify_content": null,
       "justify_items": null,
       "left": null,
       "margin": null,
       "max_height": null,
       "max_width": null,
       "min_height": null,
       "min_width": null,
       "object_fit": null,
       "object_position": null,
       "order": null,
       "overflow": null,
       "overflow_x": null,
       "overflow_y": null,
       "padding": null,
       "right": null,
       "top": null,
       "visibility": null,
       "width": null
      }
     },
     "b810367f103a4e4e9c5be322df67d4c9": {
      "model_module": "@jupyter-widgets/base",
      "model_module_version": "1.2.0",
      "model_name": "LayoutModel",
      "state": {
       "_model_module": "@jupyter-widgets/base",
       "_model_module_version": "1.2.0",
       "_model_name": "LayoutModel",
       "_view_count": null,
       "_view_module": "@jupyter-widgets/base",
       "_view_module_version": "1.2.0",
       "_view_name": "LayoutView",
       "align_content": null,
       "align_items": null,
       "align_self": null,
       "border": null,
       "bottom": null,
       "display": null,
       "flex": null,
       "flex_flow": null,
       "grid_area": null,
       "grid_auto_columns": null,
       "grid_auto_flow": null,
       "grid_auto_rows": null,
       "grid_column": null,
       "grid_gap": null,
       "grid_row": null,
       "grid_template_areas": null,
       "grid_template_columns": null,
       "grid_template_rows": null,
       "height": null,
       "justify_content": null,
       "justify_items": null,
       "left": null,
       "margin": null,
       "max_height": null,
       "max_width": null,
       "min_height": null,
       "min_width": null,
       "object_fit": null,
       "object_position": null,
       "order": null,
       "overflow": null,
       "overflow_x": null,
       "overflow_y": null,
       "padding": null,
       "right": null,
       "top": null,
       "visibility": null,
       "width": null
      }
     },
     "bd972d756dfe46978be7bb973f690392": {
      "model_module": "@jupyter-widgets/controls",
      "model_module_version": "1.5.0",
      "model_name": "HTMLModel",
      "state": {
       "_dom_classes": [],
       "_model_module": "@jupyter-widgets/controls",
       "_model_module_version": "1.5.0",
       "_model_name": "HTMLModel",
       "_view_count": null,
       "_view_module": "@jupyter-widgets/controls",
       "_view_module_version": "1.5.0",
       "_view_name": "HTMLView",
       "description": "",
       "description_tooltip": null,
       "layout": "IPY_MODEL_22828e38a6f84e388c66ed37fd49e1a3",
       "placeholder": "​",
       "style": "IPY_MODEL_ca9b1619f3f348178c14a36e88ae3d9b",
       "value": " 1/1 [00:00&lt;00:00, 33.29it/s]"
      }
     },
     "c33355f13dfd4f4599031ef8f8db5f53": {
      "model_module": "@jupyter-widgets/controls",
      "model_module_version": "1.5.0",
      "model_name": "DescriptionStyleModel",
      "state": {
       "_model_module": "@jupyter-widgets/controls",
       "_model_module_version": "1.5.0",
       "_model_name": "DescriptionStyleModel",
       "_view_count": null,
       "_view_module": "@jupyter-widgets/base",
       "_view_module_version": "1.2.0",
       "_view_name": "StyleView",
       "description_width": ""
      }
     },
     "c800f4d86d7f4cb595f97bdd36d14c8f": {
      "model_module": "@jupyter-widgets/base",
      "model_module_version": "1.2.0",
      "model_name": "LayoutModel",
      "state": {
       "_model_module": "@jupyter-widgets/base",
       "_model_module_version": "1.2.0",
       "_model_name": "LayoutModel",
       "_view_count": null,
       "_view_module": "@jupyter-widgets/base",
       "_view_module_version": "1.2.0",
       "_view_name": "LayoutView",
       "align_content": null,
       "align_items": null,
       "align_self": null,
       "border": null,
       "bottom": null,
       "display": null,
       "flex": null,
       "flex_flow": null,
       "grid_area": null,
       "grid_auto_columns": null,
       "grid_auto_flow": null,
       "grid_auto_rows": null,
       "grid_column": null,
       "grid_gap": null,
       "grid_row": null,
       "grid_template_areas": null,
       "grid_template_columns": null,
       "grid_template_rows": null,
       "height": null,
       "justify_content": null,
       "justify_items": null,
       "left": null,
       "margin": null,
       "max_height": null,
       "max_width": null,
       "min_height": null,
       "min_width": null,
       "object_fit": null,
       "object_position": null,
       "order": null,
       "overflow": null,
       "overflow_x": null,
       "overflow_y": null,
       "padding": null,
       "right": null,
       "top": null,
       "visibility": null,
       "width": null
      }
     },
     "ca8a709aac3f4afe9aac06b72112076f": {
      "model_module": "@jupyter-widgets/base",
      "model_module_version": "1.2.0",
      "model_name": "LayoutModel",
      "state": {
       "_model_module": "@jupyter-widgets/base",
       "_model_module_version": "1.2.0",
       "_model_name": "LayoutModel",
       "_view_count": null,
       "_view_module": "@jupyter-widgets/base",
       "_view_module_version": "1.2.0",
       "_view_name": "LayoutView",
       "align_content": null,
       "align_items": null,
       "align_self": null,
       "border": null,
       "bottom": null,
       "display": null,
       "flex": null,
       "flex_flow": null,
       "grid_area": null,
       "grid_auto_columns": null,
       "grid_auto_flow": null,
       "grid_auto_rows": null,
       "grid_column": null,
       "grid_gap": null,
       "grid_row": null,
       "grid_template_areas": null,
       "grid_template_columns": null,
       "grid_template_rows": null,
       "height": null,
       "justify_content": null,
       "justify_items": null,
       "left": null,
       "margin": null,
       "max_height": null,
       "max_width": null,
       "min_height": null,
       "min_width": null,
       "object_fit": null,
       "object_position": null,
       "order": null,
       "overflow": null,
       "overflow_x": null,
       "overflow_y": null,
       "padding": null,
       "right": null,
       "top": null,
       "visibility": null,
       "width": null
      }
     },
     "ca9b1619f3f348178c14a36e88ae3d9b": {
      "model_module": "@jupyter-widgets/controls",
      "model_module_version": "1.5.0",
      "model_name": "DescriptionStyleModel",
      "state": {
       "_model_module": "@jupyter-widgets/controls",
       "_model_module_version": "1.5.0",
       "_model_name": "DescriptionStyleModel",
       "_view_count": null,
       "_view_module": "@jupyter-widgets/base",
       "_view_module_version": "1.2.0",
       "_view_name": "StyleView",
       "description_width": ""
      }
     },
     "cbd80b044afc4e96b1667ab76a3a1f74": {
      "model_module": "@jupyter-widgets/controls",
      "model_module_version": "1.5.0",
      "model_name": "HTMLModel",
      "state": {
       "_dom_classes": [],
       "_model_module": "@jupyter-widgets/controls",
       "_model_module_version": "1.5.0",
       "_model_name": "HTMLModel",
       "_view_count": null,
       "_view_module": "@jupyter-widgets/controls",
       "_view_module_version": "1.5.0",
       "_view_name": "HTMLView",
       "description": "",
       "description_tooltip": null,
       "layout": "IPY_MODEL_421538af4b344eb285a1049283fceb43",
       "placeholder": "​",
       "style": "IPY_MODEL_03486abb248b48dcae43183c9ffb112a",
       "value": " 17/17 [00:05&lt;00:00,  2.09it/s, Completed]"
      }
     },
     "d097f3c35ec644bfa231be2d2fd50129": {
      "model_module": "@jupyter-widgets/base",
      "model_module_version": "1.2.0",
      "model_name": "LayoutModel",
      "state": {
       "_model_module": "@jupyter-widgets/base",
       "_model_module_version": "1.2.0",
       "_model_name": "LayoutModel",
       "_view_count": null,
       "_view_module": "@jupyter-widgets/base",
       "_view_module_version": "1.2.0",
       "_view_name": "LayoutView",
       "align_content": null,
       "align_items": null,
       "align_self": null,
       "border": null,
       "bottom": null,
       "display": null,
       "flex": null,
       "flex_flow": null,
       "grid_area": null,
       "grid_auto_columns": null,
       "grid_auto_flow": null,
       "grid_auto_rows": null,
       "grid_column": null,
       "grid_gap": null,
       "grid_row": null,
       "grid_template_areas": null,
       "grid_template_columns": null,
       "grid_template_rows": null,
       "height": null,
       "justify_content": null,
       "justify_items": null,
       "left": null,
       "margin": null,
       "max_height": null,
       "max_width": null,
       "min_height": null,
       "min_width": null,
       "object_fit": null,
       "object_position": null,
       "order": null,
       "overflow": null,
       "overflow_x": null,
       "overflow_y": null,
       "padding": null,
       "right": null,
       "top": null,
       "visibility": null,
       "width": null
      }
     },
     "ebd7ac3b623a410a88be5c4d72e48986": {
      "model_module": "@jupyter-widgets/controls",
      "model_module_version": "1.5.0",
      "model_name": "DescriptionStyleModel",
      "state": {
       "_model_module": "@jupyter-widgets/controls",
       "_model_module_version": "1.5.0",
       "_model_name": "DescriptionStyleModel",
       "_view_count": null,
       "_view_module": "@jupyter-widgets/base",
       "_view_module_version": "1.2.0",
       "_view_name": "StyleView",
       "description_width": ""
      }
     },
     "f53f890fe98e493a96efcc400345b6b2": {
      "model_module": "@jupyter-widgets/controls",
      "model_module_version": "1.5.0",
      "model_name": "DescriptionStyleModel",
      "state": {
       "_model_module": "@jupyter-widgets/controls",
       "_model_module_version": "1.5.0",
       "_model_name": "DescriptionStyleModel",
       "_view_count": null,
       "_view_module": "@jupyter-widgets/base",
       "_view_module_version": "1.2.0",
       "_view_name": "StyleView",
       "description_width": ""
      }
     },
     "f71a3435837f4fdd8eee21023f928dc2": {
      "model_module": "@jupyter-widgets/controls",
      "model_module_version": "1.5.0",
      "model_name": "ProgressStyleModel",
      "state": {
       "_model_module": "@jupyter-widgets/controls",
       "_model_module_version": "1.5.0",
       "_model_name": "ProgressStyleModel",
       "_view_count": null,
       "_view_module": "@jupyter-widgets/base",
       "_view_module_version": "1.2.0",
       "_view_name": "StyleView",
       "bar_color": null,
       "description_width": ""
      }
     }
    },
    "version_major": 2,
    "version_minor": 0
   }
  }
 },
 "nbformat": 4,
 "nbformat_minor": 5
}
