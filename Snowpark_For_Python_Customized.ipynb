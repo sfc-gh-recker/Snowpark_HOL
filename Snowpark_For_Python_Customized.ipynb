{
 "cells": [
  {
   "cell_type": "markdown",
   "id": "5f02f3fc",
   "metadata": {},
   "source": [
    "# Snowpark For Python -- Advertising Spend and ROI Prediction\n",
    "\n",
    "### Objective\n",
    "\n",
    "In this session, we will train a Linear Regression model to predict future ROI (Return On Investment) of variable ad spend budgets across multiple channels including search, video, social media, and email using Snowpark for Python and scikit-learn. \n",
    "\n",
    "In this Notebook, we will:\n",
    "\n",
    "* Create a Session object and securely connect to Snowflake\n",
    "* Load data from Snowflake table into Snowpark DataFrame\n",
    "* Perform Exploratory Data Analysis (EDA) on Snowpark DataFrame\n",
    "* Pivot and Join datasets\n",
    "* Create a Python Stored Procedure to deploy model training code on Snowflake\n",
    "* Create Python Scalar and Vectorized User-Defined Functions (UDF) for inference on new data\n",
    "* Create a Snowflake Task to automate (re)training of the model\n",
    "\n",
    "\n",
    "### Instructions\n",
    "\n",
    "This workshop is meant to be hands-on and we've built in exercises throughout the notebook. Whenever you see **YOUR TURN**, this is your queue to complete the following exercise. If you get stuck, the solutions can be found in the *Snowpark_For_Python_Solution.ipynb* notebook in the same repository.\n",
    "\n",
    "Additionally, when we create the **stored procedure**, **UDF**, and **Task** for model training and scoring, you'll need to add your initials or a unique identifier to the name. This is because we are using the same database and schema and don't want your functions overwriting eachother. There are reminders below as well when you get to that part of the code."
   ]
  },
  {
   "attachments": {},
   "cell_type": "markdown",
   "id": "909d4a4b",
   "metadata": {},
   "source": [
    "### Prerequisites\n",
    "\n",
    "  - Log into snowflake account and switch to ACCOUNTADMIN role\n",
    "    - Click on the **Billing** on the left side panel\n",
    "    - Click on [Terms and Billing](https://app.snowflake.com/terms-and-billing)\n",
    "    - Read and accept terms to continue with the workshop\n",
    "  - Python 3.8\n",
    "  - Create and Activate Conda Environment (OR, use any other Python environment with Python 3.8) \n",
    "    - conda create --name snowpark -c https://repo.anaconda.com/pkgs/snowflake python=3.8\n",
    "    - conda activate snowpark\n",
    "  - Install Snowpark for Python, Streamlit and other libraries in Conda environment\n",
    "    - conda install -c https://repo.anaconda.com/pkgs/snowflake snowflake-snowpark-python pandas notebook scikit-learn cachetools nbformat plotly\n",
    "  - Update [connection.json](connection.json) with your Snowflake account details and credentials"
   ]
  },
  {
   "cell_type": "markdown",
   "id": "a1c54315",
   "metadata": {},
   "source": [
    "<div style='text-align: center'>\n",
    "    <img src=\"assets/snowpark.png\" alt=\"Snowpark\" style=\"width: 75%;\"/>\n",
    "</div>"
   ]
  },
  {
   "cell_type": "markdown",
   "id": "6e2e1c4a",
   "metadata": {},
   "source": [
    "### Import Libraries"
   ]
  },
  {
   "cell_type": "code",
   "execution_count": 1,
   "id": "persistent-reasoning",
   "metadata": {
    "papermill": {
     "duration": 0.872363,
     "end_time": "2021-05-15T09:33:41.413139",
     "exception": false,
     "start_time": "2021-05-15T09:33:40.540776",
     "status": "completed"
    },
    "tags": []
   },
   "outputs": [],
   "source": [
    "# Snowpark for Python\n",
    "from snowflake.snowpark.session import Session\n",
    "import snowflake.snowpark.functions as F\n",
    "from snowflake.snowpark.version import VERSION\n",
    "from snowflake.snowpark.functions import col\n",
    "\n",
    "# Misc\n",
    "import json\n",
    "import sys\n",
    "import logging\n",
    "\n",
    "import numpy as np\n",
    "import plotly.express as px\n",
    "\n",
    "logger = logging.getLogger(\"snowflake.snowpark.session\")\n",
    "logger.setLevel(logging.ERROR)"
   ]
  },
  {
   "cell_type": "markdown",
   "id": "b855e80e",
   "metadata": {},
   "source": [
    "### Establish Secure Connection to Snowflake\n",
    "\n",
    "Using the Snowpark API, it’s quick and easy to establish a secure connection between Snowflake and Notebook.\n",
    "\n",
    " *Connection options: Username/Password, MFA, OAuth, Okta, SSO*"
   ]
  },
  {
   "cell_type": "code",
   "execution_count": 2,
   "id": "rotary-dairy",
   "metadata": {
    "papermill": {
     "duration": 0.092202,
     "end_time": "2021-05-15T09:34:12.813622",
     "exception": false,
     "start_time": "2021-05-15T09:34:12.721420",
     "status": "completed"
    },
    "tags": []
   },
   "outputs": [
    {
     "name": "stdout",
     "output_type": "stream",
     "text": [
      "User: RECKER_SFC\n",
      "Role: SNOWPARK_WORKSHOP_ROLE\n",
      "Database: DB_SNOWPARK_HOL\n",
      "Snowflake version: 7.37.2\n",
      "Schema: ROI_PREDICTION\n",
      "Warehouse: WH_SNOWPARK_HOL\n",
      "Snowpark for Python version: 1.4.0\n"
     ]
    }
   ],
   "source": [
    "#Test Code\n",
    "# Create Snowflake Session object\n",
    "connection_parameters = json.load(open('connection.json'))\n",
    "session = Session.builder.configs(connection_parameters).create()\n",
    "#session.sql_simplifier_enabled = True\n",
    "\n",
    "session.sql('use role snowpark_workshop_role').collect()\n",
    "session.sql('use warehouse wh_snowpark_hol').collect()\n",
    "#session.sql('use database DB_SNOWPARK_HOL').collect()\n",
    "#session.sql('use SCHEMA ROI_PREDICTION').collect()\n",
    "\n",
    "snowflake_environment = session.sql(\n",
    "    '''select\n",
    "        current_user()\n",
    "        ,current_role()\n",
    "        ,current_database()\n",
    "        ,current_schema()\n",
    "        ,current_version()\n",
    "        ,current_warehouse()'''\n",
    "    ).collect()\n",
    "\n",
    "snowpark_version = VERSION\n",
    "\n",
    "# Current Environment Details\n",
    "print(f'User: {snowflake_environment[0][0]}')\n",
    "print(f'Role: {snowflake_environment[0][1]}')\n",
    "print(f\"Database: {snowflake_environment[0][2]}\")\n",
    "print(f'Snowflake version: {snowflake_environment[0][4]}')\n",
    "print(f\"Schema: {snowflake_environment[0][3]}\")\n",
    "print(f\"Warehouse: {snowflake_environment[0][5]}\")\n",
    "print(f'Snowpark for Python version: {snowpark_version[0]}.{snowpark_version[1]}.{snowpark_version[2]}')\n",
    "\n"
   ]
  },
  {
   "attachments": {},
   "cell_type": "markdown",
   "id": "78ff9bbb",
   "metadata": {},
   "source": [
    "### Load Aggregated Campaign Spend Data from Snowflake table into Snowpark DataFrame\n",
    "\n",
    "Let's first load the campaign spend data. This table contains ad click data that has been aggregated to show daily spend across digital ad channels including search engines, social media, email and video.\n",
    "\n",
    "NOTE: Ways to load data in a Snowpark Dataframe\n",
    "* ```session.table(\"db.schema.table\")```\n",
    "* ```session.sql(\"select col1, col2... from tableName\")```\n",
    "* ```session.read.parquet(\"@stageName/path/to/file\")```\n",
    "* ```session.create_dataframe([1,2,3], schema=[\"col1\"])```\n",
    "\n",
    "TIP: For more information on Snowpark DataFrames, refer to the [docs](https://docs.snowflake.com/en/developer-guide/snowpark/reference/python/_autosummary/snowflake.snowpark.html#snowflake.snowpark.DataFrame).\n"
   ]
  },
  {
   "cell_type": "code",
   "execution_count": 3,
   "id": "d80bed43",
   "metadata": {},
   "outputs": [],
   "source": [
    "snow_df_spend = session.table('DAILY_SPEND')\n",
    "\n"
   ]
  },
  {
   "cell_type": "markdown",
   "id": "364e070a",
   "metadata": {},
   "source": [
    "<div style='text-align: center'>\n",
    "    <img src=\"assets/snowpark_python_api.png\" alt=\"Snowpark\" style=\"width: 75%;\"/>\n",
    "</div>"
   ]
  },
  {
   "cell_type": "code",
   "execution_count": 4,
   "id": "e7129be1",
   "metadata": {},
   "outputs": [
    {
     "name": "stdout",
     "output_type": "stream",
     "text": [
      "---------------------------------------------------------------\n",
      "|\"CHANNEL\"          |\"DATE\"      |\"DAILYCOST\"  |\"DAILYLEADS\"  |\n",
      "---------------------------------------------------------------\n",
      "|SEM                |2021-08-21  |37158        |340           |\n",
      "|3rd Party Listing  |2021-08-21  |27685        |650           |\n",
      "|Social             |2021-08-22  |0            |0             |\n",
      "|SEM                |2021-08-22  |0            |0             |\n",
      "|3rd Party Listing  |2021-08-22  |0            |0             |\n",
      "|Manually Entered   |2021-08-22  |0            |0             |\n",
      "|Display            |2021-08-22  |0            |0             |\n",
      "|Direct/Organic     |2021-08-22  |0            |0             |\n",
      "|Email              |2021-08-22  |0            |0             |\n",
      "|Radio              |2021-08-22  |0            |0             |\n",
      "|Alloy              |2021-08-22  |0            |0             |\n",
      "|Digital Not Set    |2021-08-22  |0            |0             |\n",
      "|Direct/Organic     |2021-08-23  |0            |277           |\n",
      "|Email              |2021-08-23  |0            |59            |\n",
      "|Alloy              |2021-08-23  |0            |594           |\n",
      "|SEM                |2021-08-23  |37158        |340           |\n",
      "|Social             |2021-08-23  |27068        |354           |\n",
      "|3rd Party Listing  |2021-08-23  |27685        |650           |\n",
      "|Manually Entered   |2021-08-23  |0            |1076          |\n",
      "|Radio              |2021-08-23  |0            |0             |\n",
      "|Digital Not Set    |2021-08-23  |0            |311           |\n",
      "|Display            |2021-08-23  |9193         |40            |\n",
      "|3rd Party Listing  |2021-08-24  |27685        |650           |\n",
      "|Radio              |2021-08-24  |0            |0             |\n",
      "|Digital Not Set    |2021-08-24  |0            |311           |\n",
      "|SEM                |2021-08-24  |37158        |340           |\n",
      "|Display            |2021-08-24  |9193         |40            |\n",
      "|Email              |2021-08-24  |0            |59            |\n",
      "|Direct/Organic     |2021-08-24  |0            |277           |\n",
      "|Social             |2021-08-24  |27068        |354           |\n",
      "---------------------------------------------------------------\n",
      "\n"
     ]
    },
    {
     "data": {
      "text/plain": [
       "[QueryRecord(query_id='01afdcff-0001-6fd6-0003-b7d2000d22ca', sql_text='SELECT  *  FROM DAILY_SPEND LIMIT 30')]"
      ]
     },
     "execution_count": 4,
     "metadata": {},
     "output_type": "execute_result"
    }
   ],
   "source": [
    "# Action sends the DF SQL for execution\n",
    "# Note: history object provides the query ID which can be helpful for debugging as well as the SQL query executed on the server\n",
    "with session.query_history() as history:\n",
    "    snow_df_spend.show(30)\n",
    "\n",
    "history.queries"
   ]
  },
  {
   "attachments": {},
   "cell_type": "markdown",
   "id": "ee6be176",
   "metadata": {},
   "source": [
    "### Pandas vs Snowpark DataFrame memory comparison"
   ]
  },
  {
   "attachments": {},
   "cell_type": "markdown",
   "id": "dcb3a3d6",
   "metadata": {},
   "source": [
    "Snowpark and Pandas DataFrame are similar but do have some notable differences.\n",
    "\n",
    "One of the biggest differences is the amount of local memory consumed. Run the cell block below to see firsthand."
   ]
  },
  {
   "cell_type": "code",
   "execution_count": 5,
   "id": "6a98b522",
   "metadata": {},
   "outputs": [
    {
     "name": "stdout",
     "output_type": "stream",
     "text": [
      "Size in MB of Snowpark DataFrame in Memory: 0.0\n",
      "Size in MB of Pandas DataFrame in Memory: 1.23\n"
     ]
    }
   ],
   "source": [
    "# get the size in MB of a dataframe\n",
    "def get_df_memory_size(df) -> float:\n",
    "    return np.round(sys.getsizeof(df) / (1024.0**2), 2)\n",
    "\n",
    "pandas_df_spend = snow_df_spend.to_pandas()\n",
    "\n",
    "print(f'Size in MB of Snowpark DataFrame in Memory: {get_df_memory_size(snow_df_spend)}')\n",
    "print(f'Size in MB of Pandas DataFrame in Memory: {get_df_memory_size(pandas_df_spend)}')"
   ]
  },
  {
   "attachments": {},
   "cell_type": "markdown",
   "id": "d5c7f02b",
   "metadata": {},
   "source": [
    "The Snowpark DataFrame consumes **zero** in memory MB - it is stored entirely within Snowflake. Whereas **the entire** Pandas DataFrame is stored in local memory\n",
    "\n",
    "*Note: the ```.to_pandas()``` method is called to convert any Snowpark DataFrame to a Pandas DataFrame -- we'll use this method multiple times throughout the rest of the workshop*"
   ]
  },
  {
   "attachments": {},
   "cell_type": "markdown",
   "id": "1744e636",
   "metadata": {},
   "source": [
    "### Creating new columns\n",
    "We can add new columns to our Snowpark DataFrame using the ```.with_column()``` method.\n",
    "\n",
    "Here, we are adding two new columns: *MONTH* and *YEAR* which represent the month and year an a campaign was run"
   ]
  },
  {
   "cell_type": "code",
   "execution_count": 6,
   "id": "0d3f7965",
   "metadata": {},
   "outputs": [
    {
     "name": "stdout",
     "output_type": "stream",
     "text": [
      "----------------------------------------------------------------------------------\n",
      "|\"CHANNEL\"          |\"DATE\"      |\"DAILYCOST\"  |\"DAILYLEADS\"  |\"YEAR\"  |\"MONTH\"  |\n",
      "----------------------------------------------------------------------------------\n",
      "|Digital Not Set    |2021-01-01  |0            |353           |2021    |1        |\n",
      "|Manually Entered   |2021-01-01  |0            |1483          |2021    |1        |\n",
      "|Alloy              |2021-01-01  |0            |337           |2021    |1        |\n",
      "|(not set)          |2021-01-01  |0            |29            |2021    |1        |\n",
      "|Direct/Organic     |2021-01-01  |0            |910           |2021    |1        |\n",
      "|Social             |2021-01-01  |22150        |700           |2021    |1        |\n",
      "|SEM                |2021-01-01  |35396        |614           |2021    |1        |\n",
      "|Display            |2021-01-01  |21068        |149           |2021    |1        |\n",
      "|Radio              |2021-01-01  |0            |0             |2021    |1        |\n",
      "|3rd Party Listing  |2021-01-01  |31446        |1174          |2021    |1        |\n",
      "----------------------------------------------------------------------------------\n",
      "\n"
     ]
    }
   ],
   "source": [
    "snow_df_spend=snow_df_spend.with_column(\"YEAR\", F.year(snow_df_spend[\"DATE\"]))\n",
    "snow_df_spend=snow_df_spend.with_column(\"MONTH\", F.month(snow_df_spend[\"DATE\"]))\n",
    "\n",
    "snow_df_spend.show()"
   ]
  },
  {
   "attachments": {},
   "cell_type": "markdown",
   "id": "ac007c17",
   "metadata": {},
   "source": [
    "**YOUR TURN**: add a new column called *COST_PER_LEAD* which is the result of *DAILYCOST / DAILYLEADS*\n",
    "\n",
    "*Expected output*:\n",
    "```\n",
    "---------------------------------------------------------------------------------\n",
    "|\"CHANNEL\"          |\"DATE\"      |\"DAILYCOST\"  |\"DAILYLEADS\"  |\"COST_PER_LEAD\"  |\n",
    "---------------------------------------------------------------------------------\n",
    "|Digital Not Set    |2021-01-01  |0            |353           |0.000000         |\n",
    "|Manually Entered   |2021-01-01  |0            |1483          |0.000000         |\n",
    "|Alloy              |2021-01-01  |0            |337           |0.000000         |\n",
    "|(not set)          |2021-01-01  |0            |29            |0.000000         |\n",
    "|Direct/Organic     |2021-01-01  |0            |910           |0.000000         |\n",
    "|Social             |2021-01-01  |22150        |700           |31.642857        |\n",
    "|SEM                |2021-01-01  |35396        |614           |57.648208        |\n",
    "|Display            |2021-01-01  |21068        |149           |141.395973       |\n",
    "|Radio              |2021-01-01  |0            |0             |0.000000         |\n",
    "|3rd Party Listing  |2021-01-01  |31446        |1174          |26.785349        |\n",
    "---------------------------------------------------------------------------------\n",
    "```"
   ]
  },
  {
   "cell_type": "code",
   "execution_count": 7,
   "id": "4f18fef5",
   "metadata": {},
   "outputs": [
    {
     "name": "stdout",
     "output_type": "stream",
     "text": [
      "---------------------------------------------------------------------------------\n",
      "|\"CHANNEL\"          |\"DATE\"      |\"DAILYCOST\"  |\"DAILYLEADS\"  |\"COST_PER_LEAD\"  |\n",
      "---------------------------------------------------------------------------------\n",
      "|Digital Not Set    |2021-01-01  |0            |353           |0.000000         |\n",
      "|Manually Entered   |2021-01-01  |0            |1483          |0.000000         |\n",
      "|Alloy              |2021-01-01  |0            |337           |0.000000         |\n",
      "|(not set)          |2021-01-01  |0            |29            |0.000000         |\n",
      "|Direct/Organic     |2021-01-01  |0            |910           |0.000000         |\n",
      "|Social             |2021-01-01  |22150        |700           |31.642857        |\n",
      "|SEM                |2021-01-01  |35396        |614           |57.648208        |\n",
      "|Display            |2021-01-01  |21068        |149           |141.395973       |\n",
      "|Radio              |2021-01-01  |0            |0             |0.000000         |\n",
      "|3rd Party Listing  |2021-01-01  |31446        |1174          |26.785349        |\n",
      "---------------------------------------------------------------------------------\n",
      "\n"
     ]
    }
   ],
   "source": [
    "snow_df_spend=snow_df_spend.with_column(\"COST_PER_LEAD\", F.div0(snow_df_spend[\"DAILYCOST\"],snow_df_spend[\"DAILYLEADS\"]))\n",
    "snow_df_spend.select(\"CHANNEL\",\"DATE\",\"DAILYCOST\",\"DAILYLEADS\",\"COST_PER_LEAD\").show()"
   ]
  },
  {
   "attachments": {},
   "cell_type": "markdown",
   "id": "d8ab13e6",
   "metadata": {},
   "source": [
    "We can also create new columns using *if-then-else* logic by using the ```.iff()``` method.\n",
    "\n",
    "Suppose we want to flag a channel as either being focused on **DIGITAL** or something else. We can can do so by running the code block below"
   ]
  },
  {
   "cell_type": "code",
   "execution_count": 8,
   "id": "0237787c",
   "metadata": {},
   "outputs": [
    {
     "name": "stdout",
     "output_type": "stream",
     "text": [
      "------------------------------------\n",
      "|\"CHANNEL\"          |\"IS_DIGITAL\"  |\n",
      "------------------------------------\n",
      "|Digital Not Set    |1             |\n",
      "|Manually Entered   |0             |\n",
      "|Alloy              |0             |\n",
      "|(not set)          |0             |\n",
      "|Direct/Organic     |0             |\n",
      "|Social             |1             |\n",
      "|SEM                |0             |\n",
      "|Display            |0             |\n",
      "|Radio              |0             |\n",
      "|3rd Party Listing  |0             |\n",
      "------------------------------------\n",
      "\n"
     ]
    }
   ],
   "source": [
    "Digital_Channels=[\n",
    "    'Digital Not Set', 'Social',\n",
    "    'Email'\n",
    "]\n",
    "\n",
    "snow_df_spend=snow_df_spend.with_column(\"IS_DIGITAL\", F.iff(snow_df_spend[\"CHANNEL\"].isin(Digital_Channels), 1, 0))\n",
    "snow_df_spend.select(\"CHANNEL\",\"IS_DIGITAL\").show(10)"
   ]
  },
  {
   "attachments": {},
   "cell_type": "markdown",
   "id": "3f133e6f",
   "metadata": {},
   "source": [
    "Snowpark supports enhancing DataFrames in a number of different ways. The code block below demonstrates using the ```.when()``` method to add a column indicating the season in which an ad was run.\n",
    "\n",
    "*Note: this is synonomous with a ```CASE-WHEN``` expression in SQL*"
   ]
  },
  {
   "cell_type": "code",
   "execution_count": 9,
   "id": "74aaa13b",
   "metadata": {},
   "outputs": [
    {
     "name": "stdout",
     "output_type": "stream",
     "text": [
      "---------------------------------------------\n",
      "|\"CHANNEL\"          |\"DATE\"      |\"SEASON\"  |\n",
      "---------------------------------------------\n",
      "|SEM                |2021-08-21  |summer    |\n",
      "|3rd Party Listing  |2021-08-21  |summer    |\n",
      "|Social             |2021-08-22  |summer    |\n",
      "|SEM                |2021-08-22  |summer    |\n",
      "|3rd Party Listing  |2021-08-22  |summer    |\n",
      "|Manually Entered   |2021-08-22  |summer    |\n",
      "|Display            |2021-08-22  |summer    |\n",
      "|Direct/Organic     |2021-08-22  |summer    |\n",
      "|Email              |2021-08-22  |summer    |\n",
      "|Radio              |2021-08-22  |summer    |\n",
      "|Alloy              |2021-08-22  |summer    |\n",
      "|Digital Not Set    |2021-08-22  |summer    |\n",
      "---------------------------------------------\n",
      "\n"
     ]
    }
   ],
   "source": [
    "seasons=(\n",
    "    F.when(snow_df_spend[\"MONTH\"].isin(12, 1, 2),\"winter\")\n",
    "    .when(snow_df_spend[\"MONTH\"].isin(3, 4, 5),\"spring\")\n",
    "    .when(snow_df_spend[\"MONTH\"].isin(6, 7, 8),\"summer\")\n",
    "    .when(snow_df_spend[\"MONTH\"].isin(9, 10, 11),\"fall\")\n",
    ")\n",
    "\n",
    "snow_df_spend=snow_df_spend.with_column(\"SEASON\", seasons)\n",
    "snow_df_spend.select(\"CHANNEL\",\"DATE\",\"SEASON\").show(12)\n"
   ]
  },
  {
   "attachments": {},
   "cell_type": "markdown",
   "id": "7ef36ce8",
   "metadata": {},
   "source": [
    "**YOUR TURN**: suppose there was a reporting error in the winter season and the total cost of each ad was accidentally entered 10% too high.\n",
    "\n",
    "Use the `.iff()` and `.with_column()` methods to overwrite the TOTAL_COST column so that is 10% lower for any ad run in the winter season.\n",
    "\n",
    "_Expected output:_\n",
    "```\n",
    "   ----------------------------------------------\n",
    "|\"CHANNEL\"          |\"SEASON\"  |\"DAILYCOST\"  |\n",
    "----------------------------------------------\n",
    "|Digital Not Set    |winter    |0.0          |\n",
    "|Manually Entered   |winter    |0.0          |\n",
    "|Alloy              |winter    |0.0          |\n",
    "|(not set)          |winter    |0.0          |\n",
    "|Direct/Organic     |winter    |0.0          |\n",
    "|Social             |winter    |22150.0      |\n",
    "|SEM                |winter    |35396.0      |\n",
    "|Display            |winter    |21068.0      |\n",
    "|Radio              |winter    |0.0          |\n",
    "|3rd Party Listing  |winter    |31446.0      |\n",
    "----------------------------------------------\n",
    "```"
   ]
  },
  {
   "cell_type": "code",
   "execution_count": 10,
   "id": "852bf7d4",
   "metadata": {},
   "outputs": [
    {
     "name": "stdout",
     "output_type": "stream",
     "text": [
      "----------------------------------------------\n",
      "|\"CHANNEL\"          |\"SEASON\"  |\"DAILYCOST\"  |\n",
      "----------------------------------------------\n",
      "|Digital Not Set    |winter    |0.0          |\n",
      "|Manually Entered   |winter    |0.0          |\n",
      "|Alloy              |winter    |0.0          |\n",
      "|(not set)          |winter    |0.0          |\n",
      "|Direct/Organic     |winter    |0.0          |\n",
      "|Social             |winter    |22150.0      |\n",
      "|SEM                |winter    |35396.0      |\n",
      "|Display            |winter    |21068.0      |\n",
      "|Radio              |winter    |0.0          |\n",
      "|3rd Party Listing  |winter    |31446.0      |\n",
      "----------------------------------------------\n",
      "\n"
     ]
    }
   ],
   "source": [
    "snow_df_spend=snow_df_spend.with_column(\"DAILYCOST\", F.iff(F.col(\"SEASON\")==\"season\", F.col(\"DAILYCOST\")*0.9, F.col(\"DAILYCOST\")))\n",
    "snow_df_spend.select(\"CHANNEL\",\"SEASON\",\"DAILYCOST\").show(10)\n"
   ]
  },
  {
   "attachments": {},
   "cell_type": "markdown",
   "id": "2129a3eb",
   "metadata": {},
   "source": [
    "### Aggregating Snowpark DataFrames\n",
    "Now, that we have an idea for what our dataset looks like, let's use different Python and Snowpark to derive useful information from the raw data\n",
    "\n",
    "First, we'll take a look at the total cost per ad channel"
   ]
  },
  {
   "cell_type": "code",
   "execution_count": 11,
   "id": "a26c7246",
   "metadata": {},
   "outputs": [
    {
     "name": "stdout",
     "output_type": "stream",
     "text": [
      "------------------------------------\n",
      "|\"CHANNEL\"          |\"TOTAL_COST\"  |\n",
      "------------------------------------\n",
      "|SEM                |38708512.0    |\n",
      "|3rd Party Listing  |17298512.0    |\n",
      "|Social             |42966080.0    |\n",
      "|Display            |16236784.0    |\n",
      "|Offline Marketing  |106176.0      |\n",
      "|Digital Not Set    |105968.0      |\n",
      "|(not set)          |0.0           |\n",
      "|Manually Entered   |0.0           |\n",
      "|Alloy              |0.0           |\n",
      "|Direct/Organic     |0.0           |\n",
      "|Radio              |38752.0       |\n",
      "|Email              |20816.0       |\n",
      "|Spend Form         |649120.0      |\n",
      "|OTT                |1840112.0     |\n",
      "------------------------------------\n",
      "\n"
     ]
    }
   ],
   "source": [
    "snow_df_spend_per_channel=(\n",
    "    snow_df_spend\n",
    "        .group_by(\"CHANNEL\")\n",
    "        .agg(F.sum(\"DAILYCOST\").as_(\"TOTAL_COST\"))\n",
    ")\n",
    "\n",
    "snow_df_spend_per_channel.show(50)\n"
   ]
  },
  {
   "attachments": {},
   "cell_type": "markdown",
   "id": "09b752d5",
   "metadata": {},
   "source": [
    "Additionally, if we convert our Snowpark DataFrames to Pandas, we have the ability to create graphs and visualizations using any standard Python plotting library.\n",
    "\n",
    "Here we are using the ```plotly.express``` library to create a bar chart of total cost per channel."
   ]
  },
  {
   "cell_type": "code",
   "execution_count": 12,
   "id": "777c850d",
   "metadata": {},
   "outputs": [
    {
     "data": {
      "application/vnd.plotly.v1+json": {
       "config": {
        "plotlyServerURL": "https://plot.ly"
       },
       "data": [
        {
         "alignmentgroup": "True",
         "hovertemplate": "CHANNEL=%{x}<br>TOTAL_COST=%{y}<extra></extra>",
         "legendgroup": "",
         "marker": {
          "color": "#636efa",
          "pattern": {
           "shape": ""
          }
         },
         "name": "",
         "offsetgroup": "",
         "orientation": "v",
         "showlegend": false,
         "textposition": "auto",
         "type": "bar",
         "x": [
          "Digital Not Set",
          "(not set)",
          "Social",
          "3rd Party Listing",
          "SEM",
          "Display",
          "Offline Marketing",
          "Manually Entered",
          "Direct/Organic",
          "Email",
          "Radio",
          "Alloy",
          "Spend Form",
          "OTT"
         ],
         "xaxis": "x",
         "y": [
          105968,
          0,
          42966080,
          17298512,
          38708512,
          16236784,
          106176,
          0,
          0,
          20816,
          38752,
          0,
          649120,
          1840112
         ],
         "yaxis": "y"
        }
       ],
       "layout": {
        "barmode": "relative",
        "legend": {
         "tracegroupgap": 0
        },
        "margin": {
         "t": 60
        },
        "template": {
         "data": {
          "bar": [
           {
            "error_x": {
             "color": "#2a3f5f"
            },
            "error_y": {
             "color": "#2a3f5f"
            },
            "marker": {
             "line": {
              "color": "#E5ECF6",
              "width": 0.5
             },
             "pattern": {
              "fillmode": "overlay",
              "size": 10,
              "solidity": 0.2
             }
            },
            "type": "bar"
           }
          ],
          "barpolar": [
           {
            "marker": {
             "line": {
              "color": "#E5ECF6",
              "width": 0.5
             },
             "pattern": {
              "fillmode": "overlay",
              "size": 10,
              "solidity": 0.2
             }
            },
            "type": "barpolar"
           }
          ],
          "carpet": [
           {
            "aaxis": {
             "endlinecolor": "#2a3f5f",
             "gridcolor": "white",
             "linecolor": "white",
             "minorgridcolor": "white",
             "startlinecolor": "#2a3f5f"
            },
            "baxis": {
             "endlinecolor": "#2a3f5f",
             "gridcolor": "white",
             "linecolor": "white",
             "minorgridcolor": "white",
             "startlinecolor": "#2a3f5f"
            },
            "type": "carpet"
           }
          ],
          "choropleth": [
           {
            "colorbar": {
             "outlinewidth": 0,
             "ticks": ""
            },
            "type": "choropleth"
           }
          ],
          "contour": [
           {
            "colorbar": {
             "outlinewidth": 0,
             "ticks": ""
            },
            "colorscale": [
             [
              0,
              "#0d0887"
             ],
             [
              0.1111111111111111,
              "#46039f"
             ],
             [
              0.2222222222222222,
              "#7201a8"
             ],
             [
              0.3333333333333333,
              "#9c179e"
             ],
             [
              0.4444444444444444,
              "#bd3786"
             ],
             [
              0.5555555555555556,
              "#d8576b"
             ],
             [
              0.6666666666666666,
              "#ed7953"
             ],
             [
              0.7777777777777778,
              "#fb9f3a"
             ],
             [
              0.8888888888888888,
              "#fdca26"
             ],
             [
              1,
              "#f0f921"
             ]
            ],
            "type": "contour"
           }
          ],
          "contourcarpet": [
           {
            "colorbar": {
             "outlinewidth": 0,
             "ticks": ""
            },
            "type": "contourcarpet"
           }
          ],
          "heatmap": [
           {
            "colorbar": {
             "outlinewidth": 0,
             "ticks": ""
            },
            "colorscale": [
             [
              0,
              "#0d0887"
             ],
             [
              0.1111111111111111,
              "#46039f"
             ],
             [
              0.2222222222222222,
              "#7201a8"
             ],
             [
              0.3333333333333333,
              "#9c179e"
             ],
             [
              0.4444444444444444,
              "#bd3786"
             ],
             [
              0.5555555555555556,
              "#d8576b"
             ],
             [
              0.6666666666666666,
              "#ed7953"
             ],
             [
              0.7777777777777778,
              "#fb9f3a"
             ],
             [
              0.8888888888888888,
              "#fdca26"
             ],
             [
              1,
              "#f0f921"
             ]
            ],
            "type": "heatmap"
           }
          ],
          "heatmapgl": [
           {
            "colorbar": {
             "outlinewidth": 0,
             "ticks": ""
            },
            "colorscale": [
             [
              0,
              "#0d0887"
             ],
             [
              0.1111111111111111,
              "#46039f"
             ],
             [
              0.2222222222222222,
              "#7201a8"
             ],
             [
              0.3333333333333333,
              "#9c179e"
             ],
             [
              0.4444444444444444,
              "#bd3786"
             ],
             [
              0.5555555555555556,
              "#d8576b"
             ],
             [
              0.6666666666666666,
              "#ed7953"
             ],
             [
              0.7777777777777778,
              "#fb9f3a"
             ],
             [
              0.8888888888888888,
              "#fdca26"
             ],
             [
              1,
              "#f0f921"
             ]
            ],
            "type": "heatmapgl"
           }
          ],
          "histogram": [
           {
            "marker": {
             "pattern": {
              "fillmode": "overlay",
              "size": 10,
              "solidity": 0.2
             }
            },
            "type": "histogram"
           }
          ],
          "histogram2d": [
           {
            "colorbar": {
             "outlinewidth": 0,
             "ticks": ""
            },
            "colorscale": [
             [
              0,
              "#0d0887"
             ],
             [
              0.1111111111111111,
              "#46039f"
             ],
             [
              0.2222222222222222,
              "#7201a8"
             ],
             [
              0.3333333333333333,
              "#9c179e"
             ],
             [
              0.4444444444444444,
              "#bd3786"
             ],
             [
              0.5555555555555556,
              "#d8576b"
             ],
             [
              0.6666666666666666,
              "#ed7953"
             ],
             [
              0.7777777777777778,
              "#fb9f3a"
             ],
             [
              0.8888888888888888,
              "#fdca26"
             ],
             [
              1,
              "#f0f921"
             ]
            ],
            "type": "histogram2d"
           }
          ],
          "histogram2dcontour": [
           {
            "colorbar": {
             "outlinewidth": 0,
             "ticks": ""
            },
            "colorscale": [
             [
              0,
              "#0d0887"
             ],
             [
              0.1111111111111111,
              "#46039f"
             ],
             [
              0.2222222222222222,
              "#7201a8"
             ],
             [
              0.3333333333333333,
              "#9c179e"
             ],
             [
              0.4444444444444444,
              "#bd3786"
             ],
             [
              0.5555555555555556,
              "#d8576b"
             ],
             [
              0.6666666666666666,
              "#ed7953"
             ],
             [
              0.7777777777777778,
              "#fb9f3a"
             ],
             [
              0.8888888888888888,
              "#fdca26"
             ],
             [
              1,
              "#f0f921"
             ]
            ],
            "type": "histogram2dcontour"
           }
          ],
          "mesh3d": [
           {
            "colorbar": {
             "outlinewidth": 0,
             "ticks": ""
            },
            "type": "mesh3d"
           }
          ],
          "parcoords": [
           {
            "line": {
             "colorbar": {
              "outlinewidth": 0,
              "ticks": ""
             }
            },
            "type": "parcoords"
           }
          ],
          "pie": [
           {
            "automargin": true,
            "type": "pie"
           }
          ],
          "scatter": [
           {
            "fillpattern": {
             "fillmode": "overlay",
             "size": 10,
             "solidity": 0.2
            },
            "type": "scatter"
           }
          ],
          "scatter3d": [
           {
            "line": {
             "colorbar": {
              "outlinewidth": 0,
              "ticks": ""
             }
            },
            "marker": {
             "colorbar": {
              "outlinewidth": 0,
              "ticks": ""
             }
            },
            "type": "scatter3d"
           }
          ],
          "scattercarpet": [
           {
            "marker": {
             "colorbar": {
              "outlinewidth": 0,
              "ticks": ""
             }
            },
            "type": "scattercarpet"
           }
          ],
          "scattergeo": [
           {
            "marker": {
             "colorbar": {
              "outlinewidth": 0,
              "ticks": ""
             }
            },
            "type": "scattergeo"
           }
          ],
          "scattergl": [
           {
            "marker": {
             "colorbar": {
              "outlinewidth": 0,
              "ticks": ""
             }
            },
            "type": "scattergl"
           }
          ],
          "scattermapbox": [
           {
            "marker": {
             "colorbar": {
              "outlinewidth": 0,
              "ticks": ""
             }
            },
            "type": "scattermapbox"
           }
          ],
          "scatterpolar": [
           {
            "marker": {
             "colorbar": {
              "outlinewidth": 0,
              "ticks": ""
             }
            },
            "type": "scatterpolar"
           }
          ],
          "scatterpolargl": [
           {
            "marker": {
             "colorbar": {
              "outlinewidth": 0,
              "ticks": ""
             }
            },
            "type": "scatterpolargl"
           }
          ],
          "scatterternary": [
           {
            "marker": {
             "colorbar": {
              "outlinewidth": 0,
              "ticks": ""
             }
            },
            "type": "scatterternary"
           }
          ],
          "surface": [
           {
            "colorbar": {
             "outlinewidth": 0,
             "ticks": ""
            },
            "colorscale": [
             [
              0,
              "#0d0887"
             ],
             [
              0.1111111111111111,
              "#46039f"
             ],
             [
              0.2222222222222222,
              "#7201a8"
             ],
             [
              0.3333333333333333,
              "#9c179e"
             ],
             [
              0.4444444444444444,
              "#bd3786"
             ],
             [
              0.5555555555555556,
              "#d8576b"
             ],
             [
              0.6666666666666666,
              "#ed7953"
             ],
             [
              0.7777777777777778,
              "#fb9f3a"
             ],
             [
              0.8888888888888888,
              "#fdca26"
             ],
             [
              1,
              "#f0f921"
             ]
            ],
            "type": "surface"
           }
          ],
          "table": [
           {
            "cells": {
             "fill": {
              "color": "#EBF0F8"
             },
             "line": {
              "color": "white"
             }
            },
            "header": {
             "fill": {
              "color": "#C8D4E3"
             },
             "line": {
              "color": "white"
             }
            },
            "type": "table"
           }
          ]
         },
         "layout": {
          "annotationdefaults": {
           "arrowcolor": "#2a3f5f",
           "arrowhead": 0,
           "arrowwidth": 1
          },
          "autotypenumbers": "strict",
          "coloraxis": {
           "colorbar": {
            "outlinewidth": 0,
            "ticks": ""
           }
          },
          "colorscale": {
           "diverging": [
            [
             0,
             "#8e0152"
            ],
            [
             0.1,
             "#c51b7d"
            ],
            [
             0.2,
             "#de77ae"
            ],
            [
             0.3,
             "#f1b6da"
            ],
            [
             0.4,
             "#fde0ef"
            ],
            [
             0.5,
             "#f7f7f7"
            ],
            [
             0.6,
             "#e6f5d0"
            ],
            [
             0.7,
             "#b8e186"
            ],
            [
             0.8,
             "#7fbc41"
            ],
            [
             0.9,
             "#4d9221"
            ],
            [
             1,
             "#276419"
            ]
           ],
           "sequential": [
            [
             0,
             "#0d0887"
            ],
            [
             0.1111111111111111,
             "#46039f"
            ],
            [
             0.2222222222222222,
             "#7201a8"
            ],
            [
             0.3333333333333333,
             "#9c179e"
            ],
            [
             0.4444444444444444,
             "#bd3786"
            ],
            [
             0.5555555555555556,
             "#d8576b"
            ],
            [
             0.6666666666666666,
             "#ed7953"
            ],
            [
             0.7777777777777778,
             "#fb9f3a"
            ],
            [
             0.8888888888888888,
             "#fdca26"
            ],
            [
             1,
             "#f0f921"
            ]
           ],
           "sequentialminus": [
            [
             0,
             "#0d0887"
            ],
            [
             0.1111111111111111,
             "#46039f"
            ],
            [
             0.2222222222222222,
             "#7201a8"
            ],
            [
             0.3333333333333333,
             "#9c179e"
            ],
            [
             0.4444444444444444,
             "#bd3786"
            ],
            [
             0.5555555555555556,
             "#d8576b"
            ],
            [
             0.6666666666666666,
             "#ed7953"
            ],
            [
             0.7777777777777778,
             "#fb9f3a"
            ],
            [
             0.8888888888888888,
             "#fdca26"
            ],
            [
             1,
             "#f0f921"
            ]
           ]
          },
          "colorway": [
           "#636efa",
           "#EF553B",
           "#00cc96",
           "#ab63fa",
           "#FFA15A",
           "#19d3f3",
           "#FF6692",
           "#B6E880",
           "#FF97FF",
           "#FECB52"
          ],
          "font": {
           "color": "#2a3f5f"
          },
          "geo": {
           "bgcolor": "white",
           "lakecolor": "white",
           "landcolor": "#E5ECF6",
           "showlakes": true,
           "showland": true,
           "subunitcolor": "white"
          },
          "hoverlabel": {
           "align": "left"
          },
          "hovermode": "closest",
          "mapbox": {
           "style": "light"
          },
          "paper_bgcolor": "white",
          "plot_bgcolor": "#E5ECF6",
          "polar": {
           "angularaxis": {
            "gridcolor": "white",
            "linecolor": "white",
            "ticks": ""
           },
           "bgcolor": "#E5ECF6",
           "radialaxis": {
            "gridcolor": "white",
            "linecolor": "white",
            "ticks": ""
           }
          },
          "scene": {
           "xaxis": {
            "backgroundcolor": "#E5ECF6",
            "gridcolor": "white",
            "gridwidth": 2,
            "linecolor": "white",
            "showbackground": true,
            "ticks": "",
            "zerolinecolor": "white"
           },
           "yaxis": {
            "backgroundcolor": "#E5ECF6",
            "gridcolor": "white",
            "gridwidth": 2,
            "linecolor": "white",
            "showbackground": true,
            "ticks": "",
            "zerolinecolor": "white"
           },
           "zaxis": {
            "backgroundcolor": "#E5ECF6",
            "gridcolor": "white",
            "gridwidth": 2,
            "linecolor": "white",
            "showbackground": true,
            "ticks": "",
            "zerolinecolor": "white"
           }
          },
          "shapedefaults": {
           "line": {
            "color": "#2a3f5f"
           }
          },
          "ternary": {
           "aaxis": {
            "gridcolor": "white",
            "linecolor": "white",
            "ticks": ""
           },
           "baxis": {
            "gridcolor": "white",
            "linecolor": "white",
            "ticks": ""
           },
           "bgcolor": "#E5ECF6",
           "caxis": {
            "gridcolor": "white",
            "linecolor": "white",
            "ticks": ""
           }
          },
          "title": {
           "x": 0.05
          },
          "xaxis": {
           "automargin": true,
           "gridcolor": "white",
           "linecolor": "white",
           "ticks": "",
           "title": {
            "standoff": 15
           },
           "zerolinecolor": "white",
           "zerolinewidth": 2
          },
          "yaxis": {
           "automargin": true,
           "gridcolor": "white",
           "linecolor": "white",
           "ticks": "",
           "title": {
            "standoff": 15
           },
           "zerolinecolor": "white",
           "zerolinewidth": 2
          }
         }
        },
        "xaxis": {
         "anchor": "y",
         "domain": [
          0,
          1
         ],
         "title": {
          "text": "CHANNEL"
         }
        },
        "yaxis": {
         "anchor": "x",
         "domain": [
          0,
          1
         ],
         "title": {
          "text": "TOTAL_COST"
         }
        }
       }
      }
     },
     "metadata": {},
     "output_type": "display_data"
    }
   ],
   "source": [
    "df=snow_df_spend_per_channel.to_pandas()\n",
    "fig=px.bar(df, x=\"CHANNEL\", y=\"TOTAL_COST\")\n",
    "fig.show()"
   ]
  },
  {
   "attachments": {},
   "cell_type": "markdown",
   "id": "6e671ff3",
   "metadata": {},
   "source": [
    "##### Aggregating multiple columns\n",
    "Just like with Pandas, Snowpark DataFrames support grouping and aggregating multiple columns.\n",
    "\n",
    "This first code block creates a DataFrame which contains the total cost, average cost, and number of campaigns run for each channel\n",
    "\n",
    "TIP: For a full list of functions, refer to the [docs](https://docs.snowflake.com/en/developer-guide/snowpark/reference/python/latest/index)."
   ]
  },
  {
   "cell_type": "code",
   "execution_count": 13,
   "id": "laden-contest",
   "metadata": {
    "papermill": {
     "duration": 0.07724,
     "end_time": "2021-05-15T09:33:41.657494",
     "exception": false,
     "start_time": "2021-05-15T09:33:41.580254",
     "status": "completed"
    },
    "tags": []
   },
   "outputs": [
    {
     "name": "stdout",
     "output_type": "stream",
     "text": [
      "-------------------------------------------------------------------\n",
      "|\"YEAR\"  |\"CHANNEL\"          |\"TOTAL_COST\"  |\"AVG_COST_PER_LEAD\"  |\n",
      "-------------------------------------------------------------------\n",
      "|2021    |(not set)          |0.0           |0E-12                |\n",
      "|2021    |3rd Party Listing  |5403248.0     |18.555009095890      |\n",
      "|2021    |Alloy              |0.0           |0E-12                |\n",
      "|2021    |Digital Not Set    |1904.0        |0.019610652055       |\n",
      "|2021    |Direct/Organic     |0.0           |0E-12                |\n",
      "|2021    |Display            |2060288.0     |59.302212208219      |\n",
      "|2021    |Email              |0.0           |0E-12                |\n",
      "|2021    |Manually Entered   |0.0           |0E-12                |\n",
      "|2021    |Radio              |0.0           |0E-12                |\n",
      "|2021    |SEM                |6656976.0     |28.956007057534      |\n",
      "-------------------------------------------------------------------\n",
      "\n"
     ]
    }
   ],
   "source": [
    "# Stats per Month per Channel\n",
    "snow_df_annual_spend_per_channel=(\n",
    "    snow_df_spend\n",
    "        .group_by(\n",
    "            \"YEAR\",\n",
    "            \"CHANNEL\"\n",
    "        )\n",
    "        .agg(\n",
    "            F.sum(\"DAILYCOST\").as_(\"TOTAL_COST\"),\n",
    "            F.avg(\"COST_PER_LEAD\").as_(\"AVG_COST_PER_LEAD\")\n",
    "        )\n",
    "        .sort(\"YEAR\",\"CHANNEL\")\n",
    ")\n",
    "snow_df_annual_spend_per_channel.show()"
   ]
  },
  {
   "cell_type": "code",
   "execution_count": 14,
   "id": "a88e7080",
   "metadata": {},
   "outputs": [
    {
     "data": {
      "application/vnd.plotly.v1+json": {
       "config": {
        "plotlyServerURL": "https://plot.ly"
       },
       "data": [
        {
         "hovertemplate": "CHANNEL=(not set)<br>YEAR=%{x}<br>TOTAL_COST=%{y}<extra></extra>",
         "legendgroup": "(not set)",
         "line": {
          "color": "#636efa",
          "dash": "solid"
         },
         "marker": {
          "symbol": "circle"
         },
         "mode": "markers+lines",
         "name": "(not set)",
         "orientation": "v",
         "showlegend": true,
         "type": "scatter",
         "x": [
          2021,
          2023
         ],
         "xaxis": "x",
         "y": [
          0,
          0
         ],
         "yaxis": "y"
        },
        {
         "hovertemplate": "CHANNEL=3rd Party Listing<br>YEAR=%{x}<br>TOTAL_COST=%{y}<extra></extra>",
         "legendgroup": "3rd Party Listing",
         "line": {
          "color": "#EF553B",
          "dash": "solid"
         },
         "marker": {
          "symbol": "circle"
         },
         "mode": "markers+lines",
         "name": "3rd Party Listing",
         "orientation": "v",
         "showlegend": true,
         "type": "scatter",
         "x": [
          2021,
          2022,
          2023
         ],
         "xaxis": "x",
         "y": [
          5403248,
          6273856,
          5621408
         ],
         "yaxis": "y"
        },
        {
         "hovertemplate": "CHANNEL=Alloy<br>YEAR=%{x}<br>TOTAL_COST=%{y}<extra></extra>",
         "legendgroup": "Alloy",
         "line": {
          "color": "#00cc96",
          "dash": "solid"
         },
         "marker": {
          "symbol": "circle"
         },
         "mode": "markers+lines",
         "name": "Alloy",
         "orientation": "v",
         "showlegend": true,
         "type": "scatter",
         "x": [
          2021,
          2022,
          2023
         ],
         "xaxis": "x",
         "y": [
          0,
          0,
          0
         ],
         "yaxis": "y"
        },
        {
         "hovertemplate": "CHANNEL=Digital Not Set<br>YEAR=%{x}<br>TOTAL_COST=%{y}<extra></extra>",
         "legendgroup": "Digital Not Set",
         "line": {
          "color": "#ab63fa",
          "dash": "solid"
         },
         "marker": {
          "symbol": "circle"
         },
         "mode": "markers+lines",
         "name": "Digital Not Set",
         "orientation": "v",
         "showlegend": true,
         "type": "scatter",
         "x": [
          2021,
          2022,
          2023
         ],
         "xaxis": "x",
         "y": [
          1904,
          69888,
          34176
         ],
         "yaxis": "y"
        },
        {
         "hovertemplate": "CHANNEL=Direct/Organic<br>YEAR=%{x}<br>TOTAL_COST=%{y}<extra></extra>",
         "legendgroup": "Direct/Organic",
         "line": {
          "color": "#FFA15A",
          "dash": "solid"
         },
         "marker": {
          "symbol": "circle"
         },
         "mode": "markers+lines",
         "name": "Direct/Organic",
         "orientation": "v",
         "showlegend": true,
         "type": "scatter",
         "x": [
          2021,
          2022,
          2023
         ],
         "xaxis": "x",
         "y": [
          0,
          0,
          0
         ],
         "yaxis": "y"
        },
        {
         "hovertemplate": "CHANNEL=Display<br>YEAR=%{x}<br>TOTAL_COST=%{y}<extra></extra>",
         "legendgroup": "Display",
         "line": {
          "color": "#19d3f3",
          "dash": "solid"
         },
         "marker": {
          "symbol": "circle"
         },
         "mode": "markers+lines",
         "name": "Display",
         "orientation": "v",
         "showlegend": true,
         "type": "scatter",
         "x": [
          2021,
          2022,
          2023
         ],
         "xaxis": "x",
         "y": [
          2060288,
          6612240,
          7564256
         ],
         "yaxis": "y"
        },
        {
         "hovertemplate": "CHANNEL=Email<br>YEAR=%{x}<br>TOTAL_COST=%{y}<extra></extra>",
         "legendgroup": "Email",
         "line": {
          "color": "#FF6692",
          "dash": "solid"
         },
         "marker": {
          "symbol": "circle"
         },
         "mode": "markers+lines",
         "name": "Email",
         "orientation": "v",
         "showlegend": true,
         "type": "scatter",
         "x": [
          2021,
          2022,
          2023
         ],
         "xaxis": "x",
         "y": [
          0,
          17248,
          3568
         ],
         "yaxis": "y"
        },
        {
         "hovertemplate": "CHANNEL=Manually Entered<br>YEAR=%{x}<br>TOTAL_COST=%{y}<extra></extra>",
         "legendgroup": "Manually Entered",
         "line": {
          "color": "#B6E880",
          "dash": "solid"
         },
         "marker": {
          "symbol": "circle"
         },
         "mode": "markers+lines",
         "name": "Manually Entered",
         "orientation": "v",
         "showlegend": true,
         "type": "scatter",
         "x": [
          2021,
          2022,
          2023
         ],
         "xaxis": "x",
         "y": [
          0,
          0,
          0
         ],
         "yaxis": "y"
        },
        {
         "hovertemplate": "CHANNEL=Radio<br>YEAR=%{x}<br>TOTAL_COST=%{y}<extra></extra>",
         "legendgroup": "Radio",
         "line": {
          "color": "#FF97FF",
          "dash": "solid"
         },
         "marker": {
          "symbol": "circle"
         },
         "mode": "markers+lines",
         "name": "Radio",
         "orientation": "v",
         "showlegend": true,
         "type": "scatter",
         "x": [
          2021,
          2022,
          2023
         ],
         "xaxis": "x",
         "y": [
          0,
          0,
          38752
         ],
         "yaxis": "y"
        },
        {
         "hovertemplate": "CHANNEL=SEM<br>YEAR=%{x}<br>TOTAL_COST=%{y}<extra></extra>",
         "legendgroup": "SEM",
         "line": {
          "color": "#FECB52",
          "dash": "solid"
         },
         "marker": {
          "symbol": "circle"
         },
         "mode": "markers+lines",
         "name": "SEM",
         "orientation": "v",
         "showlegend": true,
         "type": "scatter",
         "x": [
          2021,
          2022,
          2023
         ],
         "xaxis": "x",
         "y": [
          6656976,
          11699792,
          20351744
         ],
         "yaxis": "y"
        },
        {
         "hovertemplate": "CHANNEL=Social<br>YEAR=%{x}<br>TOTAL_COST=%{y}<extra></extra>",
         "legendgroup": "Social",
         "line": {
          "color": "#636efa",
          "dash": "solid"
         },
         "marker": {
          "symbol": "circle"
         },
         "mode": "markers+lines",
         "name": "Social",
         "orientation": "v",
         "showlegend": true,
         "type": "scatter",
         "x": [
          2021,
          2022,
          2023
         ],
         "xaxis": "x",
         "y": [
          4817792,
          13454448,
          24693840
         ],
         "yaxis": "y"
        },
        {
         "hovertemplate": "CHANNEL=Offline Marketing<br>YEAR=%{x}<br>TOTAL_COST=%{y}<extra></extra>",
         "legendgroup": "Offline Marketing",
         "line": {
          "color": "#EF553B",
          "dash": "solid"
         },
         "marker": {
          "symbol": "circle"
         },
         "mode": "markers+lines",
         "name": "Offline Marketing",
         "orientation": "v",
         "showlegend": true,
         "type": "scatter",
         "x": [
          2022,
          2023
         ],
         "xaxis": "x",
         "y": [
          106176,
          0
         ],
         "yaxis": "y"
        },
        {
         "hovertemplate": "CHANNEL=Spend Form<br>YEAR=%{x}<br>TOTAL_COST=%{y}<extra></extra>",
         "legendgroup": "Spend Form",
         "line": {
          "color": "#00cc96",
          "dash": "solid"
         },
         "marker": {
          "symbol": "circle"
         },
         "mode": "markers+lines",
         "name": "Spend Form",
         "orientation": "v",
         "showlegend": true,
         "type": "scatter",
         "x": [
          2022,
          2023
         ],
         "xaxis": "x",
         "y": [
          590032,
          59088
         ],
         "yaxis": "y"
        },
        {
         "hovertemplate": "CHANNEL=OTT<br>YEAR=%{x}<br>TOTAL_COST=%{y}<extra></extra>",
         "legendgroup": "OTT",
         "line": {
          "color": "#ab63fa",
          "dash": "solid"
         },
         "marker": {
          "symbol": "circle"
         },
         "mode": "markers+lines",
         "name": "OTT",
         "orientation": "v",
         "showlegend": true,
         "type": "scatter",
         "x": [
          2023
         ],
         "xaxis": "x",
         "y": [
          1840112
         ],
         "yaxis": "y"
        }
       ],
       "layout": {
        "legend": {
         "title": {
          "text": "CHANNEL"
         },
         "tracegroupgap": 0
        },
        "margin": {
         "t": 60
        },
        "template": {
         "data": {
          "bar": [
           {
            "error_x": {
             "color": "#2a3f5f"
            },
            "error_y": {
             "color": "#2a3f5f"
            },
            "marker": {
             "line": {
              "color": "#E5ECF6",
              "width": 0.5
             },
             "pattern": {
              "fillmode": "overlay",
              "size": 10,
              "solidity": 0.2
             }
            },
            "type": "bar"
           }
          ],
          "barpolar": [
           {
            "marker": {
             "line": {
              "color": "#E5ECF6",
              "width": 0.5
             },
             "pattern": {
              "fillmode": "overlay",
              "size": 10,
              "solidity": 0.2
             }
            },
            "type": "barpolar"
           }
          ],
          "carpet": [
           {
            "aaxis": {
             "endlinecolor": "#2a3f5f",
             "gridcolor": "white",
             "linecolor": "white",
             "minorgridcolor": "white",
             "startlinecolor": "#2a3f5f"
            },
            "baxis": {
             "endlinecolor": "#2a3f5f",
             "gridcolor": "white",
             "linecolor": "white",
             "minorgridcolor": "white",
             "startlinecolor": "#2a3f5f"
            },
            "type": "carpet"
           }
          ],
          "choropleth": [
           {
            "colorbar": {
             "outlinewidth": 0,
             "ticks": ""
            },
            "type": "choropleth"
           }
          ],
          "contour": [
           {
            "colorbar": {
             "outlinewidth": 0,
             "ticks": ""
            },
            "colorscale": [
             [
              0,
              "#0d0887"
             ],
             [
              0.1111111111111111,
              "#46039f"
             ],
             [
              0.2222222222222222,
              "#7201a8"
             ],
             [
              0.3333333333333333,
              "#9c179e"
             ],
             [
              0.4444444444444444,
              "#bd3786"
             ],
             [
              0.5555555555555556,
              "#d8576b"
             ],
             [
              0.6666666666666666,
              "#ed7953"
             ],
             [
              0.7777777777777778,
              "#fb9f3a"
             ],
             [
              0.8888888888888888,
              "#fdca26"
             ],
             [
              1,
              "#f0f921"
             ]
            ],
            "type": "contour"
           }
          ],
          "contourcarpet": [
           {
            "colorbar": {
             "outlinewidth": 0,
             "ticks": ""
            },
            "type": "contourcarpet"
           }
          ],
          "heatmap": [
           {
            "colorbar": {
             "outlinewidth": 0,
             "ticks": ""
            },
            "colorscale": [
             [
              0,
              "#0d0887"
             ],
             [
              0.1111111111111111,
              "#46039f"
             ],
             [
              0.2222222222222222,
              "#7201a8"
             ],
             [
              0.3333333333333333,
              "#9c179e"
             ],
             [
              0.4444444444444444,
              "#bd3786"
             ],
             [
              0.5555555555555556,
              "#d8576b"
             ],
             [
              0.6666666666666666,
              "#ed7953"
             ],
             [
              0.7777777777777778,
              "#fb9f3a"
             ],
             [
              0.8888888888888888,
              "#fdca26"
             ],
             [
              1,
              "#f0f921"
             ]
            ],
            "type": "heatmap"
           }
          ],
          "heatmapgl": [
           {
            "colorbar": {
             "outlinewidth": 0,
             "ticks": ""
            },
            "colorscale": [
             [
              0,
              "#0d0887"
             ],
             [
              0.1111111111111111,
              "#46039f"
             ],
             [
              0.2222222222222222,
              "#7201a8"
             ],
             [
              0.3333333333333333,
              "#9c179e"
             ],
             [
              0.4444444444444444,
              "#bd3786"
             ],
             [
              0.5555555555555556,
              "#d8576b"
             ],
             [
              0.6666666666666666,
              "#ed7953"
             ],
             [
              0.7777777777777778,
              "#fb9f3a"
             ],
             [
              0.8888888888888888,
              "#fdca26"
             ],
             [
              1,
              "#f0f921"
             ]
            ],
            "type": "heatmapgl"
           }
          ],
          "histogram": [
           {
            "marker": {
             "pattern": {
              "fillmode": "overlay",
              "size": 10,
              "solidity": 0.2
             }
            },
            "type": "histogram"
           }
          ],
          "histogram2d": [
           {
            "colorbar": {
             "outlinewidth": 0,
             "ticks": ""
            },
            "colorscale": [
             [
              0,
              "#0d0887"
             ],
             [
              0.1111111111111111,
              "#46039f"
             ],
             [
              0.2222222222222222,
              "#7201a8"
             ],
             [
              0.3333333333333333,
              "#9c179e"
             ],
             [
              0.4444444444444444,
              "#bd3786"
             ],
             [
              0.5555555555555556,
              "#d8576b"
             ],
             [
              0.6666666666666666,
              "#ed7953"
             ],
             [
              0.7777777777777778,
              "#fb9f3a"
             ],
             [
              0.8888888888888888,
              "#fdca26"
             ],
             [
              1,
              "#f0f921"
             ]
            ],
            "type": "histogram2d"
           }
          ],
          "histogram2dcontour": [
           {
            "colorbar": {
             "outlinewidth": 0,
             "ticks": ""
            },
            "colorscale": [
             [
              0,
              "#0d0887"
             ],
             [
              0.1111111111111111,
              "#46039f"
             ],
             [
              0.2222222222222222,
              "#7201a8"
             ],
             [
              0.3333333333333333,
              "#9c179e"
             ],
             [
              0.4444444444444444,
              "#bd3786"
             ],
             [
              0.5555555555555556,
              "#d8576b"
             ],
             [
              0.6666666666666666,
              "#ed7953"
             ],
             [
              0.7777777777777778,
              "#fb9f3a"
             ],
             [
              0.8888888888888888,
              "#fdca26"
             ],
             [
              1,
              "#f0f921"
             ]
            ],
            "type": "histogram2dcontour"
           }
          ],
          "mesh3d": [
           {
            "colorbar": {
             "outlinewidth": 0,
             "ticks": ""
            },
            "type": "mesh3d"
           }
          ],
          "parcoords": [
           {
            "line": {
             "colorbar": {
              "outlinewidth": 0,
              "ticks": ""
             }
            },
            "type": "parcoords"
           }
          ],
          "pie": [
           {
            "automargin": true,
            "type": "pie"
           }
          ],
          "scatter": [
           {
            "fillpattern": {
             "fillmode": "overlay",
             "size": 10,
             "solidity": 0.2
            },
            "type": "scatter"
           }
          ],
          "scatter3d": [
           {
            "line": {
             "colorbar": {
              "outlinewidth": 0,
              "ticks": ""
             }
            },
            "marker": {
             "colorbar": {
              "outlinewidth": 0,
              "ticks": ""
             }
            },
            "type": "scatter3d"
           }
          ],
          "scattercarpet": [
           {
            "marker": {
             "colorbar": {
              "outlinewidth": 0,
              "ticks": ""
             }
            },
            "type": "scattercarpet"
           }
          ],
          "scattergeo": [
           {
            "marker": {
             "colorbar": {
              "outlinewidth": 0,
              "ticks": ""
             }
            },
            "type": "scattergeo"
           }
          ],
          "scattergl": [
           {
            "marker": {
             "colorbar": {
              "outlinewidth": 0,
              "ticks": ""
             }
            },
            "type": "scattergl"
           }
          ],
          "scattermapbox": [
           {
            "marker": {
             "colorbar": {
              "outlinewidth": 0,
              "ticks": ""
             }
            },
            "type": "scattermapbox"
           }
          ],
          "scatterpolar": [
           {
            "marker": {
             "colorbar": {
              "outlinewidth": 0,
              "ticks": ""
             }
            },
            "type": "scatterpolar"
           }
          ],
          "scatterpolargl": [
           {
            "marker": {
             "colorbar": {
              "outlinewidth": 0,
              "ticks": ""
             }
            },
            "type": "scatterpolargl"
           }
          ],
          "scatterternary": [
           {
            "marker": {
             "colorbar": {
              "outlinewidth": 0,
              "ticks": ""
             }
            },
            "type": "scatterternary"
           }
          ],
          "surface": [
           {
            "colorbar": {
             "outlinewidth": 0,
             "ticks": ""
            },
            "colorscale": [
             [
              0,
              "#0d0887"
             ],
             [
              0.1111111111111111,
              "#46039f"
             ],
             [
              0.2222222222222222,
              "#7201a8"
             ],
             [
              0.3333333333333333,
              "#9c179e"
             ],
             [
              0.4444444444444444,
              "#bd3786"
             ],
             [
              0.5555555555555556,
              "#d8576b"
             ],
             [
              0.6666666666666666,
              "#ed7953"
             ],
             [
              0.7777777777777778,
              "#fb9f3a"
             ],
             [
              0.8888888888888888,
              "#fdca26"
             ],
             [
              1,
              "#f0f921"
             ]
            ],
            "type": "surface"
           }
          ],
          "table": [
           {
            "cells": {
             "fill": {
              "color": "#EBF0F8"
             },
             "line": {
              "color": "white"
             }
            },
            "header": {
             "fill": {
              "color": "#C8D4E3"
             },
             "line": {
              "color": "white"
             }
            },
            "type": "table"
           }
          ]
         },
         "layout": {
          "annotationdefaults": {
           "arrowcolor": "#2a3f5f",
           "arrowhead": 0,
           "arrowwidth": 1
          },
          "autotypenumbers": "strict",
          "coloraxis": {
           "colorbar": {
            "outlinewidth": 0,
            "ticks": ""
           }
          },
          "colorscale": {
           "diverging": [
            [
             0,
             "#8e0152"
            ],
            [
             0.1,
             "#c51b7d"
            ],
            [
             0.2,
             "#de77ae"
            ],
            [
             0.3,
             "#f1b6da"
            ],
            [
             0.4,
             "#fde0ef"
            ],
            [
             0.5,
             "#f7f7f7"
            ],
            [
             0.6,
             "#e6f5d0"
            ],
            [
             0.7,
             "#b8e186"
            ],
            [
             0.8,
             "#7fbc41"
            ],
            [
             0.9,
             "#4d9221"
            ],
            [
             1,
             "#276419"
            ]
           ],
           "sequential": [
            [
             0,
             "#0d0887"
            ],
            [
             0.1111111111111111,
             "#46039f"
            ],
            [
             0.2222222222222222,
             "#7201a8"
            ],
            [
             0.3333333333333333,
             "#9c179e"
            ],
            [
             0.4444444444444444,
             "#bd3786"
            ],
            [
             0.5555555555555556,
             "#d8576b"
            ],
            [
             0.6666666666666666,
             "#ed7953"
            ],
            [
             0.7777777777777778,
             "#fb9f3a"
            ],
            [
             0.8888888888888888,
             "#fdca26"
            ],
            [
             1,
             "#f0f921"
            ]
           ],
           "sequentialminus": [
            [
             0,
             "#0d0887"
            ],
            [
             0.1111111111111111,
             "#46039f"
            ],
            [
             0.2222222222222222,
             "#7201a8"
            ],
            [
             0.3333333333333333,
             "#9c179e"
            ],
            [
             0.4444444444444444,
             "#bd3786"
            ],
            [
             0.5555555555555556,
             "#d8576b"
            ],
            [
             0.6666666666666666,
             "#ed7953"
            ],
            [
             0.7777777777777778,
             "#fb9f3a"
            ],
            [
             0.8888888888888888,
             "#fdca26"
            ],
            [
             1,
             "#f0f921"
            ]
           ]
          },
          "colorway": [
           "#636efa",
           "#EF553B",
           "#00cc96",
           "#ab63fa",
           "#FFA15A",
           "#19d3f3",
           "#FF6692",
           "#B6E880",
           "#FF97FF",
           "#FECB52"
          ],
          "font": {
           "color": "#2a3f5f"
          },
          "geo": {
           "bgcolor": "white",
           "lakecolor": "white",
           "landcolor": "#E5ECF6",
           "showlakes": true,
           "showland": true,
           "subunitcolor": "white"
          },
          "hoverlabel": {
           "align": "left"
          },
          "hovermode": "closest",
          "mapbox": {
           "style": "light"
          },
          "paper_bgcolor": "white",
          "plot_bgcolor": "#E5ECF6",
          "polar": {
           "angularaxis": {
            "gridcolor": "white",
            "linecolor": "white",
            "ticks": ""
           },
           "bgcolor": "#E5ECF6",
           "radialaxis": {
            "gridcolor": "white",
            "linecolor": "white",
            "ticks": ""
           }
          },
          "scene": {
           "xaxis": {
            "backgroundcolor": "#E5ECF6",
            "gridcolor": "white",
            "gridwidth": 2,
            "linecolor": "white",
            "showbackground": true,
            "ticks": "",
            "zerolinecolor": "white"
           },
           "yaxis": {
            "backgroundcolor": "#E5ECF6",
            "gridcolor": "white",
            "gridwidth": 2,
            "linecolor": "white",
            "showbackground": true,
            "ticks": "",
            "zerolinecolor": "white"
           },
           "zaxis": {
            "backgroundcolor": "#E5ECF6",
            "gridcolor": "white",
            "gridwidth": 2,
            "linecolor": "white",
            "showbackground": true,
            "ticks": "",
            "zerolinecolor": "white"
           }
          },
          "shapedefaults": {
           "line": {
            "color": "#2a3f5f"
           }
          },
          "ternary": {
           "aaxis": {
            "gridcolor": "white",
            "linecolor": "white",
            "ticks": ""
           },
           "baxis": {
            "gridcolor": "white",
            "linecolor": "white",
            "ticks": ""
           },
           "bgcolor": "#E5ECF6",
           "caxis": {
            "gridcolor": "white",
            "linecolor": "white",
            "ticks": ""
           }
          },
          "title": {
           "x": 0.05
          },
          "xaxis": {
           "automargin": true,
           "gridcolor": "white",
           "linecolor": "white",
           "ticks": "",
           "title": {
            "standoff": 15
           },
           "zerolinecolor": "white",
           "zerolinewidth": 2
          },
          "yaxis": {
           "automargin": true,
           "gridcolor": "white",
           "linecolor": "white",
           "ticks": "",
           "title": {
            "standoff": 15
           },
           "zerolinecolor": "white",
           "zerolinewidth": 2
          }
         }
        },
        "xaxis": {
         "anchor": "y",
         "domain": [
          0,
          1
         ],
         "dtick": 1,
         "title": {
          "text": "YEAR"
         }
        },
        "yaxis": {
         "anchor": "x",
         "domain": [
          0,
          1
         ],
         "title": {
          "text": "TOTAL_COST"
         }
        }
       }
      }
     },
     "metadata": {},
     "output_type": "display_data"
    }
   ],
   "source": [
    "df=snow_df_annual_spend_per_channel.to_pandas()\n",
    "\n",
    "fig=px.line(\n",
    "    df,\n",
    "    x=\"YEAR\",\n",
    "    y=\"TOTAL_COST\",\n",
    "    color=\"CHANNEL\",\n",
    "    markers=True\n",
    ")\n",
    "\n",
    "# Update the x-axis to show only integer year labels\n",
    "fig.update_xaxes(dtick=1)\n",
    "\n",
    "fig.show()"
   ]
  },
  {
   "attachments": {},
   "cell_type": "markdown",
   "id": "7d5aaa78",
   "metadata": {},
   "source": [
    "**YOUR TURN**: Create a DataFrame which shows the total cost per month per channel. Be sure to include the *SEASON* column in the *group by* expression\n",
    "  \n",
    "*Expected output*:\n",
    "```\n",
    "------------------------------------------------------------------\n",
    "|\"YEAR\"  |\"MONTH\"  |\"SEASON\"  |\"CHANNEL\"          |\"TOTAL_COST\"  |\n",
    "------------------------------------------------------------------\n",
    "|2021    |1        |winter    |Display            |337088.0      |\n",
    "|2021    |1        |winter    |Radio              |0.0           |\n",
    "|2021    |1        |winter    |Digital Not Set    |0.0           |\n",
    "|2021    |1        |winter    |(not set)          |0.0           |\n",
    "|2021    |1        |winter    |Manually Entered   |0.0           |\n",
    "|2021    |1        |winter    |Direct/Organic     |0.0           |\n",
    "|2021    |1        |winter    |Email              |0.0           |\n",
    "|2021    |1        |winter    |3rd Party Listing  |503136.0      |\n",
    "|2021    |1        |winter    |Alloy              |0.0           |\n",
    "|2021    |1        |winter    |SEM                |566336.0      |\n",
    "------------------------------------------------------------------\n",
    "```"
   ]
  },
  {
   "cell_type": "code",
   "execution_count": 15,
   "id": "796b7a13",
   "metadata": {},
   "outputs": [
    {
     "name": "stdout",
     "output_type": "stream",
     "text": [
      "------------------------------------------------------------------\n",
      "|\"YEAR\"  |\"MONTH\"  |\"SEASON\"  |\"CHANNEL\"          |\"TOTAL_COST\"  |\n",
      "------------------------------------------------------------------\n",
      "|2021    |1        |winter    |Display            |337088.0      |\n",
      "|2021    |1        |winter    |Radio              |0.0           |\n",
      "|2021    |1        |winter    |Digital Not Set    |0.0           |\n",
      "|2021    |1        |winter    |(not set)          |0.0           |\n",
      "|2021    |1        |winter    |Manually Entered   |0.0           |\n",
      "|2021    |1        |winter    |Direct/Organic     |0.0           |\n",
      "|2021    |1        |winter    |Email              |0.0           |\n",
      "|2021    |1        |winter    |3rd Party Listing  |503136.0      |\n",
      "|2021    |1        |winter    |Alloy              |0.0           |\n",
      "|2021    |1        |winter    |SEM                |566336.0      |\n",
      "------------------------------------------------------------------\n",
      "\n"
     ]
    }
   ],
   "source": [
    "snow_df_monthly_spend_per_channel=(\n",
    "    snow_df_spend\n",
    "        .group_by(\n",
    "            \"YEAR\",\n",
    "            \"MONTH\",\n",
    "            \"SEASON\",\n",
    "            \"CHANNEL\"\n",
    "        )\n",
    "        .agg(\n",
    "            F.sum(\"DAILYCOST\").as_(\"TOTAL_COST\"),\n",
    "        )\n",
    "        .sort(\"YEAR\",\"MONTH\")\n",
    ")\n",
    "\n",
    "snow_df_monthly_spend_per_channel.show()"
   ]
  },
  {
   "attachments": {},
   "cell_type": "markdown",
   "id": "5eab5143",
   "metadata": {},
   "source": [
    "### Filtering Snowpark DataFrames\n",
    "By using the ```.filter()``` method, we can filter Snowpark DataFrames just like in Pandas.\n",
    "\n",
    "Here we are filtering our data to only include the *SEM* channel"
   ]
  },
  {
   "cell_type": "code",
   "execution_count": 16,
   "id": "a4ff9985",
   "metadata": {},
   "outputs": [
    {
     "name": "stdout",
     "output_type": "stream",
     "text": [
      "----------------------------------------------------------\n",
      "|\"YEAR\"  |\"MONTH\"  |\"SEASON\"  |\"CHANNEL\"  |\"TOTAL_COST\"  |\n",
      "----------------------------------------------------------\n",
      "|2021    |1        |winter    |SEM        |566336.0      |\n",
      "|2021    |2        |winter    |SEM        |469664.0      |\n",
      "|2021    |3        |spring    |SEM        |555520.0      |\n",
      "|2021    |4        |spring    |SEM        |575360.0      |\n",
      "|2021    |5        |spring    |SEM        |598400.0      |\n",
      "|2021    |6        |summer    |SEM        |607840.0      |\n",
      "|2021    |7        |summer    |SEM        |637568.0      |\n",
      "|2021    |8        |summer    |SEM        |594528.0      |\n",
      "|2021    |9        |fall      |SEM        |530208.0      |\n",
      "|2021    |10       |fall      |SEM        |519552.0      |\n",
      "----------------------------------------------------------\n",
      "\n"
     ]
    }
   ],
   "source": [
    "snow_df_monthly_spend_per_channel_SEM = snow_df_monthly_spend_per_channel.filter(F.col(\"CHANNEL\") == \"SEM\")\n",
    "snow_df_monthly_spend_per_channel_SEM.show()"
   ]
  },
  {
   "attachments": {},
   "cell_type": "markdown",
   "id": "2de2bbdf",
   "metadata": {},
   "source": [
    "**YOUR TURN**: Show months where *TOTAL_COST* value was less than $510,000\n",
    "\n",
    "*Expected output:*\n",
    "```\n",
    "------------------------------------------------------------------\n",
    "|\"YEAR\"  |\"MONTH\"  |\"SEASON\"  |\"CHANNEL\"          |\"TOTAL_COST\"  |\n",
    "------------------------------------------------------------------\n",
    "|2021    |1        |winter    |3rd Party Listing  |503136.0      |\n",
    "|2021    |1        |winter    |Display            |337088.0      |\n",
    "|2021    |1        |winter    |Radio              |0.0           |\n",
    "|2021    |1        |winter    |Direct/Organic     |0.0           |\n",
    "|2021    |1        |winter    |Email              |0.0           |\n",
    "|2021    |1        |winter    |Alloy              |0.0           |\n",
    "|2021    |1        |winter    |Manually Entered   |0.0           |\n",
    "|2021    |1        |winter    |(not set)          |0.0           |\n",
    "|2021    |1        |winter    |Digital Not Set    |0.0           |\n",
    "|2021    |1        |winter    |Social             |354400.0      |\n",
    "------------------------------------------------------------------\n",
    "```"
   ]
  },
  {
   "cell_type": "code",
   "execution_count": 17,
   "id": "909d4a10",
   "metadata": {},
   "outputs": [
    {
     "name": "stdout",
     "output_type": "stream",
     "text": [
      "------------------------------------------------------------------\n",
      "|\"YEAR\"  |\"MONTH\"  |\"SEASON\"  |\"CHANNEL\"          |\"TOTAL_COST\"  |\n",
      "------------------------------------------------------------------\n",
      "|2021    |1        |winter    |3rd Party Listing  |503136.0      |\n",
      "|2021    |1        |winter    |Display            |337088.0      |\n",
      "|2021    |1        |winter    |Radio              |0.0           |\n",
      "|2021    |1        |winter    |Direct/Organic     |0.0           |\n",
      "|2021    |1        |winter    |Email              |0.0           |\n",
      "|2021    |1        |winter    |Alloy              |0.0           |\n",
      "|2021    |1        |winter    |Manually Entered   |0.0           |\n",
      "|2021    |1        |winter    |(not set)          |0.0           |\n",
      "|2021    |1        |winter    |Digital Not Set    |0.0           |\n",
      "|2021    |1        |winter    |Social             |354400.0      |\n",
      "------------------------------------------------------------------\n",
      "\n"
     ]
    }
   ],
   "source": [
    "# Filter our dataframe on total cost less than $510,000\n",
    "dff=snow_df_monthly_spend_per_channel.filter(F.col(\"TOTAL_COST\") < 510000)\n",
    "dff.show()"
   ]
  },
  {
   "attachments": {},
   "cell_type": "markdown",
   "id": "9a02bcda",
   "metadata": {},
   "source": [
    "**YOUR TURN**: Show months where *TOTAL_COST* was less than $510,000 only for the *Display* channel\n",
    "\n",
    "*Hint: multiple logical expressions can be chained together using the ```&``` and ```|``` operators*\n",
    "\n",
    "*Expected output:*\n",
    "```\n",
    " ----------------------------------------------------------\n",
    "|\"YEAR\"  |\"MONTH\"  |\"SEASON\"  |\"CHANNEL\"  |\"TOTAL_COST\"  |\n",
    "----------------------------------------------------------\n",
    "|2021    |1        |winter    |Display    |337088.0      |\n",
    "|2021    |2        |winter    |Display    |248592.0      |\n",
    "|2021    |3        |spring    |Display    |196736.0      |\n",
    "|2021    |4        |spring    |Display    |184768.0      |\n",
    "|2021    |5        |spring    |Display    |182848.0      |\n",
    "|2021    |6        |summer    |Display    |163616.0      |\n",
    "|2021    |7        |summer    |Display    |146064.0      |\n",
    "|2021    |8        |summer    |Display    |147088.0      |\n",
    "|2021    |9        |fall      |Display    |133792.0      |\n",
    "|2021    |10       |fall      |Display    |108608.0      |\n",
    "----------------------------------------------------------\n",
    "```"
   ]
  },
  {
   "cell_type": "code",
   "execution_count": 18,
   "id": "c0b6aec5",
   "metadata": {},
   "outputs": [
    {
     "name": "stdout",
     "output_type": "stream",
     "text": [
      "----------------------------------------------------------\n",
      "|\"YEAR\"  |\"MONTH\"  |\"SEASON\"  |\"CHANNEL\"  |\"TOTAL_COST\"  |\n",
      "----------------------------------------------------------\n",
      "|2021    |1        |winter    |Display    |337088.0      |\n",
      "|2021    |2        |winter    |Display    |248592.0      |\n",
      "|2021    |3        |spring    |Display    |196736.0      |\n",
      "|2021    |4        |spring    |Display    |184768.0      |\n",
      "|2021    |5        |spring    |Display    |182848.0      |\n",
      "|2021    |6        |summer    |Display    |163616.0      |\n",
      "|2021    |7        |summer    |Display    |146064.0      |\n",
      "|2021    |8        |summer    |Display    |147088.0      |\n",
      "|2021    |9        |fall      |Display    |133792.0      |\n",
      "|2021    |10       |fall      |Display    |108608.0      |\n",
      "----------------------------------------------------------\n",
      "\n"
     ]
    }
   ],
   "source": [
    "# Place an additional filter on the channel column to look at Display Media only\n",
    "dff=snow_df_monthly_spend_per_channel.filter(\n",
    "    (F.col(\"TOTAL_COST\") < 510000) & \n",
    "    (F.col(\"CHANNEL\") == \"Display\")\n",
    ")\n",
    "\n",
    "dff.show()"
   ]
  },
  {
   "attachments": {},
   "cell_type": "markdown",
   "id": "ae588c6b",
   "metadata": {},
   "source": [
    "**YOUR TURN**: Create a Snowpark Dataframe which shows the total cost per year but only for radio and offline marketing channels\n",
    "\n",
    "_Expected output:_\n",
    "```\n",
    "-------------------------\n",
    "|\"YEAR\"  |\"TOTAL_COST\"  |\n",
    "-------------------------\n",
    "|2023    |38752.0       |\n",
    "|2021    |0.0           |\n",
    "|2022    |106176.0      |\n",
    "-------------------------\n",
    "```"
   ]
  },
  {
   "cell_type": "code",
   "execution_count": 19,
   "id": "522bb19a",
   "metadata": {},
   "outputs": [
    {
     "name": "stdout",
     "output_type": "stream",
     "text": [
      "-------------------------\n",
      "|\"YEAR\"  |\"TOTAL_COST\"  |\n",
      "-------------------------\n",
      "|2023    |38752.0       |\n",
      "|2021    |0.0           |\n",
      "|2022    |106176.0      |\n",
      "-------------------------\n",
      "\n"
     ]
    }
   ],
   "source": [
    "dff=(\n",
    "    snow_df_monthly_spend_per_channel\n",
    "        .filter(F.col(\"CHANNEL\").isin([\"Radio\",\"Offline Marketing\"]))\n",
    "        .group_by(\"YEAR\")\n",
    "        .agg(F.sum(\"TOTAL_COST\").as_(\"TOTAL_COST\"))\n",
    ")\n",
    "\n",
    "dff.show()"
   ]
  },
  {
   "attachments": {},
   "cell_type": "markdown",
   "id": "7f67d9af",
   "metadata": {},
   "source": [
    "### Pivot on Channel\n",
    "\n",
    " Let's further transform the campaign spend data using the ```.pivot()``` and ```.sum()``` Snowpark functions. This transformation results in a DataFrame where **the sum of each row represents the total cost across all channels** per month.\n",
    "\n",
    " Pivoting our DataFrame this way enables us to join with the revenue table (which we will load in the next section) such that we will have our input features and target variable in a single table for model training.\n",
    "\n",
    " TIP: For a full list of functions, refer to the [docs](https://docs.snowflake.com/en/developer-guide/snowpark/reference/python/_autosummary/snowflake.snowpark.functions.html#module-snowflake.snowpark.functions)."
   ]
  },
  {
   "cell_type": "code",
   "execution_count": 20,
   "id": "2f8a63e7",
   "metadata": {},
   "outputs": [
    {
     "name": "stdout",
     "output_type": "stream",
     "text": [
      "----------------------------------------------------------------------------------------------------------------------------------------------------------------------------------------------------------------------------------------------------------------------\n",
      "|\"YEAR\"  |\"MONTH\"  |\"SEASON\"  |\"'Offline Marketing'\"  |\"'Direct/Organic'\"  |\"'Manually Entered'\"  |\"'3rd Party Listing'\"  |\"'Email'\"  |\"'(not set)'\"  |\"'Social'\"  |\"'OTT'\"  |\"'Digital Not Set'\"  |\"'Alloy'\"  |\"'Radio'\"  |\"'Spend Form'\"  |\"'Display'\"  |\"'SEM'\"   |\n",
      "----------------------------------------------------------------------------------------------------------------------------------------------------------------------------------------------------------------------------------------------------------------------\n",
      "|2021    |1        |winter    |NULL                   |0.0                 |0.0                   |503136.0               |0.0        |0.0            |354400.0    |NULL     |0.0                  |0.0        |0.0        |NULL            |337088.0     |566336.0  |\n",
      "|2021    |2        |winter    |NULL                   |0.0                 |0.0                   |444608.0               |0.0        |0.0            |286384.0    |NULL     |0.0                  |0.0        |0.0        |NULL            |248592.0     |469664.0  |\n",
      "|2021    |3        |spring    |NULL                   |0.0                 |0.0                   |445232.0               |0.0        |0.0            |298320.0    |NULL     |0.0                  |0.0        |0.0        |NULL            |196736.0     |555520.0  |\n",
      "|2021    |4        |spring    |NULL                   |0.0                 |0.0                   |443792.0               |0.0        |0.0            |265616.0    |NULL     |0.0                  |0.0        |0.0        |NULL            |184768.0     |575360.0  |\n",
      "|2021    |5        |spring    |NULL                   |0.0                 |0.0                   |441072.0               |0.0        |0.0            |265472.0    |NULL     |0.0                  |0.0        |NULL       |NULL            |182848.0     |598400.0  |\n",
      "|2021    |6        |summer    |NULL                   |0.0                 |0.0                   |444528.0               |0.0        |0.0            |285728.0    |NULL     |0.0                  |0.0        |NULL       |NULL            |163616.0     |607840.0  |\n",
      "|2021    |7        |summer    |NULL                   |0.0                 |0.0                   |431568.0               |0.0        |NULL           |324704.0    |NULL     |0.0                  |0.0        |0.0        |NULL            |146064.0     |637568.0  |\n",
      "|2021    |8        |summer    |NULL                   |0.0                 |0.0                   |442960.0               |0.0        |NULL           |433088.0    |NULL     |0.0                  |0.0        |0.0        |NULL            |147088.0     |594528.0  |\n",
      "|2021    |9        |fall      |NULL                   |0.0                 |0.0                   |441856.0               |0.0        |NULL           |533152.0    |NULL     |0.0                  |0.0        |NULL       |NULL            |133792.0     |530208.0  |\n",
      "|2021    |10       |fall      |NULL                   |0.0                 |0.0                   |446080.0               |0.0        |NULL           |600688.0    |NULL     |0.0                  |0.0        |0.0        |NULL            |108608.0     |519552.0  |\n",
      "----------------------------------------------------------------------------------------------------------------------------------------------------------------------------------------------------------------------------------------------------------------------\n",
      "\n"
     ]
    }
   ],
   "source": [
    "snow_df_spend_per_month_pivot=(\n",
    "    snow_df_monthly_spend_per_channel\n",
    "        .pivot(\n",
    "            pivot_col=\"CHANNEL\",\n",
    "            values=[\"Offline Marketing\", \"Direct/Organic\", \"Manually Entered\", \"3rd Party Listing\", \"Email\", \"(not set)\", \"Social\", \"OTT\", \"Digital Not Set\", \"Alloy\", \"Radio\", \"Spend Form\", \"Display\", \"SEM\"]\n",
    "        )\n",
    "        .sum(\"TOTAL_COST\")\n",
    "        .sort(\"YEAR\",\"MONTH\")\n",
    "    )\n",
    "\n",
    "snow_df_spend_per_month_pivot.show()"
   ]
  },
  {
   "attachments": {},
   "cell_type": "markdown",
   "id": "059c8b47",
   "metadata": {},
   "source": [
    "Notice that the names of our pivoted columns are lower cased and enclosed in single quotes - this will cause some problems later on when we use this data to train our regression model.\n",
    "\n",
    "We will rename the columns below to make them more \"model-friendly\""
   ]
  },
  {
   "cell_type": "code",
   "execution_count": 21,
   "id": "72741cce",
   "metadata": {},
   "outputs": [
    {
     "name": "stdout",
     "output_type": "stream",
     "text": [
      "--------------------------------------------------------------------------------------------------------------------------------------------------------------------------------------------------------------------------------------------\n",
      "|\"YEAR\"  |\"MONTH\"  |\"SEASON\"  |\"OFFLINE MARKETING\"  |\"DIRECT/ORGANIC\"  |\"MANUALLY ENTERED\"  |\"3RD PARTY LISTING\"  |\"EMAIL\"  |\"(NOT SET)\"  |\"SOCIAL\"  |\"OTT\"  |\"DIGITAL NOT SET\"  |\"ALLOY\"  |\"RADIO\"  |\"SPEND FORM\"  |\"DISPLAY\"  |\"SEM\"     |\n",
      "--------------------------------------------------------------------------------------------------------------------------------------------------------------------------------------------------------------------------------------------\n",
      "|2021    |1        |winter    |NULL                 |0.0               |0.0                 |503136.0             |0.0      |0.0          |354400.0  |NULL   |0.0                |0.0      |0.0      |NULL          |337088.0   |566336.0  |\n",
      "|2021    |2        |winter    |NULL                 |0.0               |0.0                 |444608.0             |0.0      |0.0          |286384.0  |NULL   |0.0                |0.0      |0.0      |NULL          |248592.0   |469664.0  |\n",
      "|2021    |3        |spring    |NULL                 |0.0               |0.0                 |445232.0             |0.0      |0.0          |298320.0  |NULL   |0.0                |0.0      |0.0      |NULL          |196736.0   |555520.0  |\n",
      "|2021    |4        |spring    |NULL                 |0.0               |0.0                 |443792.0             |0.0      |0.0          |265616.0  |NULL   |0.0                |0.0      |0.0      |NULL          |184768.0   |575360.0  |\n",
      "|2021    |5        |spring    |NULL                 |0.0               |0.0                 |441072.0             |0.0      |0.0          |265472.0  |NULL   |0.0                |0.0      |NULL     |NULL          |182848.0   |598400.0  |\n",
      "|2021    |6        |summer    |NULL                 |0.0               |0.0                 |444528.0             |0.0      |0.0          |285728.0  |NULL   |0.0                |0.0      |NULL     |NULL          |163616.0   |607840.0  |\n",
      "|2021    |7        |summer    |NULL                 |0.0               |0.0                 |431568.0             |0.0      |NULL         |324704.0  |NULL   |0.0                |0.0      |0.0      |NULL          |146064.0   |637568.0  |\n",
      "|2021    |8        |summer    |NULL                 |0.0               |0.0                 |442960.0             |0.0      |NULL         |433088.0  |NULL   |0.0                |0.0      |0.0      |NULL          |147088.0   |594528.0  |\n",
      "|2021    |9        |fall      |NULL                 |0.0               |0.0                 |441856.0             |0.0      |NULL         |533152.0  |NULL   |0.0                |0.0      |NULL     |NULL          |133792.0   |530208.0  |\n",
      "|2021    |10       |fall      |NULL                 |0.0               |0.0                 |446080.0             |0.0      |NULL         |600688.0  |NULL   |0.0                |0.0      |0.0      |NULL          |108608.0   |519552.0  |\n",
      "--------------------------------------------------------------------------------------------------------------------------------------------------------------------------------------------------------------------------------------------\n",
      "\n"
     ]
    }
   ],
   "source": [
    "snow_df_spend_per_month_pivot = (\n",
    "    snow_df_spend_per_month_pivot\n",
    "        .with_column_renamed(\"'Offline Marketing'\", \"OFFLINE MARKETING\")\n",
    "        .with_column_renamed(\"'Direct/Organic'\", \"DIRECT/ORGANIC\")\n",
    "        .with_column_renamed(\"'Manually Entered'\", \"MANUALLY ENTERED\")\n",
    "        .with_column_renamed(\"'3rd Party Listing'\", \"3RD PARTY LISTING\")\n",
    "        .with_column_renamed(\"'Email'\", \"EMAIL\")\n",
    "        .with_column_renamed(\"'(not set)'\", \"(NOT SET)\")\n",
    "        .with_column_renamed(\"'Social'\", \"SOCIAL\")\n",
    "        .with_column_renamed(\"'OTT'\", \"OTT\")\n",
    "        .with_column_renamed(\"'Digital Not Set'\", \"DIGITAL NOT SET\")\n",
    "        .with_column_renamed(\"'Alloy'\", \"ALLOY\")\n",
    "        .with_column_renamed(\"'Radio'\", \"RADIO\")\n",
    "        .with_column_renamed(\"'Spend Form'\", \"SPEND FORM\")\n",
    "        .with_column_renamed(\"'Display'\", \"DISPLAY\")\n",
    "        .with_column_renamed(\"'SEM'\", \"SEM\")\n",
    ")\n",
    "\n",
    "\n",
    "snow_df_spend_per_month_pivot.show()"
   ]
  },
  {
   "attachments": {},
   "cell_type": "markdown",
   "id": "47937d8b",
   "metadata": {},
   "source": [
    "### Total Leads per Month"
   ]
  },
  {
   "attachments": {},
   "cell_type": "markdown",
   "id": "55cd4f53",
   "metadata": {},
   "source": [
    "Now let's load the Leads table\n",
    "\n",
    "**YOUR TURN**: complete the code block below to load a table from Snowflake called ```monthly_revenue```. Save this table as a Snowpark DataFrame named ```snow_df_monthly_revenue```\n",
    "\n",
    "\n",
    "*Expected output*:\n",
    "```\n",
    "------------------------------\n",
    "|\"YEAR\"  |\"MONTH\"  |\"LEADS\"  |\n",
    "------------------------------\n",
    "|2021    |1        |94158    |\n",
    "|2021    |2        |83372    |\n",
    "|2021    |3        |91857    |\n",
    "|2021    |4        |82126    |\n",
    "|2021    |5        |76766    |\n",
    "|2021    |6        |68930    |\n",
    "|2021    |7        |66214    |\n",
    "|2021    |8        |59200    |\n",
    "|2021    |9        |74441    |\n",
    "|2021    |10       |84843    |\n",
    "------------------------------\n",
    "\n",
    "```"
   ]
  },
  {
   "cell_type": "code",
   "execution_count": 22,
   "id": "013b2276",
   "metadata": {},
   "outputs": [
    {
     "name": "stdout",
     "output_type": "stream",
     "text": [
      "------------------------------\n",
      "|\"YEAR\"  |\"MONTH\"  |\"LEADS\"  |\n",
      "------------------------------\n",
      "|2021    |1        |94158    |\n",
      "|2021    |2        |83372    |\n",
      "|2021    |3        |91857    |\n",
      "|2021    |4        |82126    |\n",
      "|2021    |5        |76766    |\n",
      "|2021    |6        |68930    |\n",
      "|2021    |7        |66214    |\n",
      "|2021    |8        |59200    |\n",
      "|2021    |9        |74441    |\n",
      "|2021    |10       |84843    |\n",
      "------------------------------\n",
      "\n"
     ]
    }
   ],
   "source": [
    "snow_df_monthly_revenue=session.table('LEADS_SUMMARY').sort(\"YEAR\",\"MONTH\")\n",
    "snow_df_monthly_revenue.show()\n"
   ]
  },
  {
   "cell_type": "markdown",
   "id": "ccadfae4",
   "metadata": {},
   "source": [
    "### Join Total Spend and Total Revenue per Month"
   ]
  },
  {
   "attachments": {},
   "cell_type": "markdown",
   "id": "1035d996",
   "metadata": {},
   "source": [
    "Joining Snowpark DataFrames works in the same way as Pandas or SQL tables.\n",
    "\n",
    "Next let's **join this revenue data with the transformed campaign spend data** so that our input features (i.e. cost per channel) and target variable (i.e. revenue) can be loaded into a single table for model training. "
   ]
  },
  {
   "cell_type": "code",
   "execution_count": 23,
   "id": "1d49b236",
   "metadata": {},
   "outputs": [
    {
     "name": "stdout",
     "output_type": "stream",
     "text": [
      "--------------------------------------------------------------------------------------------------------------------------------------------------------------------------------------------------------------------------------------------------------\n",
      "|\"YEAR\"  |\"MONTH\"  |\"SEASON\"  |\"OFFLINE MARKETING\"  |\"DIRECT/ORGANIC\"  |\"MANUALLY ENTERED\"  |\"3RD PARTY LISTING\"  |\"EMAIL\"  |\"(NOT SET)\"  |\"SOCIAL\"   |\"OTT\"  |\"DIGITAL NOT SET\"  |\"ALLOY\"  |\"RADIO\"  |\"SPEND FORM\"  |\"DISPLAY\"  |\"SEM\"      |\"LEADS\"  |\n",
      "--------------------------------------------------------------------------------------------------------------------------------------------------------------------------------------------------------------------------------------------------------\n",
      "|2021    |1        |winter    |NULL                 |0.0               |0.0                 |503136.0             |0.0      |0.0          |354400.0   |NULL   |0.0                |0.0      |0.0      |NULL          |337088.0   |566336.0   |94158    |\n",
      "|2021    |2        |winter    |NULL                 |0.0               |0.0                 |444608.0             |0.0      |0.0          |286384.0   |NULL   |0.0                |0.0      |0.0      |NULL          |248592.0   |469664.0   |83372    |\n",
      "|2021    |3        |spring    |NULL                 |0.0               |0.0                 |445232.0             |0.0      |0.0          |298320.0   |NULL   |0.0                |0.0      |0.0      |NULL          |196736.0   |555520.0   |91857    |\n",
      "|2021    |4        |spring    |NULL                 |0.0               |0.0                 |443792.0             |0.0      |0.0          |265616.0   |NULL   |0.0                |0.0      |0.0      |NULL          |184768.0   |575360.0   |82126    |\n",
      "|2021    |5        |spring    |NULL                 |0.0               |0.0                 |441072.0             |0.0      |0.0          |265472.0   |NULL   |0.0                |0.0      |NULL     |NULL          |182848.0   |598400.0   |76766    |\n",
      "|2021    |6        |summer    |NULL                 |0.0               |0.0                 |444528.0             |0.0      |0.0          |285728.0   |NULL   |0.0                |0.0      |NULL     |NULL          |163616.0   |607840.0   |68930    |\n",
      "|2021    |7        |summer    |NULL                 |0.0               |0.0                 |431568.0             |0.0      |NULL         |324704.0   |NULL   |0.0                |0.0      |0.0      |NULL          |146064.0   |637568.0   |66214    |\n",
      "|2021    |8        |summer    |NULL                 |0.0               |0.0                 |442960.0             |0.0      |NULL         |433088.0   |NULL   |0.0                |0.0      |0.0      |NULL          |147088.0   |594528.0   |59200    |\n",
      "|2021    |9        |fall      |NULL                 |0.0               |0.0                 |441856.0             |0.0      |NULL         |533152.0   |NULL   |0.0                |0.0      |NULL     |NULL          |133792.0   |530208.0   |74441    |\n",
      "|2021    |10       |fall      |NULL                 |0.0               |0.0                 |446080.0             |0.0      |NULL         |600688.0   |NULL   |0.0                |0.0      |0.0      |NULL          |108608.0   |519552.0   |84843    |\n",
      "|2021    |11       |fall      |NULL                 |0.0               |0.0                 |457840.0             |0.0      |NULL         |599408.0   |NULL   |0.0                |0.0      |NULL     |NULL          |103888.0   |502336.0   |84687    |\n",
      "|2021    |12       |winter    |NULL                 |0.0               |0.0                 |460576.0             |0.0      |NULL         |570832.0   |NULL   |1904.0             |0.0      |0.0      |NULL          |107200.0   |499664.0   |87694    |\n",
      "|2022    |1        |winter    |NULL                 |0.0               |0.0                 |487088.0             |0.0      |NULL         |561552.0   |NULL   |1904.0             |0.0      |0.0      |NULL          |137008.0   |571024.0   |129875   |\n",
      "|2022    |2        |winter    |NULL                 |0.0               |0.0                 |477200.0             |0.0      |NULL         |556992.0   |NULL   |2112.0             |0.0      |0.0      |63328.0       |172336.0   |520944.0   |111527   |\n",
      "|2022    |3        |spring    |NULL                 |0.0               |0.0                 |459664.0             |0.0      |NULL         |605504.0   |NULL   |16464.0            |0.0      |NULL     |76112.0       |221328.0   |528064.0   |111374   |\n",
      "|2022    |4        |spring    |NULL                 |0.0               |0.0                 |480576.0             |2000.0   |NULL         |587680.0   |NULL   |16160.0            |0.0      |NULL     |163136.0      |305040.0   |519232.0   |96014    |\n",
      "|2022    |5        |spring    |NULL                 |0.0               |0.0                 |483088.0             |0.0      |NULL         |662400.0   |NULL   |11776.0            |0.0      |NULL     |101472.0      |404112.0   |686688.0   |86998    |\n",
      "|2022    |6        |summer    |0.0                  |0.0               |0.0                 |539360.0             |0.0      |NULL         |799936.0   |NULL   |12032.0            |0.0      |NULL     |60912.0       |527792.0   |841056.0   |79810    |\n",
      "|2022    |7        |summer    |NULL                 |0.0               |0.0                 |552320.0             |4096.0   |NULL         |1180080.0  |NULL   |2640.0             |0.0      |NULL     |33408.0       |722480.0   |1198272.0  |93513    |\n",
      "|2022    |8        |summer    |5968.0               |0.0               |0.0                 |562352.0             |0.0      |NULL         |1104176.0  |NULL   |1472.0             |0.0      |NULL     |23408.0       |735968.0   |1345328.0  |100120   |\n",
      "--------------------------------------------------------------------------------------------------------------------------------------------------------------------------------------------------------------------------------------------------------\n",
      "\n"
     ]
    },
    {
     "data": {
      "text/plain": [
       "[QueryRecord(query_id='01afdcff-0001-6e45-0003-b7d2000ca552', sql_text='SELECT  *  FROM ( SELECT  *  FROM (( SELECT \"YEAR\" AS \"YEAR\", \"MONTH\" AS \"MONTH\", \"SEASON\" AS \"SEASON\", \"OFFLINE MARKETING\" AS \"OFFLINE MARKETING\", \"DIRECT/ORGANIC\" AS \"DIRECT/ORGANIC\", \"MANUALLY ENTERED\" AS \"MANUALLY ENTERED\", \"3RD PARTY LISTING\" AS \"3RD PARTY LISTING\", \"EMAIL\" AS \"EMAIL\", \"(NOT SET)\" AS \"(NOT SET)\", \"SOCIAL\" AS \"SOCIAL\", \"OTT\" AS \"OTT\", \"DIGITAL NOT SET\" AS \"DIGITAL NOT SET\", \"ALLOY\" AS \"ALLOY\", \"RADIO\" AS \"RADIO\", \"SPEND FORM\" AS \"SPEND FORM\", \"DISPLAY\" AS \"DISPLAY\", \"SEM\" AS \"SEM\" FROM ( SELECT \"YEAR\", \"MONTH\", \"SEASON\", \"\\'Offline Marketing\\'\" AS \"OFFLINE MARKETING\", \"\\'Direct/Organic\\'\" AS \"DIRECT/ORGANIC\", \"\\'Manually Entered\\'\" AS \"MANUALLY ENTERED\", \"\\'3rd Party Listing\\'\" AS \"3RD PARTY LISTING\", \"\\'Email\\'\" AS \"EMAIL\", \"\\'(not set)\\'\" AS \"(NOT SET)\", \"\\'Social\\'\" AS \"SOCIAL\", \"\\'OTT\\'\" AS \"OTT\", \"\\'Digital Not Set\\'\" AS \"DIGITAL NOT SET\", \"\\'Alloy\\'\" AS \"ALLOY\", \"\\'Radio\\'\" AS \"RADIO\", \"\\'Spend Form\\'\" AS \"SPEND FORM\", \"\\'Display\\'\" AS \"DISPLAY\", \"\\'SEM\\'\" AS \"SEM\" FROM ( SELECT  *  FROM ( SELECT  *  FROM ( SELECT \"YEAR\", \"MONTH\", \"SEASON\", \"CHANNEL\", sum(\"DAILYCOST\") AS \"TOTAL_COST\" FROM ( SELECT \"CHANNEL\", \"DATE\", \"DAILYLEADS\", \"YEAR\", \"MONTH\", \"COST_PER_LEAD\", \"IS_DIGITAL\", \"SEASON\", iff((\"SEASON\" = \\'season\\'), (\"DAILYCOST\" * \\'0.9\\' :: FLOAT), \"DAILYCOST\") AS \"DAILYCOST\" FROM ( SELECT \"CHANNEL\", \"DATE\", \"DAILYCOST\", \"DAILYLEADS\", \"YEAR\", \"MONTH\", \"COST_PER_LEAD\", \"IS_DIGITAL\",  CASE  WHEN \"MONTH\" IN (12 :: INT, 1 :: INT, 2 :: INT) THEN \\'winter\\' WHEN \"MONTH\" IN (3 :: INT, 4 :: INT, 5 :: INT) THEN \\'spring\\' WHEN \"MONTH\" IN (6 :: INT, 7 :: INT, 8 :: INT) THEN \\'summer\\' WHEN \"MONTH\" IN (9 :: INT, 10 :: INT, 11 :: INT) THEN \\'fall\\' ELSE NULL END  AS \"SEASON\" FROM ( SELECT \"CHANNEL\", \"DATE\", \"DAILYCOST\", \"DAILYLEADS\", year(\"DATE\") AS \"YEAR\", month(\"DATE\") AS \"MONTH\", div0(\"DAILYCOST\", \"DAILYLEADS\") AS \"COST_PER_LEAD\", iff(\"CHANNEL\" IN (\\'Digital Not Set\\', \\'Social\\', \\'Email\\'), 1, 0) AS \"IS_DIGITAL\" FROM DAILY_SPEND))) GROUP BY \"YEAR\", \"MONTH\", \"SEASON\", \"CHANNEL\") ORDER BY \"YEAR\" ASC NULLS FIRST, \"MONTH\" ASC NULLS FIRST) PIVOT (sum(\"TOTAL_COST\") FOR \"CHANNEL\" IN (\\'Offline Marketing\\', \\'Direct/Organic\\', \\'Manually Entered\\', \\'3rd Party Listing\\', \\'Email\\', \\'(not set)\\', \\'Social\\', \\'OTT\\', \\'Digital Not Set\\', \\'Alloy\\', \\'Radio\\', \\'Spend Form\\', \\'Display\\', \\'SEM\\'))) ORDER BY \"YEAR\" ASC NULLS FIRST, \"MONTH\" ASC NULLS FIRST)) AS SNOWPARK_LEFT INNER JOIN ( SELECT \"YEAR\" AS \"YEAR\", \"MONTH\" AS \"MONTH\", \"LEADS\" AS \"LEADS\" FROM ( SELECT  *  FROM LEADS_SUMMARY ORDER BY \"YEAR\" ASC NULLS FIRST, \"MONTH\" ASC NULLS FIRST)) AS SNOWPARK_RIGHT USING (YEAR, MONTH))) LIMIT 20')]"
      ]
     },
     "execution_count": 23,
     "metadata": {},
     "output_type": "execute_result"
    }
   ],
   "source": [
    "snow_df_monthly_spend_and_revenue=(\n",
    "    snow_df_spend_per_month_pivot.join(snow_df_monthly_revenue, [\"YEAR\",\"MONTH\"])\n",
    ")\n",
    "\n",
    "\n",
    "\n",
    "\n",
    "with session.query_history() as history2:\n",
    "    snow_df_monthly_spend_and_revenue.show(20)\n",
    "\n",
    "history2.queries"
   ]
  },
  {
   "attachments": {},
   "cell_type": "markdown",
   "id": "fe4aaaba",
   "metadata": {},
   "source": [
    "## >>>>>>>>>> *CHECKPOINT : PAUSE HERE BEFORE MOVING ON* <<<<<<<<<<"
   ]
  },
  {
   "attachments": {},
   "cell_type": "markdown",
   "id": "2c7e2cd2",
   "metadata": {},
   "source": [
    "### Model Training in Snowflake \n",
    "\n",
    "#### Features and Target\n",
    "\n",
    "At this point we are ready to perform the following actions to create features and target for model training.\n",
    "\n",
    "* Replace nulls with zeroes\n",
    "* Exclude columns we don't need for modeling - Channels with zero costs\n",
    "* Save features into a Snowflake table called MARKETING_BUDGETS_LEADS\n",
    "\n",
    "TIP: To see how to handle missing values in Snowpark Python, refer to this [blog](https://medium.com/snowflake/handling-missing-values-with-snowpark-for-python-part-1-4af4285d24e6)."
   ]
  },
  {
   "cell_type": "code",
   "execution_count": 24,
   "id": "9ec7fff9",
   "metadata": {},
   "outputs": [],
   "source": [
    "inits=input(\"Enter your initials\")"
   ]
  },
  {
   "cell_type": "code",
   "execution_count": 25,
   "id": "d33bd8f5",
   "metadata": {},
   "outputs": [
    {
     "name": "stderr",
     "output_type": "stream",
     "text": [
      "Input value type doesn't match the target column data type, this replacement was skipped. Column Name: \"SEASON\", Type: StringType(), Input Value: 0, Type: <class 'int'>\n"
     ]
    }
   ],
   "source": [
    "\n",
    "#Change all null values to zeroes\n",
    "snow_df_spend_and_revenue_per_month_clean = snow_df_monthly_spend_and_revenue.fillna(0)\n"
   ]
  },
  {
   "cell_type": "code",
   "execution_count": 26,
   "id": "678e4646",
   "metadata": {},
   "outputs": [
    {
     "name": "stdout",
     "output_type": "stream",
     "text": [
      "['YEAR', 'MONTH', 'SEASON', '\"OFFLINE MARKETING\"', '\"3RD PARTY LISTING\"', 'EMAIL', 'SOCIAL', 'OTT', '\"DIGITAL NOT SET\"', 'RADIO', '\"SPEND FORM\"', 'DISPLAY', 'SEM', 'LEADS']\n",
      "--------------------------------------------------------------------------------------------------------------------------------------------------------------------------------------\n",
      "|\"YEAR\"  |\"MONTH\"  |\"SEASON\"  |\"OFFLINE MARKETING\"  |\"3RD PARTY LISTING\"  |\"EMAIL\"  |\"SOCIAL\"  |\"OTT\"  |\"DIGITAL NOT SET\"  |\"RADIO\"  |\"SPEND FORM\"  |\"DISPLAY\"  |\"SEM\"     |\"LEADS\"  |\n",
      "--------------------------------------------------------------------------------------------------------------------------------------------------------------------------------------\n",
      "|2021    |1        |winter    |0.0                  |503136.0             |0.0      |354400.0  |0.0    |0.0                |0.0      |0.0           |337088.0   |566336.0  |94158    |\n",
      "|2021    |2        |winter    |0.0                  |444608.0             |0.0      |286384.0  |0.0    |0.0                |0.0      |0.0           |248592.0   |469664.0  |83372    |\n",
      "|2021    |3        |spring    |0.0                  |445232.0             |0.0      |298320.0  |0.0    |0.0                |0.0      |0.0           |196736.0   |555520.0  |91857    |\n",
      "|2021    |4        |spring    |0.0                  |443792.0             |0.0      |265616.0  |0.0    |0.0                |0.0      |0.0           |184768.0   |575360.0  |82126    |\n",
      "|2021    |5        |spring    |0.0                  |441072.0             |0.0      |265472.0  |0.0    |0.0                |0.0      |0.0           |182848.0   |598400.0  |76766    |\n",
      "|2021    |6        |summer    |0.0                  |444528.0             |0.0      |285728.0  |0.0    |0.0                |0.0      |0.0           |163616.0   |607840.0  |68930    |\n",
      "|2021    |7        |summer    |0.0                  |431568.0             |0.0      |324704.0  |0.0    |0.0                |0.0      |0.0           |146064.0   |637568.0  |66214    |\n",
      "|2021    |8        |summer    |0.0                  |442960.0             |0.0      |433088.0  |0.0    |0.0                |0.0      |0.0           |147088.0   |594528.0  |59200    |\n",
      "|2021    |9        |fall      |0.0                  |441856.0             |0.0      |533152.0  |0.0    |0.0                |0.0      |0.0           |133792.0   |530208.0  |74441    |\n",
      "|2021    |10       |fall      |0.0                  |446080.0             |0.0      |600688.0  |0.0    |0.0                |0.0      |0.0           |108608.0   |519552.0  |84843    |\n",
      "--------------------------------------------------------------------------------------------------------------------------------------------------------------------------------------\n",
      "\n"
     ]
    }
   ],
   "source": [
    "\n",
    "\n",
    "# Exclude year column we don't need for modeling\n",
    "#snow_df_spend_and_revenue_per_month_clean = snow_df_spend_and_revenue_per_month_clean.drop(['YEAR'])\n",
    "\n",
    "#Exclude campaigns with zero costs from the dataframe above\n",
    "snow_df_spend_and_revenue_per_month_clean = snow_df_spend_and_revenue_per_month_clean.drop(col('DIRECT/ORGANIC'),col('MANUALLY ENTERED'),col('(NOT SET)'),col('ALLOY'))\n",
    "print (snow_df_spend_and_revenue_per_month_clean.columns)\n",
    "\n",
    "# Save features into a Snowflake table call MARKETING_BUDGETS_LEADS\n",
    "snow_df_spend_and_revenue_per_month_clean.write.mode('overwrite').save_as_table(f'MARKETING_BUDGETS_LEADS_{inits}')\n",
    "snow_df_spend_and_revenue_per_month_clean.show()"
   ]
  },
  {
   "cell_type": "markdown",
   "id": "98aaac15",
   "metadata": {},
   "source": [
    "**YOUR TURN**: How would you save another \"copy\" of this dataframe to a table to do further analysis?"
   ]
  },
  {
   "cell_type": "code",
   "execution_count": 27,
   "id": "62081ab8",
   "metadata": {},
   "outputs": [],
   "source": [
    "# Try it using the method above (save_as_table)\n",
    "snow_df_spend_and_revenue_per_month_clean.write.mode(\"overwrite\").save_as_table(f\"MARKETING_BUDGETS_LEADS_ANALYSIS_{inits}\")\n"
   ]
  },
  {
   "cell_type": "markdown",
   "id": "social-enough",
   "metadata": {
    "papermill": {
     "duration": 0.07231,
     "end_time": "2021-05-15T09:33:52.171663",
     "exception": false,
     "start_time": "2021-05-15T09:33:52.099353",
     "status": "completed"
    },
    "tags": []
   },
   "source": [
    "#### Python function to train a Linear Regression model using scikit-learn\n",
    "\n",
    "Let's create a Python function that uses **scikit-learn and other packages which are already included in** [Snowflake Anaconda channel](https://repo.anaconda.com/pkgs/snowflake/) and therefore available on the server-side when executing the Python function as a Stored Procedure running in Snowflake.\n",
    "\n",
    "This function takes the following as parameters:\n",
    "\n",
    "* _session_: Snowflake Session object.\n",
    "* _features_table_: Name of the table that holds the features and target variable.\n",
    "* _number_of_folds_: Number of cross validation folds used in GridSearchCV.\n",
    "* _polynomial_features_degress_: PolynomialFeatures as a preprocessing step.\n",
    "* _train_accuracy_threshold_: Accuracy thresholds for train dataset. This values is used to determine if the model should be saved.\n",
    "* _test_accuracy_threshold_: Accuracy thresholds for test dataset. This values is used to determine if the model should be saved.\n",
    "* _save_model_: Boolean that determines if the model should be saved provided the accuracy thresholds are met.\n",
    "\n",
    "TIP: For large datasets, Snowflake offers [Snowpark-optimized Warehouses](https://docs.snowflake.com/en/user-guide/warehouses-snowpark-optimized.html) or in-memory storage\n",
    "\n"
   ]
  },
  {
   "cell_type": "code",
   "execution_count": 28,
   "id": "caring-weight",
   "metadata": {
    "papermill": {
     "duration": 0.079552,
     "end_time": "2021-05-15T09:33:52.631191",
     "exception": false,
     "start_time": "2021-05-15T09:33:52.551639",
     "status": "completed"
    },
    "tags": []
   },
   "outputs": [],
   "source": [
    "\n",
    "def train_leads_prediction_model(\n",
    "    session: Session, \n",
    "    features_table: str, \n",
    "    numeric_features: list,\n",
    "    categorical_features: list,\n",
    "    number_of_folds: int,\n",
    "    train_accuracy_threshold: float, \n",
    "    test_accuracy_threshold: float, \n",
    "    save_model: bool) -> str:\n",
    "    \n",
    "    from sklearn.compose import ColumnTransformer\n",
    "    from sklearn.pipeline import Pipeline\n",
    "    from sklearn.preprocessing import StandardScaler, OneHotEncoder\n",
    "    from sklearn.linear_model import LinearRegression\n",
    "    from sklearn.model_selection import train_test_split, GridSearchCV\n",
    "\n",
    "    import os\n",
    "    from joblib import dump\n",
    "\n",
    "    # Load features\n",
    "    df = session.table(features_table).to_pandas()\n",
    "\n",
    "    # Preprocess the Numeric columns\n",
    "    numeric_transformer = Pipeline(\n",
    "        steps=[\n",
    "            ('scaler', StandardScaler())\n",
    "        ]\n",
    "    )\n",
    "\n",
    "    # one hot encode categorical columns\n",
    "    categorical_transformer=Pipeline(\n",
    "        steps=[\n",
    "            (\"ohe\", OneHotEncoder(handle_unknown=\"ignore\"))\n",
    "        ]\n",
    "    )\n",
    "\n",
    "    # Combine the preprocessed step together using the Column Transformer module\n",
    "    preprocessor = ColumnTransformer(\n",
    "        transformers=[\n",
    "            (\"num\", numeric_transformer, numeric_features),\n",
    "            (\"cat\", categorical_transformer, categorical_features)\n",
    "        ]\n",
    "    )\n",
    "\n",
    "    # The next step is the integrate the features we just preprocessed with our Machine Learning algorithm to enable us to build a model\n",
    "    pipeline = Pipeline(\n",
    "        steps=[\n",
    "            (\"preprocessor\", preprocessor),\n",
    "            (\"classifier\", LinearRegression())\n",
    "        ]\n",
    "    )\n",
    "\n",
    "    # define dataframes for features (X) and target (y)\n",
    "    X = df.drop('LEADS', axis = 1)\n",
    "    y = df['LEADS']\n",
    "\n",
    "    # Split dataset into training and test\n",
    "    X_train, X_test, y_train, y_test = train_test_split(X, y, test_size=0.2, random_state = 42)\n",
    "\n",
    "    # Use GridSearch to find the best fitting model based on number_of_folds folds\n",
    "    model = GridSearchCV(pipeline, param_grid={}, cv=number_of_folds)\n",
    "\n",
    "    \n",
    "    model.fit(X_train, y_train)\n",
    "    \n",
    "    train_r2_score = model.score(X_train, y_train)\n",
    "    test_r2_score = model.score(X_test, y_test)\n",
    "\n",
    "    # create a string of output text to view model results when training/testing\n",
    "    train_accuracy = f\"Train accuracy: {train_r2_score:.2%}; Train accuracy threshold: {train_accuracy_threshold:.2%}\"\n",
    "    test_accuracy = f\"Test accuracy: {test_r2_score:.2%}; Test accuracy threshold: {test_accuracy_threshold:.2%}\"\n",
    "\n",
    "    if not save_model:\n",
    "        save_state = f\"Running in test mode...not saving model\"\n",
    "    else:\n",
    "        if train_r2_score >= train_accuracy_threshold and test_r2_score >= test_accuracy_threshold:\n",
    "            save_state = \"Accuracy is acceptable! Saving model\"\n",
    "\n",
    "            # Upload trained model to a stage\n",
    "            model_output_dir = '/tmp'\n",
    "            model_file = os.path.join(model_output_dir, f'model_{inits}.joblib')\n",
    "            dump(model, model_file)\n",
    "            session.file.put(model_file, \"@demo_models\",overwrite=True)\n",
    "        else:\n",
    "            save_state = \"Accuracy threshold violated...not saving\"\n",
    "\n",
    "    return (\n",
    "        train_accuracy,\n",
    "        test_accuracy,\n",
    "        save_state\n",
    "    )"
   ]
  },
  {
   "attachments": {},
   "cell_type": "markdown",
   "id": "26304617",
   "metadata": {},
   "source": [
    "#### Test Python function before deploying it as a Stored Procedure on Snowflake\n",
    "\n",
    "To make sure our model works, we'll first call it before deploying to Snowflake"
   ]
  },
  {
   "cell_type": "code",
   "execution_count": 29,
   "id": "924c4f5f",
   "metadata": {},
   "outputs": [
    {
     "data": {
      "text/plain": [
       "('Train accuracy: 97.60%; Train accuracy threshold: 85.00%',\n",
       " 'Test accuracy: 89.22%; Test accuracy threshold: 85.00%',\n",
       " 'Running in test mode...not saving model')"
      ]
     },
     "execution_count": 29,
     "metadata": {},
     "output_type": "execute_result"
    }
   ],
   "source": [
    "train_leads_prediction_model(\n",
    "    session=session,\n",
    "    features_table=f\"MARKETING_BUDGETS_LEADS_{inits}\",\n",
    "    numeric_features = [ 'OFFLINE MARKETING', '3RD PARTY LISTING', 'EMAIL','SOCIAL', 'OTT', 'DIGITAL NOT SET', 'RADIO', 'SPEND FORM', 'DISPLAY','SEM'],\n",
    "    categorical_features = [\"SEASON\"],\n",
    "    number_of_folds=10,\n",
    "    train_accuracy_threshold=0.85,\n",
    "    test_accuracy_threshold=0.85,\n",
    "    save_model=False\n",
    ")"
   ]
  },
  {
   "cell_type": "markdown",
   "id": "bbf90cdc",
   "metadata": {},
   "source": [
    "### Create Stored Procedure to deploy model training code on Snowflake\n",
    "\n",
    "Assuming the testing is complete and we're satisfied with the model, let's **register the model training Python function as a Snowpark Python Stored Procedure** by supplying the packages (_snowflake-snowpark-python,scikit-learn, and joblib_) it will need and use during execution.\n",
    "\n",
    "NOTE: Be sure to name your stored procedure below using your initials or another unique identifier since you are using the same database & schema!"
   ]
  },
  {
   "cell_type": "code",
   "execution_count": 30,
   "id": "630975b1",
   "metadata": {},
   "outputs": [
    {
     "data": {
      "text/plain": [
       "<snowflake.snowpark.stored_procedure.StoredProcedure at 0x7fe3ba3aac10>"
      ]
     },
     "execution_count": 30,
     "metadata": {},
     "output_type": "execute_result"
    }
   ],
   "source": [
    "# Be sure to name the stored procedure using your initials or another unique identifier such as \"train_revenue_prediction_model_STR\"\n",
    "session.sproc.register(\n",
    "    func=train_leads_prediction_model,\n",
    "    name=f\"train_leads_prediction_model_{inits}\",\n",
    "    packages=['snowflake-snowpark-python','scikit-learn','joblib'],\n",
    "    is_permanent=True,\n",
    "    stage_location=\"@demo_sprocs\",\n",
    "    replace=True)"
   ]
  },
  {
   "cell_type": "markdown",
   "id": "f3f1dcfa",
   "metadata": {},
   "source": [
    "### Execute Stored Procedure to train model and deploy it on Snowflake\n",
    "\n",
    "Now we're ready to train the model and save it onto a Snowflake stage so let's set _save_model = True_ and run/execute the Stored Procedure using _session.call()_ function. \n",
    "\n",
    "NOTE: Use the same stored procedure name you used previously"
   ]
  },
  {
   "cell_type": "code",
   "execution_count": 31,
   "id": "a8846d95",
   "metadata": {},
   "outputs": [
    {
     "data": {
      "text/plain": [
       "\"('Train accuracy: 97.60%; Train accuracy threshold: 85.00%', 'Test accuracy: 89.22%; Test accuracy threshold: 85.00%', 'Accuracy is acceptable! Saving model')\""
      ]
     },
     "execution_count": 31,
     "metadata": {},
     "output_type": "execute_result"
    }
   ],
   "source": [
    "# Make sure to update the stored procedure name to what you set above\n",
    "cross_validaton_folds=10\n",
    "numeric_features=[ 'OFFLINE MARKETING', '3RD PARTY LISTING', 'EMAIL','SOCIAL', 'OTT', 'DIGITAL NOT SET', 'RADIO', 'SPEND FORM', 'DISPLAY','SEM']\n",
    "categorical_features=[\"SEASON\"]\n",
    "polynomial_features_degrees=2\n",
    "train_accuracy_threshold=0.85\n",
    "test_accuracy_threshold=0.85\n",
    "save_model=True\n",
    "\n",
    "session.call(\n",
    "    f\"train_leads_prediction_model_{inits}\",\n",
    "    f\"MARKETING_BUDGETS_leads_{inits}\",\n",
    "    numeric_features,\n",
    "    categorical_features,\n",
    "    cross_validaton_folds,\n",
    "    train_accuracy_threshold,\n",
    "    test_accuracy_threshold,\n",
    "    save_model\n",
    ")"
   ]
  },
  {
   "cell_type": "markdown",
   "id": "6b7952e7",
   "metadata": {},
   "source": [
    "## >>>>>>>>>> *CHECKPOINT 2 : PAUSE HERE BEFORE MOVING ON* <<<<<<<<<<"
   ]
  },
  {
   "cell_type": "markdown",
   "id": "3d3e1dbf",
   "metadata": {},
   "source": [
    "### Create Scalar User-Defined Function (UDF) for inference\n",
    "\n",
    "Now to deploy this model for inference, let's **create and register a Snowpark Python UDF and add the trained model as a dependency**. Once registered, getting new predictions is as simple as calling the function by passing in data.\n",
    "\n",
    "Scalar UDFs operate on a single row / set of data points and are great for online inference\n",
    "\n",
    "NOTE: Similar to before with the stored procedure, make sure to add your initials or a unique qualifier to the UDF name below"
   ]
  },
  {
   "cell_type": "code",
   "execution_count": 33,
   "id": "4a2c9a07",
   "metadata": {},
   "outputs": [],
   "source": [
    "# Remember to change the UDF name to include your initials or a unique identifier\n",
    "session.clear_imports()\n",
    "session.clear_packages()\n",
    "\n",
    "# Add trained model and Python packages from Snowflake Anaconda channel available on the server-side as UDF dependencies\n",
    "session.add_import(f'@demo_models/model_{inits}.joblib.gz')\n",
    "session.add_packages('pandas','joblib','scikit-learn==1.3.0')\n",
    "\n",
    "@F.udf(name=f'predict_leads_{inits}',session=session,replace=True,is_permanent=True,stage_location='@demo_udfs')\n",
    "def predict_roi(budget_allocations: list) -> float:\n",
    "\n",
    "    import sys\n",
    "    import pandas as pd\n",
    "    from joblib import load\n",
    "\n",
    "    IMPORT_DIRECTORY_NAME = \"snowflake_import_directory\"\n",
    "    import_dir = sys._xoptions[IMPORT_DIRECTORY_NAME]\n",
    "    \n",
    "    model_file = import_dir + f'model_{inits}.joblib.gz'\n",
    "    model = load(model_file)\n",
    "            \n",
    "    features = ['SEASON','OFFLINE MARKETING', '3RD PARTY LISTING', 'EMAIL','SOCIAL', 'OTT', 'DIGITAL NOT SET', 'RADIO', 'SPEND FORM', 'DISPLAY','SEM']\n",
    "    df = pd.DataFrame([budget_allocations], columns=features)\n",
    "    roi = abs(model.predict(df)[0])\n",
    "    \n",
    "    return roi"
   ]
  },
  {
   "cell_type": "markdown",
   "id": "a549ca07",
   "metadata": {},
   "source": [
    "<div style='text-align: center'>\n",
    "    <img src=\"assets/snowpark_python_udfs.png\" alt=\"Snowpark\" style=\"width: 75%;\"/>\n",
    "</div>"
   ]
  },
  {
   "cell_type": "markdown",
   "id": "a8fc7202",
   "metadata": {},
   "source": [
    "### Call Scalar User-Defined Function (UDF) for inference on new data"
   ]
  },
  {
   "cell_type": "markdown",
   "id": "d40e0fb7",
   "metadata": {},
   "source": [
    " Once the UDF is registered, getting new predictions is as simple as calling the _call_udf()_ Snowpark Python function and passing in new datapoints.\n",
    "\n",
    "Let's create a SnowPark DataFrame with some sample data and call the UDF to get new predictions."
   ]
  },
  {
   "cell_type": "code",
   "execution_count": 34,
   "id": "9b1f1ba1",
   "metadata": {},
   "outputs": [
    {
     "name": "stdout",
     "output_type": "stream",
     "text": [
      "-------------------------------------------------------------------------------------------------------------------------------------------------------------------------------\n",
      "|\"SEASON\"  |\"OFFLINE MARKETING\"  |\"3RD PARTY LISTING\"  |\"EMAIL\"  |\"SOCIAL\"  |\"OTT\"    |\"DIGITAL NOT SET\"  |\"RADIO\"  |\"SPEND FORM\"  |\"DISPLAY\"  |\"SEM\"    |\"PREDICTED_LEADS\"   |\n",
      "-------------------------------------------------------------------------------------------------------------------------------------------------------------------------------\n",
      "|winter    |0                    |450000               |0        |2500000   |1000000  |5000               |15000    |70000         |800000     |2250000  |194833.09772812057  |\n",
      "-------------------------------------------------------------------------------------------------------------------------------------------------------------------------------\n",
      "\n"
     ]
    }
   ],
   "source": [
    "# define list of columns and convert to an arry\n",
    "col_list = [\"SEASON\",'OFFLINE MARKETING', '3RD PARTY LISTING', 'EMAIL','SOCIAL', 'OTT', 'DIGITAL NOT SET', 'RADIO', 'SPEND FORM', 'DISPLAY','SEM']\n",
    "col_array = F.array_construct(*col_list)\n",
    "\n",
    "new_data=[\n",
    "    (\"winter\", 0, 450000, 0, 2500000, 1000000,5000,15000,70000,800000,2250000)\n",
    "]\n",
    "test_df=session.create_dataframe(new_data, schema=col_list)\n",
    "\n",
    "\n",
    "test_df.select(\n",
    "   \"SEASON\",\"OFFLINE MARKETING\",\"3RD PARTY LISTING\",\"EMAIL\",\"SOCIAL\", \"OTT\",\"DIGITAL NOT SET\",\"RADIO\",  \"SPEND FORM\",\"DISPLAY\",\"SEM\",\n",
    "  F.call_udf(f\"predict_leads_{inits}\", col_array).as_(\"PREDICTED_LEADS\")\n",
    ").show()"
   ]
  },
  {
   "attachments": {},
   "cell_type": "markdown",
   "id": "c4825e30",
   "metadata": {},
   "source": [
    "### Create Vectorized User-Defined Function (UDF) using Batch API for inference\n",
    "\n",
    "Here we will leverage the Python UDF Batch API to create a **vectorized** UDF which takes a Pandas Dataframe as input. This means that each call to the UDF receives a set/batch of rows compared to a Scalar UDF which gets one row as input. \n",
    "\n",
    "First we will create a helper function _load_model()_ that uses **cachetools** to make sure we only load the model once followed by _batch_predict_roi()_ function that does the inference. \n",
    "\n",
    "Vectorized UDFs are great for offline inference in batch mode.\n",
    "\n",
    "Advantages of using the Batch API over Scalar UDFs:\n",
    "\n",
    "* The potential for better performance if your Python code operates efficiently on batches of rows\n",
    "* Less transformation logic required if you are calling into libraries that operate on Pandas DataFrames or Pandas arrays\n",
    "\n",
    "NOTE: Like before, remember to change the UDF function name to include your initials or a unique identifier below"
   ]
  },
  {
   "cell_type": "code",
   "execution_count": 35,
   "id": "a4fadde4",
   "metadata": {},
   "outputs": [
    {
     "name": "stdout",
     "output_type": "stream",
     "text": [
      "generating random data...\n",
      "saving random data...\n",
      "100000 random records generated!\n"
     ]
    }
   ],
   "source": [
    "from generate_batch_data_customized import generate_random_table\n",
    "\n",
    "generate_random_table(\n",
    "    session=session, \n",
    "    num_records=100000,\n",
    "    table_name=f\"random_model_data_{inits}\"\n",
    ")"
   ]
  },
  {
   "cell_type": "code",
   "execution_count": 36,
   "id": "9b938b6e",
   "metadata": {},
   "outputs": [],
   "source": [
    "# Remember to update the UDF function name below similar to before\n",
    "session.clear_imports()\n",
    "session.clear_packages()\n",
    "\n",
    "import cachetools\n",
    "from snowflake.snowpark.types import PandasSeries, PandasDataFrame\n",
    "\n",
    "# Add trained model and Python packages from Snowflake Anaconda channel available on the server-side as UDF dependencies\n",
    "session.add_import(f'@demo_models/model_{inits}.joblib.gz')\n",
    "session.add_packages('pandas','joblib','scikit-learn','cachetools')\n",
    "\n",
    "@cachetools.cached(cache={})\n",
    "def load_model(filename):\n",
    "    import joblib\n",
    "    import sys\n",
    "    import os\n",
    "\n",
    "    IMPORT_DIRECTORY_NAME = \"snowflake_import_directory\"\n",
    "    import_dir = sys._xoptions[IMPORT_DIRECTORY_NAME]\n",
    "\n",
    "    if import_dir:\n",
    "        with open(os.path.join(import_dir, filename), 'rb') as file:\n",
    "            m = joblib.load(file)\n",
    "            return m\n",
    "\n",
    "@F.udf(name=f\"batch_predict_leads_{inits}\",session=session,replace=True,is_permanent=True,stage_location='@demo_udfs')\n",
    "def batch_predict_roi(budget_allocations_df: PandasDataFrame[str, int, int, int, int, int, int, int, int, int, int]) -> PandasSeries[float]:\n",
    "\n",
    "    budget_allocations_df.columns=[\"SEASON\",\"OFFLINE MARKETING\",\"3RD PARTY LISTING\",\"EMAIL\",\"SOCIAL\", \"OTT\",\"DIGITAL NOT SET\",\"RADIO\",  \"SPEND FORM\",\"DISPLAY\",\"SEM\"]\n",
    "    model = load_model(f'model_{inits}.joblib.gz')\n",
    "\n",
    "    return abs(model.predict(budget_allocations_df))"
   ]
  },
  {
   "cell_type": "markdown",
   "id": "60a99309",
   "metadata": {},
   "source": [
    "### Call Vectorized User-Defined Function (UDF) using Batch API for inference on new data\n",
    "\n",
    "When you use the Batch API:\n",
    "\n",
    "* You do not need to change how you write queries using Python UDFs. All batching is handled by the UDF framework rather than your own code\n",
    "* NOTE: As with the non-batch / scalar API, there is no guarantee of which instances of your handler code will see which batches of input"
   ]
  },
  {
   "cell_type": "code",
   "execution_count": 37,
   "id": "57045fca",
   "metadata": {},
   "outputs": [
    {
     "name": "stdout",
     "output_type": "stream",
     "text": [
      "-------------------------------------------------------------------------------------------------------------------------------------------------------------------------------\n",
      "|\"SEASON\"  |\"OFFLINE MARKETING\"  |\"3RD PARTY LISTING\"  |\"EMAIL\"  |\"SOCIAL\"  |\"OTT\"    |\"DIGITAL NOT SET\"  |\"RADIO\"  |\"SPEND FORM\"  |\"DISPLAY\"  |\"SEM\"    |\"PREDICTED_LEADS\"   |\n",
      "-------------------------------------------------------------------------------------------------------------------------------------------------------------------------------\n",
      "|fall      |3134764              |1912690              |2526157  |1106276   |3628782  |1817175            |780361   |1392436       |1329262    |2896805  |117031.3831848928   |\n",
      "|winter    |315086               |658936               |154954   |1162857   |1100985  |1598660            |750933   |1415911       |725771     |1130153  |1777349.1978854868  |\n",
      "|winter    |1903797              |1522010              |1479572  |1122925   |1829309  |557220             |1688678  |1524723       |1040474    |856756   |2033777.9625051788  |\n",
      "|fall      |716820               |2577289              |2844651  |723059    |3263017  |372638             |3638323  |2341923       |3443965    |2804275  |4066638.3129843287  |\n",
      "|winter    |536732               |1671542              |411255   |1351756   |709970   |607955             |1068241  |1662721       |1136138    |1329528  |2118079.3301356086  |\n",
      "|summer    |4524652              |3065753              |1266251  |2055817   |4674010  |4530685            |2580123  |3461745       |3194021    |1384130  |5460875.482851267   |\n",
      "|summer    |333930               |518952               |3392654  |1665689   |2453137  |2922926            |2086382  |565360        |2562440    |3458129  |807131.2091966419   |\n",
      "|winter    |1423966              |188539               |1264187  |1487050   |368247   |1645164            |1843587  |208520        |1293269    |1760354  |2320239.234801255   |\n",
      "|spring    |687064               |2689776              |3208673  |2179391   |2645166  |3359050            |1922761  |2820392       |3401761    |220629   |1514937.047019826   |\n",
      "|winter    |1293561              |570872               |1434081  |773878    |1674375  |1523172            |1179801  |309852        |1321449    |377189   |1039927.153845849   |\n",
      "-------------------------------------------------------------------------------------------------------------------------------------------------------------------------------\n",
      "\n",
      "Num rows: 100000\n",
      "Snowpark df size: 0.0\n",
      "Pandas df size: 10.54\n"
     ]
    }
   ],
   "source": [
    "\n",
    "\n",
    "batch_df=session.table(f\"random_model_data_{inits}\")\n",
    "\n",
    "batch_preds=batch_df.select(\n",
    "    \"SEASON\",\"OFFLINE MARKETING\",\"3RD PARTY LISTING\",\"EMAIL\",\"SOCIAL\", \"OTT\",\"DIGITAL NOT SET\",\"RADIO\",  \"SPEND FORM\",\"DISPLAY\",\"SEM\", \n",
    "    F.call_udf(f\"batch_predict_leads_{inits}\",\n",
    "    F.col(\"SEASON\"),F.col(\"OFFLINE MARKETING\"), F.col(\"3RD PARTY LISTING\"), F.col(\"EMAIL\"), F.col(\"Social\"), F.col(\"OTT\"), F.col(\"DIGITAL NOT SET\"), F.col(\"RADIO\"), F.col(\"SPEND FORM\"), F.col(\"DISPLAY\"),  F.col(\"SEM\")).as_(\"PREDICTED_LEADS\"))\n",
    "\n",
    "batch_preds.show(10)\n",
    "print(f\"Num rows: {batch_preds.count()}\")\n",
    "print(f\"Snowpark df size: {get_df_memory_size(batch_preds)}\")\n",
    "print(f\"Pandas df size: {get_df_memory_size(batch_preds.to_pandas())}\")\n"
   ]
  },
  {
   "cell_type": "code",
   "execution_count": 38,
   "id": "86dc555a",
   "metadata": {},
   "outputs": [],
   "source": [
    "batch_preds.write.mode(\"overwrite\").save_as_table(f\"BATCH_PREDICT_LEADS_{inits}\")"
   ]
  },
  {
   "cell_type": "code",
   "execution_count": 48,
   "id": "c245c3db",
   "metadata": {},
   "outputs": [],
   "source": [
    "def get_new_predicted_leads(session: Session, new_allocations: dict, season: str) -> float:\n",
    "    return (\n",
    "        session\n",
    "            .sql(\n",
    "                f\"\"\"SELECT predict_leads_{inits}(array_construct(\n",
    "                    '{season}',\n",
    "                    {new_allocations['OFFLINE MARKETING']},\n",
    "                    {new_allocations['3RD PARTY LISTING']},\n",
    "                    {new_allocations['EMAIL']},\n",
    "                    {new_allocations['SOCIAL']},\n",
    "                    {new_allocations['OTT']},\n",
    "                    {new_allocations['DIGITAL NOT SET']},\n",
    "                    {new_allocations['RADIO']},\n",
    "                    {new_allocations['SPEND FORM']},\n",
    "                    {new_allocations['DISPLAY']},\n",
    "                    {new_allocations['SEM']}\n",
    "                ))\"\"\"\n",
    "            )\n",
    "            .to_pandas()\n",
    "            .iloc[0, 0]\n",
    "    )"
   ]
  },
  {
   "cell_type": "code",
   "execution_count": 47,
   "id": "96316bf9",
   "metadata": {},
   "outputs": [
    {
     "name": "stdout",
     "output_type": "stream",
     "text": [
      "204286\n",
      "-------------------------------------------------------------------------\n",
      "|\"YEAR\"  |\"MONTH\"  |\"SEASON\"  |\"LEADS\"  |\"CHANNEL\"          |\"BUDGET\"   |\n",
      "-------------------------------------------------------------------------\n",
      "|2023    |1        |winter    |187388   |OFFLINE MARKETING  |0.0        |\n",
      "|2023    |1        |winter    |187388   |3RD PARTY LISTING  |583392.0   |\n",
      "|2023    |1        |winter    |187388   |EMAIL              |2496.0     |\n",
      "|2023    |1        |winter    |187388   |SOCIAL             |2323808.0  |\n",
      "|2023    |1        |winter    |187388   |OTT                |0.0        |\n",
      "|2023    |1        |winter    |187388   |DIGITAL NOT SET    |32.0       |\n",
      "|2023    |1        |winter    |187388   |RADIO              |0.0        |\n",
      "|2023    |1        |winter    |187388   |SPEND FORM         |0.0        |\n",
      "|2023    |1        |winter    |187388   |DISPLAY            |648688.0   |\n",
      "|2023    |1        |winter    |187388   |SEM                |1528480.0  |\n",
      "|2023    |2        |winter    |172132   |OFFLINE MARKETING  |0.0        |\n",
      "|2023    |2        |winter    |172132   |3RD PARTY LISTING  |579600.0   |\n",
      "|2023    |2        |winter    |172132   |EMAIL              |1072.0     |\n",
      "|2023    |2        |winter    |172132   |SOCIAL             |2217824.0  |\n",
      "|2023    |2        |winter    |172132   |OTT                |0.0        |\n",
      "|2023    |2        |winter    |172132   |DIGITAL NOT SET    |32.0       |\n",
      "|2023    |2        |winter    |172132   |RADIO              |0.0        |\n",
      "|2023    |2        |winter    |172132   |SPEND FORM         |0.0        |\n",
      "|2023    |2        |winter    |172132   |DISPLAY            |761712.0   |\n",
      "|2023    |2        |winter    |172132   |SEM                |1486768.0  |\n",
      "|2023    |3        |spring    |185271   |OFFLINE MARKETING  |0.0        |\n",
      "|2023    |3        |spring    |185271   |3RD PARTY LISTING  |583312.0   |\n",
      "|2023    |3        |spring    |185271   |EMAIL              |0.0        |\n",
      "|2023    |3        |spring    |185271   |SOCIAL             |2441968.0  |\n",
      "|2023    |3        |spring    |185271   |OTT                |0.0        |\n",
      "|2023    |3        |spring    |185271   |DIGITAL NOT SET    |32.0       |\n",
      "|2023    |3        |spring    |185271   |RADIO              |0.0        |\n",
      "|2023    |3        |spring    |185271   |SPEND FORM         |0.0        |\n",
      "|2023    |3        |spring    |185271   |DISPLAY            |741568.0   |\n",
      "|2023    |3        |spring    |185271   |SEM                |1641248.0  |\n",
      "|2023    |4        |spring    |173438   |OFFLINE MARKETING  |0.0        |\n",
      "|2023    |4        |spring    |173438   |3RD PARTY LISTING  |584272.0   |\n",
      "|2023    |4        |spring    |173438   |EMAIL              |0.0        |\n",
      "|2023    |4        |spring    |173438   |SOCIAL             |2242400.0  |\n",
      "|2023    |4        |spring    |173438   |OTT                |0.0        |\n",
      "|2023    |4        |spring    |173438   |DIGITAL NOT SET    |32.0       |\n",
      "|2023    |4        |spring    |173438   |RADIO              |0.0        |\n",
      "|2023    |4        |spring    |173438   |SPEND FORM         |0.0        |\n",
      "|2023    |4        |spring    |173438   |DISPLAY            |689056.0   |\n",
      "|2023    |4        |spring    |173438   |SEM                |1653408.0  |\n",
      "|2023    |5        |spring    |173165   |OFFLINE MARKETING  |0.0        |\n",
      "|2023    |5        |spring    |173165   |3RD PARTY LISTING  |576048.0   |\n",
      "|2023    |5        |spring    |173165   |EMAIL              |0.0        |\n",
      "|2023    |5        |spring    |173165   |SOCIAL             |2273504.0  |\n",
      "|2023    |5        |spring    |173165   |OTT                |0.0        |\n",
      "|2023    |5        |spring    |173165   |DIGITAL NOT SET    |112.0      |\n",
      "|2023    |5        |spring    |173165   |RADIO              |0.0        |\n",
      "|2023    |5        |spring    |173165   |SPEND FORM         |0.0        |\n",
      "|2023    |5        |spring    |173165   |DISPLAY            |696208.0   |\n",
      "|2023    |5        |spring    |173165   |SEM                |1707040.0  |\n",
      "|2023    |6        |summer    |184200   |OFFLINE MARKETING  |0.0        |\n",
      "|2023    |6        |summer    |184200   |3RD PARTY LISTING  |583600.0   |\n",
      "|2023    |6        |summer    |184200   |EMAIL              |0.0        |\n",
      "|2023    |6        |summer    |184200   |SOCIAL             |2598304.0  |\n",
      "|2023    |6        |summer    |184200   |OTT                |23200.0    |\n",
      "|2023    |6        |summer    |184200   |DIGITAL NOT SET    |27056.0    |\n",
      "|2023    |6        |summer    |184200   |RADIO              |0.0        |\n",
      "|2023    |6        |summer    |184200   |SPEND FORM         |18256.0    |\n",
      "|2023    |6        |summer    |184200   |DISPLAY            |790144.0   |\n",
      "|2023    |6        |summer    |184200   |SEM                |2361312.0  |\n",
      "|2023    |7        |summer    |207481   |OFFLINE MARKETING  |0.0        |\n",
      "|2023    |7        |summer    |207481   |3RD PARTY LISTING  |587568.0   |\n",
      "|2023    |7        |summer    |207481   |EMAIL              |0.0        |\n",
      "|2023    |7        |summer    |207481   |SOCIAL             |3003728.0  |\n",
      "|2023    |7        |summer    |207481   |OTT                |826624.0   |\n",
      "|2023    |7        |summer    |207481   |DIGITAL NOT SET    |0.0        |\n",
      "|2023    |7        |summer    |207481   |RADIO              |0.0        |\n",
      "|2023    |7        |summer    |207481   |SPEND FORM         |35984.0    |\n",
      "|2023    |7        |summer    |207481   |DISPLAY            |890000.0   |\n",
      "|2023    |7        |summer    |207481   |SEM                |2624336.0  |\n",
      "|2023    |8        |summer    |204616   |OFFLINE MARKETING  |0.0        |\n",
      "|2023    |8        |summer    |204616   |3RD PARTY LISTING  |598224.0   |\n",
      "|2023    |8        |summer    |204616   |EMAIL              |0.0        |\n",
      "|2023    |8        |summer    |204616   |SOCIAL             |2823488.0  |\n",
      "|2023    |8        |summer    |204616   |OTT                |849200.0   |\n",
      "|2023    |8        |summer    |204616   |DIGITAL NOT SET    |6560.0     |\n",
      "|2023    |8        |summer    |204616   |RADIO              |0.0        |\n",
      "|2023    |8        |summer    |204616   |SPEND FORM         |2464.0     |\n",
      "|2023    |8        |summer    |204616   |DISPLAY            |946480.0   |\n",
      "|2023    |8        |summer    |204616   |SEM                |2677152.0  |\n",
      "|2023    |9        |fall      |204286   |OFFLINE MARKETING  |0.0        |\n",
      "|2023    |9        |fall      |204286   |3RD PARTY LISTING  |603440.0   |\n",
      "|2023    |9        |fall      |204286   |EMAIL              |0.0        |\n",
      "|2023    |9        |fall      |204286   |SOCIAL             |3125952.0  |\n",
      "|2023    |9        |fall      |204286   |OTT                |131056.0   |\n",
      "|2023    |9        |fall      |204286   |DIGITAL NOT SET    |0.0        |\n",
      "|2023    |9        |fall      |204286   |RADIO              |17584.0    |\n",
      "|2023    |9        |fall      |204286   |SPEND FORM         |2384.0     |\n",
      "|2023    |9        |fall      |204286   |DISPLAY            |913568.0   |\n",
      "|2023    |9        |fall      |204286   |SEM                |2976272.0  |\n",
      "-------------------------------------------------------------------------\n",
      "\n"
     ]
    }
   ],
   "source": [
    "snow_df1 = session.table(\"MARKETING_BUDGETS_LEADS_RE\").filter(\n",
    "    (F.col(\"YEAR\") == 2023) & \n",
    "    (F.col(\"MONTH\") <=9)\n",
    ")\n",
    "snow_df2 = snow_df1.unpivot(\"Budget\", \"Channel\", [\"OFFLINE MARKETING\",\"3RD PARTY LISTING\",\"EMAIL\",\"SOCIAL\", \"OTT\",\"DIGITAL NOT SET\",\"RADIO\", \"SPEND FORM\",\"DISPLAY\",\"SEM\"])\n",
    "\n",
    "df1 = snow_df1.to_pandas()\n",
    "last_month_leads=df1[\"LEADS\"].iloc[-1]\n",
    "\n",
    "\n",
    "print(last_month_leads)\n",
    "snow_df2.show(100)"
   ]
  },
  {
   "cell_type": "code",
   "execution_count": 45,
   "id": "2e5e9931",
   "metadata": {},
   "outputs": [
    {
     "ename": "ValueError",
     "evalue": "show() method requires the altair_viewer package. See http://github.com/altair-viz/altair_viewer",
     "output_type": "error",
     "traceback": [
      "\u001b[0;31m---------------------------------------------------------------------------\u001b[0m",
      "\u001b[0;31mModuleNotFoundError\u001b[0m                       Traceback (most recent call last)",
      "File \u001b[0;32m~/opt/anaconda3/envs/snowpark_hol/lib/python3.8/site-packages/altair/vegalite/v4/api.py:1764\u001b[0m, in \u001b[0;36mTopLevelMixin.show\u001b[0;34m(self, embed_opt, open_browser)\u001b[0m\n\u001b[1;32m   1763\u001b[0m \u001b[39mtry\u001b[39;00m:\n\u001b[0;32m-> 1764\u001b[0m     \u001b[39mimport\u001b[39;00m \u001b[39maltair_viewer\u001b[39;00m\n\u001b[1;32m   1765\u001b[0m \u001b[39mexcept\u001b[39;00m \u001b[39mImportError\u001b[39;00m:\n",
      "\u001b[0;31mModuleNotFoundError\u001b[0m: No module named 'altair_viewer'",
      "\nDuring handling of the above exception, another exception occurred:\n",
      "\u001b[0;31mValueError\u001b[0m                                Traceback (most recent call last)",
      "Cell \u001b[0;32mIn[45], line 24\u001b[0m\n\u001b[1;32m     22\u001b[0m \u001b[39m# Combine the bar chart and the line chart\u001b[39;00m\n\u001b[1;32m     23\u001b[0m chart \u001b[39m=\u001b[39m bars \u001b[39m+\u001b[39m line\n\u001b[0;32m---> 24\u001b[0m chart\u001b[39m.\u001b[39;49mshow()\n",
      "File \u001b[0;32m~/opt/anaconda3/envs/snowpark_hol/lib/python3.8/site-packages/altair/vegalite/v4/api.py:1766\u001b[0m, in \u001b[0;36mTopLevelMixin.show\u001b[0;34m(self, embed_opt, open_browser)\u001b[0m\n\u001b[1;32m   1764\u001b[0m     \u001b[39mimport\u001b[39;00m \u001b[39maltair_viewer\u001b[39;00m\n\u001b[1;32m   1765\u001b[0m \u001b[39mexcept\u001b[39;00m \u001b[39mImportError\u001b[39;00m:\n\u001b[0;32m-> 1766\u001b[0m     \u001b[39mraise\u001b[39;00m \u001b[39mValueError\u001b[39;00m(\n\u001b[1;32m   1767\u001b[0m         \u001b[39m\"\u001b[39m\u001b[39mshow() method requires the altair_viewer package. \u001b[39m\u001b[39m\"\u001b[39m\n\u001b[1;32m   1768\u001b[0m         \u001b[39m\"\u001b[39m\u001b[39mSee http://github.com/altair-viz/altair_viewer\u001b[39m\u001b[39m\"\u001b[39m\n\u001b[1;32m   1769\u001b[0m     )\n\u001b[1;32m   1770\u001b[0m altair_viewer\u001b[39m.\u001b[39mshow(\u001b[39mself\u001b[39m, embed_opt\u001b[39m=\u001b[39membed_opt, open_browser\u001b[39m=\u001b[39mopen_browser)\n",
      "\u001b[0;31mValueError\u001b[0m: show() method requires the altair_viewer package. See http://github.com/altair-viz/altair_viewer"
     ]
    }
   ],
   "source": [
    "import streamlit as st\n",
    "import altair as alt\n",
    "\n",
    "df=snow_df2.to_pandas()\n",
    "\n",
    "# Create the stacked bar chart for BUDGET\n",
    "bars = alt.Chart(df).mark_bar().encode(\n",
    "    x='MONTH:O',\n",
    "    y=alt.Y('BUDGET:Q', stack='zero'),\n",
    "    color='CHANNEL:N',\n",
    "    tooltip=['CHANNEL', 'BUDGET', 'LEADS']\n",
    ")\n",
    "\n",
    "# Create the line chart for LEADS\n",
    "leads = df.groupby('MONTH').agg({'LEADS':'first'}).reset_index()  # get the unique LEADS value for each month\n",
    "line = alt.Chart(leads).mark_line(color='black', point=True).encode(\n",
    "    x='MONTH:O',\n",
    "    y='LEADS:Q',\n",
    "    tooltip='LEADS'\n",
    ")\n",
    "\n",
    "# Combine the bar chart and the line chart\n",
    "chart = bars + line\n",
    "chart.show()\n",
    "\n",
    "\n"
   ]
  },
  {
   "cell_type": "markdown",
   "id": "2bc463a6",
   "metadata": {},
   "source": [
    "**Snowpark Stored Procedures vs User-Defined Functions**\n",
    "\n",
    "_In general, if you're processing a large dataset in a way where each row/batch can be processed independently - UDFs are always better, because the processing is automatically parallelized/scaled across the warehouse. For example, if you already have a trained ML model, and you're doing inference using that model on billions of rows. In that case, each row/batch can be computed independently._\n",
    "\n",
    "_If the use case requires the full dataset to be in-memory (e.g. ML training), then a stored procedure is the way to go. A stored procedure is just a Python program that runs on a single warehouse node. (With a UDF it's not possible to load the full dataset into memory because the processing is done in a streaming fashion, one batch at a time._"
   ]
  },
  {
   "cell_type": "markdown",
   "id": "25bd1089",
   "metadata": {},
   "source": [
    "### Automate Model (re)training using Snowflake Tasks - Example Only\n",
    "\n",
    "Here is an example of how to create a Snowflake (Serverless or User-managed) Task to automate (re)training of the model. For example, every hour."
   ]
  },
  {
   "cell_type": "code",
   "execution_count": null,
   "id": "ed96cd51",
   "metadata": {},
   "outputs": [],
   "source": [
    "#create_model_training_task = \"\"\"\n",
    "#CREATE OR REPLACE TASK sp_hourly_model_training_\n",
    "#   WAREHOUSE = 'YOUR_WH'\n",
    "#   SCHEDULE  = '60 MINUTE'\n",
    "#AS\n",
    "#   CALL train_revenue_prediction_model_('MARKETING_BUDGETS_FEATURES',10,2,0.85,0.85,True)\n",
    "#\"\"\"\n",
    "#session.sql(create_model_training_task).collect()\n",
    "\n",
    "#session.sql(\"alter task sp_hourly_model_training_ resume\").collect()"
   ]
  },
  {
   "cell_type": "markdown",
   "id": "f0f364a4",
   "metadata": {},
   "source": [
    "### Other Snowpark Resources\n",
    "\n",
    "Quick Start Guides\n",
    "\n",
    "* [Getting Started With Snowpark for Python and Streamlit](https://quickstarts.snowflake.com/guide/getting_started_with_snowpark_for_python_streamlit/index.html?index=..%2F..index#0)\n",
    "\n",
    "* [Getting Started With Snowpark Python](https://quickstarts.snowflake.com/guide/getting_started_with_snowpark_python/index.html?index=..%2F..index#0)\n",
    "\n",
    "* [Machine Learning with Snowpark Python](https://quickstarts.snowflake.com/guide/machine_learning_with_snowpark_python/index.html?index=..%2F..index#0)\n",
    "\n",
    "Videos: Snowpark | A Look Under The Hood \n",
    "\n",
    "* [Snowpark API](https://www.youtube.com/watch?v=Me2auWdhlKk)\n",
    "\n",
    "* [Snowpark User-Defined Functions (UDFs)](https://www.youtube.com/watch?v=-W1aL8XwvkE)\n",
    "\n",
    "[Blogs on Medium](https://medium.com/snowflake/search?q=Snowpark)\n",
    "\n",
    "* [Deploy Custom UDFs Using GitHub Actions](https://medium.com/snowflake/deploying-custom-python-packages-from-github-to-snowflake-f0bb396480c7)\n",
    "\n",
    "* [Snowpark For Python Open Source: How I Contributed And So Can You](https://medium.com/snowflake/snowpark-for-python-open-source-how-i-contributed-and-so-can-you-7eb4baac355f)\n",
    "\n",
    "[Demos on GitHub](https://github.com/Snowflake-Labs/snowpark-python-demos)\n",
    "\n",
    "[Snowpark for Python Developer Guide](https://docs.snowflake.com/en/developer-guide/snowpark/python/index.html)\n"
   ]
  }
 ],
 "metadata": {
  "kernelspec": {
   "display_name": "snowpark_hol",
   "language": "python",
   "name": "python3"
  },
  "language_info": {
   "codemirror_mode": {
    "name": "ipython",
    "version": 3
   },
   "file_extension": ".py",
   "mimetype": "text/x-python",
   "name": "python",
   "nbconvert_exporter": "python",
   "pygments_lexer": "ipython3",
   "version": "3.8.16"
  },
  "papermill": {
   "default_parameters": {},
   "duration": 41.012855,
   "end_time": "2021-05-15T09:34:14.646782",
   "environment_variables": {},
   "exception": null,
   "input_path": "__notebook__.ipynb",
   "output_path": "__notebook__.ipynb",
   "parameters": {},
   "start_time": "2021-05-15T09:33:33.633927",
   "version": "2.3.3"
  },
  "vscode": {
   "interpreter": {
    "hash": "d27b5dbefa11b2bd4b22c83383b6f19c10d02a9cfb58700d51bac7eb46419be7"
   }
  },
  "widgets": {
   "application/vnd.jupyter.widget-state+json": {
    "state": {
     "03486abb248b48dcae43183c9ffb112a": {
      "model_module": "@jupyter-widgets/controls",
      "model_module_version": "1.5.0",
      "model_name": "DescriptionStyleModel",
      "state": {
       "_model_module": "@jupyter-widgets/controls",
       "_model_module_version": "1.5.0",
       "_model_name": "DescriptionStyleModel",
       "_view_count": null,
       "_view_module": "@jupyter-widgets/base",
       "_view_module_version": "1.2.0",
       "_view_name": "StyleView",
       "description_width": ""
      }
     },
     "0539c58479b749dd99898d49f43ebcef": {
      "model_module": "@jupyter-widgets/controls",
      "model_module_version": "1.5.0",
      "model_name": "FloatProgressModel",
      "state": {
       "_dom_classes": [],
       "_model_module": "@jupyter-widgets/controls",
       "_model_module_version": "1.5.0",
       "_model_name": "FloatProgressModel",
       "_view_count": null,
       "_view_module": "@jupyter-widgets/controls",
       "_view_module_version": "1.5.0",
       "_view_name": "ProgressView",
       "bar_style": "success",
       "description": "",
       "description_tooltip": null,
       "layout": "IPY_MODEL_d097f3c35ec644bfa231be2d2fd50129",
       "max": 1,
       "min": 0,
       "orientation": "horizontal",
       "style": "IPY_MODEL_0be3e122c58347b79c67cbdfc6939065",
       "value": 1
      }
     },
     "0be3e122c58347b79c67cbdfc6939065": {
      "model_module": "@jupyter-widgets/controls",
      "model_module_version": "1.5.0",
      "model_name": "ProgressStyleModel",
      "state": {
       "_model_module": "@jupyter-widgets/controls",
       "_model_module_version": "1.5.0",
       "_model_name": "ProgressStyleModel",
       "_view_count": null,
       "_view_module": "@jupyter-widgets/base",
       "_view_module_version": "1.2.0",
       "_view_name": "StyleView",
       "bar_color": null,
       "description_width": ""
      }
     },
     "0debf43d9ebe494fa0871bc085432a31": {
      "model_module": "@jupyter-widgets/controls",
      "model_module_version": "1.5.0",
      "model_name": "HBoxModel",
      "state": {
       "_dom_classes": [],
       "_model_module": "@jupyter-widgets/controls",
       "_model_module_version": "1.5.0",
       "_model_name": "HBoxModel",
       "_view_count": null,
       "_view_module": "@jupyter-widgets/controls",
       "_view_module_version": "1.5.0",
       "_view_name": "HBoxView",
       "box_style": "",
       "children": [
        "IPY_MODEL_7ea526b1e9bd43cdb270777b5f62a95e",
        "IPY_MODEL_0539c58479b749dd99898d49f43ebcef",
        "IPY_MODEL_5f80a955ced34cef86bc307a7a17ad50"
       ],
       "layout": "IPY_MODEL_4cea8ab8f6094c87a13a8b690c87c778"
      }
     },
     "106409d46bfe43f19cfedaa975ba2cc8": {
      "model_module": "@jupyter-widgets/controls",
      "model_module_version": "1.5.0",
      "model_name": "HBoxModel",
      "state": {
       "_dom_classes": [],
       "_model_module": "@jupyter-widgets/controls",
       "_model_module_version": "1.5.0",
       "_model_name": "HBoxModel",
       "_view_count": null,
       "_view_module": "@jupyter-widgets/controls",
       "_view_module_version": "1.5.0",
       "_view_name": "HBoxView",
       "box_style": "",
       "children": [
        "IPY_MODEL_79579de4686940fb87277980fb3b9033",
        "IPY_MODEL_1ee9a30ab6f14e9f890b0bc1aabad3db",
        "IPY_MODEL_60a533bb74804344b7e871fbf50d7630"
       ],
       "layout": "IPY_MODEL_b810367f103a4e4e9c5be322df67d4c9"
      }
     },
     "137e5d876fda44a481e04a46ce3d52c5": {
      "model_module": "@jupyter-widgets/base",
      "model_module_version": "1.2.0",
      "model_name": "LayoutModel",
      "state": {
       "_model_module": "@jupyter-widgets/base",
       "_model_module_version": "1.2.0",
       "_model_name": "LayoutModel",
       "_view_count": null,
       "_view_module": "@jupyter-widgets/base",
       "_view_module_version": "1.2.0",
       "_view_name": "LayoutView",
       "align_content": null,
       "align_items": null,
       "align_self": null,
       "border": null,
       "bottom": null,
       "display": null,
       "flex": null,
       "flex_flow": null,
       "grid_area": null,
       "grid_auto_columns": null,
       "grid_auto_flow": null,
       "grid_auto_rows": null,
       "grid_column": null,
       "grid_gap": null,
       "grid_row": null,
       "grid_template_areas": null,
       "grid_template_columns": null,
       "grid_template_rows": null,
       "height": null,
       "justify_content": null,
       "justify_items": null,
       "left": null,
       "margin": null,
       "max_height": null,
       "max_width": null,
       "min_height": null,
       "min_width": null,
       "object_fit": null,
       "object_position": null,
       "order": null,
       "overflow": null,
       "overflow_x": null,
       "overflow_y": null,
       "padding": null,
       "right": null,
       "top": null,
       "visibility": null,
       "width": null
      }
     },
     "1ee9a30ab6f14e9f890b0bc1aabad3db": {
      "model_module": "@jupyter-widgets/controls",
      "model_module_version": "1.5.0",
      "model_name": "FloatProgressModel",
      "state": {
       "_dom_classes": [],
       "_model_module": "@jupyter-widgets/controls",
       "_model_module_version": "1.5.0",
       "_model_name": "FloatProgressModel",
       "_view_count": null,
       "_view_module": "@jupyter-widgets/controls",
       "_view_module_version": "1.5.0",
       "_view_name": "ProgressView",
       "bar_style": "success",
       "description": "",
       "description_tooltip": null,
       "layout": "IPY_MODEL_896278c20baf49bc9483c86dbe28e6db",
       "max": 1,
       "min": 0,
       "orientation": "horizontal",
       "style": "IPY_MODEL_214ce6435877469e8aec9b089f0a5b2b",
       "value": 1
      }
     },
     "214ce6435877469e8aec9b089f0a5b2b": {
      "model_module": "@jupyter-widgets/controls",
      "model_module_version": "1.5.0",
      "model_name": "ProgressStyleModel",
      "state": {
       "_model_module": "@jupyter-widgets/controls",
       "_model_module_version": "1.5.0",
       "_model_name": "ProgressStyleModel",
       "_view_count": null,
       "_view_module": "@jupyter-widgets/base",
       "_view_module_version": "1.2.0",
       "_view_name": "StyleView",
       "bar_color": null,
       "description_width": ""
      }
     },
     "22828e38a6f84e388c66ed37fd49e1a3": {
      "model_module": "@jupyter-widgets/base",
      "model_module_version": "1.2.0",
      "model_name": "LayoutModel",
      "state": {
       "_model_module": "@jupyter-widgets/base",
       "_model_module_version": "1.2.0",
       "_model_name": "LayoutModel",
       "_view_count": null,
       "_view_module": "@jupyter-widgets/base",
       "_view_module_version": "1.2.0",
       "_view_name": "LayoutView",
       "align_content": null,
       "align_items": null,
       "align_self": null,
       "border": null,
       "bottom": null,
       "display": null,
       "flex": null,
       "flex_flow": null,
       "grid_area": null,
       "grid_auto_columns": null,
       "grid_auto_flow": null,
       "grid_auto_rows": null,
       "grid_column": null,
       "grid_gap": null,
       "grid_row": null,
       "grid_template_areas": null,
       "grid_template_columns": null,
       "grid_template_rows": null,
       "height": null,
       "justify_content": null,
       "justify_items": null,
       "left": null,
       "margin": null,
       "max_height": null,
       "max_width": null,
       "min_height": null,
       "min_width": null,
       "object_fit": null,
       "object_position": null,
       "order": null,
       "overflow": null,
       "overflow_x": null,
       "overflow_y": null,
       "padding": null,
       "right": null,
       "top": null,
       "visibility": null,
       "width": null
      }
     },
     "2476936f36354c0582cf209811858769": {
      "model_module": "@jupyter-widgets/controls",
      "model_module_version": "1.5.0",
      "model_name": "ProgressStyleModel",
      "state": {
       "_model_module": "@jupyter-widgets/controls",
       "_model_module_version": "1.5.0",
       "_model_name": "ProgressStyleModel",
       "_view_count": null,
       "_view_module": "@jupyter-widgets/base",
       "_view_module_version": "1.2.0",
       "_view_name": "StyleView",
       "bar_color": null,
       "description_width": ""
      }
     },
     "3047235624bd4df4b992d459afbad807": {
      "model_module": "@jupyter-widgets/base",
      "model_module_version": "1.2.0",
      "model_name": "LayoutModel",
      "state": {
       "_model_module": "@jupyter-widgets/base",
       "_model_module_version": "1.2.0",
       "_model_name": "LayoutModel",
       "_view_count": null,
       "_view_module": "@jupyter-widgets/base",
       "_view_module_version": "1.2.0",
       "_view_name": "LayoutView",
       "align_content": null,
       "align_items": null,
       "align_self": null,
       "border": null,
       "bottom": null,
       "display": null,
       "flex": null,
       "flex_flow": null,
       "grid_area": null,
       "grid_auto_columns": null,
       "grid_auto_flow": null,
       "grid_auto_rows": null,
       "grid_column": null,
       "grid_gap": null,
       "grid_row": null,
       "grid_template_areas": null,
       "grid_template_columns": null,
       "grid_template_rows": null,
       "height": null,
       "justify_content": null,
       "justify_items": null,
       "left": null,
       "margin": null,
       "max_height": null,
       "max_width": null,
       "min_height": null,
       "min_width": null,
       "object_fit": null,
       "object_position": null,
       "order": null,
       "overflow": null,
       "overflow_x": null,
       "overflow_y": null,
       "padding": null,
       "right": null,
       "top": null,
       "visibility": null,
       "width": null
      }
     },
     "3c0e879486d5463db0fa09977f4f5e7b": {
      "model_module": "@jupyter-widgets/base",
      "model_module_version": "1.2.0",
      "model_name": "LayoutModel",
      "state": {
       "_model_module": "@jupyter-widgets/base",
       "_model_module_version": "1.2.0",
       "_model_name": "LayoutModel",
       "_view_count": null,
       "_view_module": "@jupyter-widgets/base",
       "_view_module_version": "1.2.0",
       "_view_name": "LayoutView",
       "align_content": null,
       "align_items": null,
       "align_self": null,
       "border": null,
       "bottom": null,
       "display": null,
       "flex": null,
       "flex_flow": null,
       "grid_area": null,
       "grid_auto_columns": null,
       "grid_auto_flow": null,
       "grid_auto_rows": null,
       "grid_column": null,
       "grid_gap": null,
       "grid_row": null,
       "grid_template_areas": null,
       "grid_template_columns": null,
       "grid_template_rows": null,
       "height": null,
       "justify_content": null,
       "justify_items": null,
       "left": null,
       "margin": null,
       "max_height": null,
       "max_width": null,
       "min_height": null,
       "min_width": null,
       "object_fit": null,
       "object_position": null,
       "order": null,
       "overflow": null,
       "overflow_x": null,
       "overflow_y": null,
       "padding": null,
       "right": null,
       "top": null,
       "visibility": null,
       "width": null
      }
     },
     "421538af4b344eb285a1049283fceb43": {
      "model_module": "@jupyter-widgets/base",
      "model_module_version": "1.2.0",
      "model_name": "LayoutModel",
      "state": {
       "_model_module": "@jupyter-widgets/base",
       "_model_module_version": "1.2.0",
       "_model_name": "LayoutModel",
       "_view_count": null,
       "_view_module": "@jupyter-widgets/base",
       "_view_module_version": "1.2.0",
       "_view_name": "LayoutView",
       "align_content": null,
       "align_items": null,
       "align_self": null,
       "border": null,
       "bottom": null,
       "display": null,
       "flex": null,
       "flex_flow": null,
       "grid_area": null,
       "grid_auto_columns": null,
       "grid_auto_flow": null,
       "grid_auto_rows": null,
       "grid_column": null,
       "grid_gap": null,
       "grid_row": null,
       "grid_template_areas": null,
       "grid_template_columns": null,
       "grid_template_rows": null,
       "height": null,
       "justify_content": null,
       "justify_items": null,
       "left": null,
       "margin": null,
       "max_height": null,
       "max_width": null,
       "min_height": null,
       "min_width": null,
       "object_fit": null,
       "object_position": null,
       "order": null,
       "overflow": null,
       "overflow_x": null,
       "overflow_y": null,
       "padding": null,
       "right": null,
       "top": null,
       "visibility": null,
       "width": null
      }
     },
     "4cea8ab8f6094c87a13a8b690c87c778": {
      "model_module": "@jupyter-widgets/base",
      "model_module_version": "1.2.0",
      "model_name": "LayoutModel",
      "state": {
       "_model_module": "@jupyter-widgets/base",
       "_model_module_version": "1.2.0",
       "_model_name": "LayoutModel",
       "_view_count": null,
       "_view_module": "@jupyter-widgets/base",
       "_view_module_version": "1.2.0",
       "_view_name": "LayoutView",
       "align_content": null,
       "align_items": null,
       "align_self": null,
       "border": null,
       "bottom": null,
       "display": null,
       "flex": null,
       "flex_flow": null,
       "grid_area": null,
       "grid_auto_columns": null,
       "grid_auto_flow": null,
       "grid_auto_rows": null,
       "grid_column": null,
       "grid_gap": null,
       "grid_row": null,
       "grid_template_areas": null,
       "grid_template_columns": null,
       "grid_template_rows": null,
       "height": null,
       "justify_content": null,
       "justify_items": null,
       "left": null,
       "margin": null,
       "max_height": null,
       "max_width": null,
       "min_height": null,
       "min_width": null,
       "object_fit": null,
       "object_position": null,
       "order": null,
       "overflow": null,
       "overflow_x": null,
       "overflow_y": null,
       "padding": null,
       "right": null,
       "top": null,
       "visibility": null,
       "width": null
      }
     },
     "59f46be901ef49cea5e361a23bc258f0": {
      "model_module": "@jupyter-widgets/base",
      "model_module_version": "1.2.0",
      "model_name": "LayoutModel",
      "state": {
       "_model_module": "@jupyter-widgets/base",
       "_model_module_version": "1.2.0",
       "_model_name": "LayoutModel",
       "_view_count": null,
       "_view_module": "@jupyter-widgets/base",
       "_view_module_version": "1.2.0",
       "_view_name": "LayoutView",
       "align_content": null,
       "align_items": null,
       "align_self": null,
       "border": null,
       "bottom": null,
       "display": null,
       "flex": null,
       "flex_flow": null,
       "grid_area": null,
       "grid_auto_columns": null,
       "grid_auto_flow": null,
       "grid_auto_rows": null,
       "grid_column": null,
       "grid_gap": null,
       "grid_row": null,
       "grid_template_areas": null,
       "grid_template_columns": null,
       "grid_template_rows": null,
       "height": null,
       "justify_content": null,
       "justify_items": null,
       "left": null,
       "margin": null,
       "max_height": null,
       "max_width": null,
       "min_height": null,
       "min_width": null,
       "object_fit": null,
       "object_position": null,
       "order": null,
       "overflow": null,
       "overflow_x": null,
       "overflow_y": null,
       "padding": null,
       "right": null,
       "top": null,
       "visibility": null,
       "width": null
      }
     },
     "5f80a955ced34cef86bc307a7a17ad50": {
      "model_module": "@jupyter-widgets/controls",
      "model_module_version": "1.5.0",
      "model_name": "HTMLModel",
      "state": {
       "_dom_classes": [],
       "_model_module": "@jupyter-widgets/controls",
       "_model_module_version": "1.5.0",
       "_model_name": "HTMLModel",
       "_view_count": null,
       "_view_module": "@jupyter-widgets/controls",
       "_view_module_version": "1.5.0",
       "_view_name": "HTMLView",
       "description": "",
       "description_tooltip": null,
       "layout": "IPY_MODEL_c800f4d86d7f4cb595f97bdd36d14c8f",
       "placeholder": "​",
       "style": "IPY_MODEL_ebd7ac3b623a410a88be5c4d72e48986",
       "value": " 1/1 [00:00&lt;00:00,  1.66it/s]"
      }
     },
     "5faebb75f07148fca515e5e4d72a9e26": {
      "model_module": "@jupyter-widgets/base",
      "model_module_version": "1.2.0",
      "model_name": "LayoutModel",
      "state": {
       "_model_module": "@jupyter-widgets/base",
       "_model_module_version": "1.2.0",
       "_model_name": "LayoutModel",
       "_view_count": null,
       "_view_module": "@jupyter-widgets/base",
       "_view_module_version": "1.2.0",
       "_view_name": "LayoutView",
       "align_content": null,
       "align_items": null,
       "align_self": null,
       "border": null,
       "bottom": null,
       "display": null,
       "flex": null,
       "flex_flow": null,
       "grid_area": null,
       "grid_auto_columns": null,
       "grid_auto_flow": null,
       "grid_auto_rows": null,
       "grid_column": null,
       "grid_gap": null,
       "grid_row": null,
       "grid_template_areas": null,
       "grid_template_columns": null,
       "grid_template_rows": null,
       "height": null,
       "justify_content": null,
       "justify_items": null,
       "left": null,
       "margin": null,
       "max_height": null,
       "max_width": null,
       "min_height": null,
       "min_width": null,
       "object_fit": null,
       "object_position": null,
       "order": null,
       "overflow": null,
       "overflow_x": null,
       "overflow_y": null,
       "padding": null,
       "right": null,
       "top": null,
       "visibility": null,
       "width": null
      }
     },
     "60a533bb74804344b7e871fbf50d7630": {
      "model_module": "@jupyter-widgets/controls",
      "model_module_version": "1.5.0",
      "model_name": "HTMLModel",
      "state": {
       "_dom_classes": [],
       "_model_module": "@jupyter-widgets/controls",
       "_model_module_version": "1.5.0",
       "_model_name": "HTMLModel",
       "_view_count": null,
       "_view_module": "@jupyter-widgets/controls",
       "_view_module_version": "1.5.0",
       "_view_name": "HTMLView",
       "description": "",
       "description_tooltip": null,
       "layout": "IPY_MODEL_3c0e879486d5463db0fa09977f4f5e7b",
       "placeholder": "​",
       "style": "IPY_MODEL_98f6f531ccd643d09a69140d13b76379",
       "value": " 1/1 [00:02&lt;00:00,  2.40s/it]"
      }
     },
     "6379beb1c16740269e13f8731b3b5f8b": {
      "model_module": "@jupyter-widgets/controls",
      "model_module_version": "1.5.0",
      "model_name": "HBoxModel",
      "state": {
       "_dom_classes": [],
       "_model_module": "@jupyter-widgets/controls",
       "_model_module_version": "1.5.0",
       "_model_name": "HBoxModel",
       "_view_count": null,
       "_view_module": "@jupyter-widgets/controls",
       "_view_module_version": "1.5.0",
       "_view_name": "HBoxView",
       "box_style": "",
       "children": [
        "IPY_MODEL_837225552aef4717b0ab001ff292f72d",
        "IPY_MODEL_997750a67ac645548adf9d6cc5a2c1dd",
        "IPY_MODEL_bd972d756dfe46978be7bb973f690392"
       ],
       "layout": "IPY_MODEL_ab6133b8ef4f45cfa84344f070d4447f"
      }
     },
     "731d09ee1159493095283eac20e86c4d": {
      "model_module": "@jupyter-widgets/controls",
      "model_module_version": "1.5.0",
      "model_name": "FloatProgressModel",
      "state": {
       "_dom_classes": [],
       "_model_module": "@jupyter-widgets/controls",
       "_model_module_version": "1.5.0",
       "_model_name": "FloatProgressModel",
       "_view_count": null,
       "_view_module": "@jupyter-widgets/controls",
       "_view_module_version": "1.5.0",
       "_view_name": "ProgressView",
       "bar_style": "success",
       "description": "",
       "description_tooltip": null,
       "layout": "IPY_MODEL_5faebb75f07148fca515e5e4d72a9e26",
       "max": 17,
       "min": 0,
       "orientation": "horizontal",
       "style": "IPY_MODEL_2476936f36354c0582cf209811858769",
       "value": 17
      }
     },
     "74d2f123669f4151bf9fd59456f355ba": {
      "model_module": "@jupyter-widgets/controls",
      "model_module_version": "1.5.0",
      "model_name": "HBoxModel",
      "state": {
       "_dom_classes": [],
       "_model_module": "@jupyter-widgets/controls",
       "_model_module_version": "1.5.0",
       "_model_name": "HBoxModel",
       "_view_count": null,
       "_view_module": "@jupyter-widgets/controls",
       "_view_module_version": "1.5.0",
       "_view_name": "HBoxView",
       "box_style": "",
       "children": [
        "IPY_MODEL_a06bfab18f1d49a6a4c0a87c360992c8",
        "IPY_MODEL_731d09ee1159493095283eac20e86c4d",
        "IPY_MODEL_cbd80b044afc4e96b1667ab76a3a1f74"
       ],
       "layout": "IPY_MODEL_7a11aa9b2ecb445a8fc14cc89f06ea13"
      }
     },
     "79579de4686940fb87277980fb3b9033": {
      "model_module": "@jupyter-widgets/controls",
      "model_module_version": "1.5.0",
      "model_name": "HTMLModel",
      "state": {
       "_dom_classes": [],
       "_model_module": "@jupyter-widgets/controls",
       "_model_module_version": "1.5.0",
       "_model_name": "HTMLModel",
       "_view_count": null,
       "_view_module": "@jupyter-widgets/controls",
       "_view_module_version": "1.5.0",
       "_view_name": "HTMLView",
       "description": "",
       "description_tooltip": null,
       "layout": "IPY_MODEL_b0c4c0c11c45494db725902cd5bfb08c",
       "placeholder": "​",
       "style": "IPY_MODEL_f53f890fe98e493a96efcc400345b6b2",
       "value": "Generate report structure: 100%"
      }
     },
     "7a11aa9b2ecb445a8fc14cc89f06ea13": {
      "model_module": "@jupyter-widgets/base",
      "model_module_version": "1.2.0",
      "model_name": "LayoutModel",
      "state": {
       "_model_module": "@jupyter-widgets/base",
       "_model_module_version": "1.2.0",
       "_model_name": "LayoutModel",
       "_view_count": null,
       "_view_module": "@jupyter-widgets/base",
       "_view_module_version": "1.2.0",
       "_view_name": "LayoutView",
       "align_content": null,
       "align_items": null,
       "align_self": null,
       "border": null,
       "bottom": null,
       "display": null,
       "flex": null,
       "flex_flow": null,
       "grid_area": null,
       "grid_auto_columns": null,
       "grid_auto_flow": null,
       "grid_auto_rows": null,
       "grid_column": null,
       "grid_gap": null,
       "grid_row": null,
       "grid_template_areas": null,
       "grid_template_columns": null,
       "grid_template_rows": null,
       "height": null,
       "justify_content": null,
       "justify_items": null,
       "left": null,
       "margin": null,
       "max_height": null,
       "max_width": null,
       "min_height": null,
       "min_width": null,
       "object_fit": null,
       "object_position": null,
       "order": null,
       "overflow": null,
       "overflow_x": null,
       "overflow_y": null,
       "padding": null,
       "right": null,
       "top": null,
       "visibility": null,
       "width": null
      }
     },
     "7ea526b1e9bd43cdb270777b5f62a95e": {
      "model_module": "@jupyter-widgets/controls",
      "model_module_version": "1.5.0",
      "model_name": "HTMLModel",
      "state": {
       "_dom_classes": [],
       "_model_module": "@jupyter-widgets/controls",
       "_model_module_version": "1.5.0",
       "_model_name": "HTMLModel",
       "_view_count": null,
       "_view_module": "@jupyter-widgets/controls",
       "_view_module_version": "1.5.0",
       "_view_name": "HTMLView",
       "description": "",
       "description_tooltip": null,
       "layout": "IPY_MODEL_ca8a709aac3f4afe9aac06b72112076f",
       "placeholder": "​",
       "style": "IPY_MODEL_c33355f13dfd4f4599031ef8f8db5f53",
       "value": "Render HTML: 100%"
      }
     },
     "837225552aef4717b0ab001ff292f72d": {
      "model_module": "@jupyter-widgets/controls",
      "model_module_version": "1.5.0",
      "model_name": "HTMLModel",
      "state": {
       "_dom_classes": [],
       "_model_module": "@jupyter-widgets/controls",
       "_model_module_version": "1.5.0",
       "_model_name": "HTMLModel",
       "_view_count": null,
       "_view_module": "@jupyter-widgets/controls",
       "_view_module_version": "1.5.0",
       "_view_name": "HTMLView",
       "description": "",
       "description_tooltip": null,
       "layout": "IPY_MODEL_59f46be901ef49cea5e361a23bc258f0",
       "placeholder": "​",
       "style": "IPY_MODEL_a4c35dfafabb40199a5c4c0ce5a14b0c",
       "value": "Export report to file: 100%"
      }
     },
     "896278c20baf49bc9483c86dbe28e6db": {
      "model_module": "@jupyter-widgets/base",
      "model_module_version": "1.2.0",
      "model_name": "LayoutModel",
      "state": {
       "_model_module": "@jupyter-widgets/base",
       "_model_module_version": "1.2.0",
       "_model_name": "LayoutModel",
       "_view_count": null,
       "_view_module": "@jupyter-widgets/base",
       "_view_module_version": "1.2.0",
       "_view_name": "LayoutView",
       "align_content": null,
       "align_items": null,
       "align_self": null,
       "border": null,
       "bottom": null,
       "display": null,
       "flex": null,
       "flex_flow": null,
       "grid_area": null,
       "grid_auto_columns": null,
       "grid_auto_flow": null,
       "grid_auto_rows": null,
       "grid_column": null,
       "grid_gap": null,
       "grid_row": null,
       "grid_template_areas": null,
       "grid_template_columns": null,
       "grid_template_rows": null,
       "height": null,
       "justify_content": null,
       "justify_items": null,
       "left": null,
       "margin": null,
       "max_height": null,
       "max_width": null,
       "min_height": null,
       "min_width": null,
       "object_fit": null,
       "object_position": null,
       "order": null,
       "overflow": null,
       "overflow_x": null,
       "overflow_y": null,
       "padding": null,
       "right": null,
       "top": null,
       "visibility": null,
       "width": null
      }
     },
     "98f6f531ccd643d09a69140d13b76379": {
      "model_module": "@jupyter-widgets/controls",
      "model_module_version": "1.5.0",
      "model_name": "DescriptionStyleModel",
      "state": {
       "_model_module": "@jupyter-widgets/controls",
       "_model_module_version": "1.5.0",
       "_model_name": "DescriptionStyleModel",
       "_view_count": null,
       "_view_module": "@jupyter-widgets/base",
       "_view_module_version": "1.2.0",
       "_view_name": "StyleView",
       "description_width": ""
      }
     },
     "997750a67ac645548adf9d6cc5a2c1dd": {
      "model_module": "@jupyter-widgets/controls",
      "model_module_version": "1.5.0",
      "model_name": "FloatProgressModel",
      "state": {
       "_dom_classes": [],
       "_model_module": "@jupyter-widgets/controls",
       "_model_module_version": "1.5.0",
       "_model_name": "FloatProgressModel",
       "_view_count": null,
       "_view_module": "@jupyter-widgets/controls",
       "_view_module_version": "1.5.0",
       "_view_name": "ProgressView",
       "bar_style": "success",
       "description": "",
       "description_tooltip": null,
       "layout": "IPY_MODEL_3047235624bd4df4b992d459afbad807",
       "max": 1,
       "min": 0,
       "orientation": "horizontal",
       "style": "IPY_MODEL_f71a3435837f4fdd8eee21023f928dc2",
       "value": 1
      }
     },
     "a06bfab18f1d49a6a4c0a87c360992c8": {
      "model_module": "@jupyter-widgets/controls",
      "model_module_version": "1.5.0",
      "model_name": "HTMLModel",
      "state": {
       "_dom_classes": [],
       "_model_module": "@jupyter-widgets/controls",
       "_model_module_version": "1.5.0",
       "_model_name": "HTMLModel",
       "_view_count": null,
       "_view_module": "@jupyter-widgets/controls",
       "_view_module_version": "1.5.0",
       "_view_name": "HTMLView",
       "description": "",
       "description_tooltip": null,
       "layout": "IPY_MODEL_137e5d876fda44a481e04a46ce3d52c5",
       "placeholder": "​",
       "style": "IPY_MODEL_a757f29997924f8d97c5b33d53a151cd",
       "value": "Summarize dataset: 100%"
      }
     },
     "a4c35dfafabb40199a5c4c0ce5a14b0c": {
      "model_module": "@jupyter-widgets/controls",
      "model_module_version": "1.5.0",
      "model_name": "DescriptionStyleModel",
      "state": {
       "_model_module": "@jupyter-widgets/controls",
       "_model_module_version": "1.5.0",
       "_model_name": "DescriptionStyleModel",
       "_view_count": null,
       "_view_module": "@jupyter-widgets/base",
       "_view_module_version": "1.2.0",
       "_view_name": "StyleView",
       "description_width": ""
      }
     },
     "a757f29997924f8d97c5b33d53a151cd": {
      "model_module": "@jupyter-widgets/controls",
      "model_module_version": "1.5.0",
      "model_name": "DescriptionStyleModel",
      "state": {
       "_model_module": "@jupyter-widgets/controls",
       "_model_module_version": "1.5.0",
       "_model_name": "DescriptionStyleModel",
       "_view_count": null,
       "_view_module": "@jupyter-widgets/base",
       "_view_module_version": "1.2.0",
       "_view_name": "StyleView",
       "description_width": ""
      }
     },
     "ab6133b8ef4f45cfa84344f070d4447f": {
      "model_module": "@jupyter-widgets/base",
      "model_module_version": "1.2.0",
      "model_name": "LayoutModel",
      "state": {
       "_model_module": "@jupyter-widgets/base",
       "_model_module_version": "1.2.0",
       "_model_name": "LayoutModel",
       "_view_count": null,
       "_view_module": "@jupyter-widgets/base",
       "_view_module_version": "1.2.0",
       "_view_name": "LayoutView",
       "align_content": null,
       "align_items": null,
       "align_self": null,
       "border": null,
       "bottom": null,
       "display": null,
       "flex": null,
       "flex_flow": null,
       "grid_area": null,
       "grid_auto_columns": null,
       "grid_auto_flow": null,
       "grid_auto_rows": null,
       "grid_column": null,
       "grid_gap": null,
       "grid_row": null,
       "grid_template_areas": null,
       "grid_template_columns": null,
       "grid_template_rows": null,
       "height": null,
       "justify_content": null,
       "justify_items": null,
       "left": null,
       "margin": null,
       "max_height": null,
       "max_width": null,
       "min_height": null,
       "min_width": null,
       "object_fit": null,
       "object_position": null,
       "order": null,
       "overflow": null,
       "overflow_x": null,
       "overflow_y": null,
       "padding": null,
       "right": null,
       "top": null,
       "visibility": null,
       "width": null
      }
     },
     "b0c4c0c11c45494db725902cd5bfb08c": {
      "model_module": "@jupyter-widgets/base",
      "model_module_version": "1.2.0",
      "model_name": "LayoutModel",
      "state": {
       "_model_module": "@jupyter-widgets/base",
       "_model_module_version": "1.2.0",
       "_model_name": "LayoutModel",
       "_view_count": null,
       "_view_module": "@jupyter-widgets/base",
       "_view_module_version": "1.2.0",
       "_view_name": "LayoutView",
       "align_content": null,
       "align_items": null,
       "align_self": null,
       "border": null,
       "bottom": null,
       "display": null,
       "flex": null,
       "flex_flow": null,
       "grid_area": null,
       "grid_auto_columns": null,
       "grid_auto_flow": null,
       "grid_auto_rows": null,
       "grid_column": null,
       "grid_gap": null,
       "grid_row": null,
       "grid_template_areas": null,
       "grid_template_columns": null,
       "grid_template_rows": null,
       "height": null,
       "justify_content": null,
       "justify_items": null,
       "left": null,
       "margin": null,
       "max_height": null,
       "max_width": null,
       "min_height": null,
       "min_width": null,
       "object_fit": null,
       "object_position": null,
       "order": null,
       "overflow": null,
       "overflow_x": null,
       "overflow_y": null,
       "padding": null,
       "right": null,
       "top": null,
       "visibility": null,
       "width": null
      }
     },
     "b810367f103a4e4e9c5be322df67d4c9": {
      "model_module": "@jupyter-widgets/base",
      "model_module_version": "1.2.0",
      "model_name": "LayoutModel",
      "state": {
       "_model_module": "@jupyter-widgets/base",
       "_model_module_version": "1.2.0",
       "_model_name": "LayoutModel",
       "_view_count": null,
       "_view_module": "@jupyter-widgets/base",
       "_view_module_version": "1.2.0",
       "_view_name": "LayoutView",
       "align_content": null,
       "align_items": null,
       "align_self": null,
       "border": null,
       "bottom": null,
       "display": null,
       "flex": null,
       "flex_flow": null,
       "grid_area": null,
       "grid_auto_columns": null,
       "grid_auto_flow": null,
       "grid_auto_rows": null,
       "grid_column": null,
       "grid_gap": null,
       "grid_row": null,
       "grid_template_areas": null,
       "grid_template_columns": null,
       "grid_template_rows": null,
       "height": null,
       "justify_content": null,
       "justify_items": null,
       "left": null,
       "margin": null,
       "max_height": null,
       "max_width": null,
       "min_height": null,
       "min_width": null,
       "object_fit": null,
       "object_position": null,
       "order": null,
       "overflow": null,
       "overflow_x": null,
       "overflow_y": null,
       "padding": null,
       "right": null,
       "top": null,
       "visibility": null,
       "width": null
      }
     },
     "bd972d756dfe46978be7bb973f690392": {
      "model_module": "@jupyter-widgets/controls",
      "model_module_version": "1.5.0",
      "model_name": "HTMLModel",
      "state": {
       "_dom_classes": [],
       "_model_module": "@jupyter-widgets/controls",
       "_model_module_version": "1.5.0",
       "_model_name": "HTMLModel",
       "_view_count": null,
       "_view_module": "@jupyter-widgets/controls",
       "_view_module_version": "1.5.0",
       "_view_name": "HTMLView",
       "description": "",
       "description_tooltip": null,
       "layout": "IPY_MODEL_22828e38a6f84e388c66ed37fd49e1a3",
       "placeholder": "​",
       "style": "IPY_MODEL_ca9b1619f3f348178c14a36e88ae3d9b",
       "value": " 1/1 [00:00&lt;00:00, 33.29it/s]"
      }
     },
     "c33355f13dfd4f4599031ef8f8db5f53": {
      "model_module": "@jupyter-widgets/controls",
      "model_module_version": "1.5.0",
      "model_name": "DescriptionStyleModel",
      "state": {
       "_model_module": "@jupyter-widgets/controls",
       "_model_module_version": "1.5.0",
       "_model_name": "DescriptionStyleModel",
       "_view_count": null,
       "_view_module": "@jupyter-widgets/base",
       "_view_module_version": "1.2.0",
       "_view_name": "StyleView",
       "description_width": ""
      }
     },
     "c800f4d86d7f4cb595f97bdd36d14c8f": {
      "model_module": "@jupyter-widgets/base",
      "model_module_version": "1.2.0",
      "model_name": "LayoutModel",
      "state": {
       "_model_module": "@jupyter-widgets/base",
       "_model_module_version": "1.2.0",
       "_model_name": "LayoutModel",
       "_view_count": null,
       "_view_module": "@jupyter-widgets/base",
       "_view_module_version": "1.2.0",
       "_view_name": "LayoutView",
       "align_content": null,
       "align_items": null,
       "align_self": null,
       "border": null,
       "bottom": null,
       "display": null,
       "flex": null,
       "flex_flow": null,
       "grid_area": null,
       "grid_auto_columns": null,
       "grid_auto_flow": null,
       "grid_auto_rows": null,
       "grid_column": null,
       "grid_gap": null,
       "grid_row": null,
       "grid_template_areas": null,
       "grid_template_columns": null,
       "grid_template_rows": null,
       "height": null,
       "justify_content": null,
       "justify_items": null,
       "left": null,
       "margin": null,
       "max_height": null,
       "max_width": null,
       "min_height": null,
       "min_width": null,
       "object_fit": null,
       "object_position": null,
       "order": null,
       "overflow": null,
       "overflow_x": null,
       "overflow_y": null,
       "padding": null,
       "right": null,
       "top": null,
       "visibility": null,
       "width": null
      }
     },
     "ca8a709aac3f4afe9aac06b72112076f": {
      "model_module": "@jupyter-widgets/base",
      "model_module_version": "1.2.0",
      "model_name": "LayoutModel",
      "state": {
       "_model_module": "@jupyter-widgets/base",
       "_model_module_version": "1.2.0",
       "_model_name": "LayoutModel",
       "_view_count": null,
       "_view_module": "@jupyter-widgets/base",
       "_view_module_version": "1.2.0",
       "_view_name": "LayoutView",
       "align_content": null,
       "align_items": null,
       "align_self": null,
       "border": null,
       "bottom": null,
       "display": null,
       "flex": null,
       "flex_flow": null,
       "grid_area": null,
       "grid_auto_columns": null,
       "grid_auto_flow": null,
       "grid_auto_rows": null,
       "grid_column": null,
       "grid_gap": null,
       "grid_row": null,
       "grid_template_areas": null,
       "grid_template_columns": null,
       "grid_template_rows": null,
       "height": null,
       "justify_content": null,
       "justify_items": null,
       "left": null,
       "margin": null,
       "max_height": null,
       "max_width": null,
       "min_height": null,
       "min_width": null,
       "object_fit": null,
       "object_position": null,
       "order": null,
       "overflow": null,
       "overflow_x": null,
       "overflow_y": null,
       "padding": null,
       "right": null,
       "top": null,
       "visibility": null,
       "width": null
      }
     },
     "ca9b1619f3f348178c14a36e88ae3d9b": {
      "model_module": "@jupyter-widgets/controls",
      "model_module_version": "1.5.0",
      "model_name": "DescriptionStyleModel",
      "state": {
       "_model_module": "@jupyter-widgets/controls",
       "_model_module_version": "1.5.0",
       "_model_name": "DescriptionStyleModel",
       "_view_count": null,
       "_view_module": "@jupyter-widgets/base",
       "_view_module_version": "1.2.0",
       "_view_name": "StyleView",
       "description_width": ""
      }
     },
     "cbd80b044afc4e96b1667ab76a3a1f74": {
      "model_module": "@jupyter-widgets/controls",
      "model_module_version": "1.5.0",
      "model_name": "HTMLModel",
      "state": {
       "_dom_classes": [],
       "_model_module": "@jupyter-widgets/controls",
       "_model_module_version": "1.5.0",
       "_model_name": "HTMLModel",
       "_view_count": null,
       "_view_module": "@jupyter-widgets/controls",
       "_view_module_version": "1.5.0",
       "_view_name": "HTMLView",
       "description": "",
       "description_tooltip": null,
       "layout": "IPY_MODEL_421538af4b344eb285a1049283fceb43",
       "placeholder": "​",
       "style": "IPY_MODEL_03486abb248b48dcae43183c9ffb112a",
       "value": " 17/17 [00:05&lt;00:00,  2.09it/s, Completed]"
      }
     },
     "d097f3c35ec644bfa231be2d2fd50129": {
      "model_module": "@jupyter-widgets/base",
      "model_module_version": "1.2.0",
      "model_name": "LayoutModel",
      "state": {
       "_model_module": "@jupyter-widgets/base",
       "_model_module_version": "1.2.0",
       "_model_name": "LayoutModel",
       "_view_count": null,
       "_view_module": "@jupyter-widgets/base",
       "_view_module_version": "1.2.0",
       "_view_name": "LayoutView",
       "align_content": null,
       "align_items": null,
       "align_self": null,
       "border": null,
       "bottom": null,
       "display": null,
       "flex": null,
       "flex_flow": null,
       "grid_area": null,
       "grid_auto_columns": null,
       "grid_auto_flow": null,
       "grid_auto_rows": null,
       "grid_column": null,
       "grid_gap": null,
       "grid_row": null,
       "grid_template_areas": null,
       "grid_template_columns": null,
       "grid_template_rows": null,
       "height": null,
       "justify_content": null,
       "justify_items": null,
       "left": null,
       "margin": null,
       "max_height": null,
       "max_width": null,
       "min_height": null,
       "min_width": null,
       "object_fit": null,
       "object_position": null,
       "order": null,
       "overflow": null,
       "overflow_x": null,
       "overflow_y": null,
       "padding": null,
       "right": null,
       "top": null,
       "visibility": null,
       "width": null
      }
     },
     "ebd7ac3b623a410a88be5c4d72e48986": {
      "model_module": "@jupyter-widgets/controls",
      "model_module_version": "1.5.0",
      "model_name": "DescriptionStyleModel",
      "state": {
       "_model_module": "@jupyter-widgets/controls",
       "_model_module_version": "1.5.0",
       "_model_name": "DescriptionStyleModel",
       "_view_count": null,
       "_view_module": "@jupyter-widgets/base",
       "_view_module_version": "1.2.0",
       "_view_name": "StyleView",
       "description_width": ""
      }
     },
     "f53f890fe98e493a96efcc400345b6b2": {
      "model_module": "@jupyter-widgets/controls",
      "model_module_version": "1.5.0",
      "model_name": "DescriptionStyleModel",
      "state": {
       "_model_module": "@jupyter-widgets/controls",
       "_model_module_version": "1.5.0",
       "_model_name": "DescriptionStyleModel",
       "_view_count": null,
       "_view_module": "@jupyter-widgets/base",
       "_view_module_version": "1.2.0",
       "_view_name": "StyleView",
       "description_width": ""
      }
     },
     "f71a3435837f4fdd8eee21023f928dc2": {
      "model_module": "@jupyter-widgets/controls",
      "model_module_version": "1.5.0",
      "model_name": "ProgressStyleModel",
      "state": {
       "_model_module": "@jupyter-widgets/controls",
       "_model_module_version": "1.5.0",
       "_model_name": "ProgressStyleModel",
       "_view_count": null,
       "_view_module": "@jupyter-widgets/base",
       "_view_module_version": "1.2.0",
       "_view_name": "StyleView",
       "bar_color": null,
       "description_width": ""
      }
     }
    },
    "version_major": 2,
    "version_minor": 0
   }
  }
 },
 "nbformat": 4,
 "nbformat_minor": 5
}
