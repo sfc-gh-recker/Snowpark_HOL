{
 "cells": [
  {
   "cell_type": "code",
   "execution_count": 16,
   "metadata": {},
   "outputs": [],
   "source": [
    "# Snowpark for Python\n",
    "from snowflake.snowpark.session import Session\n",
    "import snowflake.snowpark.functions as F\n",
    "from snowflake.snowpark.version import VERSION\n",
    "from snowflake.snowpark.functions import col\n",
    "from snowflake.snowpark.types import IntegerType\n",
    "\n",
    "# Misc\n",
    "import json\n",
    "import sys\n",
    "import logging\n",
    "\n",
    "import numpy as np\n",
    "import plotly.express as px\n",
    "\n",
    "logger = logging.getLogger(\"snowflake.snowpark.session\")\n",
    "logger.setLevel(logging.ERROR)"
   ]
  },
  {
   "cell_type": "code",
   "execution_count": 17,
   "metadata": {},
   "outputs": [
    {
     "name": "stdout",
     "output_type": "stream",
     "text": [
      "User: JOHN\n",
      "Role: SNOWPARK_WORKSHOP_ROLE\n",
      "Database: DB_SNOWPARK_HOL\n",
      "Snowflake version: 7.33.1\n",
      "Schema: ROI_PREDICTION\n",
      "Warehouse: WH_SNOWPARK_HOL\n",
      "Snowpark for Python version: 1.4.0\n"
     ]
    }
   ],
   "source": [
    "#Test Code\n",
    "# Create Snowflake Session object\n",
    "connection_parameters = json.load(open('connection.json'))\n",
    "session = Session.builder.configs(connection_parameters).create()\n",
    "#session.sql_simplifier_enabled = True\n",
    "\n",
    "#session.sql('use role snowpark_workshop_role').collect()\n",
    "session.sql('use warehouse wh_snowpark_hol').collect()\n",
    "#session.sql('use database DB_SNOWPARK_HOL').collect()\n",
    "#session.sql('use SCHEMA ROI_PREDICTION').collect()\n",
    "\n",
    "snowflake_environment = session.sql(\n",
    "    '''select\n",
    "        current_user()\n",
    "        ,current_role()\n",
    "        ,current_database()\n",
    "        ,current_schema()\n",
    "        ,current_version()\n",
    "        ,current_warehouse()'''\n",
    "    ).collect()\n",
    "\n",
    "snowpark_version = VERSION\n",
    "\n",
    "# Current Environment Details\n",
    "print(f'User: {snowflake_environment[0][0]}')\n",
    "print(f'Role: {snowflake_environment[0][1]}')\n",
    "print(f\"Database: {snowflake_environment[0][2]}\")\n",
    "print(f'Snowflake version: {snowflake_environment[0][4]}')\n",
    "print(f\"Schema: {snowflake_environment[0][3]}\")\n",
    "print(f\"Warehouse: {snowflake_environment[0][5]}\")\n",
    "print(f'Snowpark for Python version: {snowpark_version[0]}.{snowpark_version[1]}.{snowpark_version[2]}')\n"
   ]
  },
  {
   "cell_type": "code",
   "execution_count": 25,
   "metadata": {},
   "outputs": [
    {
     "name": "stdout",
     "output_type": "stream",
     "text": [
      "49\n",
      "<class 'int'>\n"
     ]
    }
   ],
   "source": [
    "\n",
    "#define basic function\n",
    "\n",
    "\n",
    "\n",
    "def add_and_square(session: Session, num1: int, num2: int):\n",
    "    sum_result = num1 + num2  # Adds the two input numbers\n",
    "    square_result = sum_result ** 2  # Squares the sum of the input numbers\n",
    "    return (square_result)  # Returns the squared result\n",
    "# Example of using the function\n",
    "result = add_and_square(Session, 3, 4)  # 7**2 = 49\n",
    "print(result)  # Prints: 49\n",
    "print(type(result))"
   ]
  },
  {
   "cell_type": "code",
   "execution_count": 26,
   "metadata": {},
   "outputs": [
    {
     "data": {
      "text/plain": [
       "<snowflake.snowpark.stored_procedure.StoredProcedure at 0x7f78d17efe50>"
      ]
     },
     "execution_count": 26,
     "metadata": {},
     "output_type": "execute_result"
    }
   ],
   "source": [
    "session.sproc.register(\n",
    "    func=add_and_square,\n",
    "    name=f\"add_and_square\",\n",
    "    packages=['snowflake-snowpark-python'],\n",
    "    return_type=IntegerType(),\n",
    "    is_permanent=True,\n",
    "    stage_location=\"@demo_sprocs\",\n",
    "    replace=True)"
   ]
  }
 ],
 "metadata": {
  "kernelspec": {
   "display_name": "snowpark_hol",
   "language": "python",
   "name": "python3"
  },
  "language_info": {
   "codemirror_mode": {
    "name": "ipython",
    "version": 3
   },
   "file_extension": ".py",
   "mimetype": "text/x-python",
   "name": "python",
   "nbconvert_exporter": "python",
   "pygments_lexer": "ipython3",
   "version": "3.8.16"
  },
  "orig_nbformat": 4,
  "vscode": {
   "interpreter": {
    "hash": "d27b5dbefa11b2bd4b22c83383b6f19c10d02a9cfb58700d51bac7eb46419be7"
   }
  }
 },
 "nbformat": 4,
 "nbformat_minor": 2
}
